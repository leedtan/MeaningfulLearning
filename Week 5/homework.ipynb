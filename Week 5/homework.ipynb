{
 "cells": [
  {
   "cell_type": "code",
   "execution_count": null,
   "metadata": {},
   "outputs": [],
   "source": [
    "# For this homework, we will explore the math behind linear regression\n",
    "# And explore how to implement it in clean code"
   ]
  },
  {
   "cell_type": "code",
   "execution_count": null,
   "metadata": {},
   "outputs": [],
   "source": [
    "# Our mathematical model is \n",
    "# Y = A * X\n",
    "\n",
    "# Our loss function is\n",
    "# mean((Yhat - Ytrue)**2) + lambda * mean(A ** 2)\n",
    "# See how our parameters A are penalized? The bigger the parameters, \n",
    "# The bigger the loss. And our choise of lambda (regularization) influences\n",
    "# How much our parameters are regularized.\n",
    "\n",
    "# Mathematically, lets split up our loss:\n",
    "# Loss = mse + reg\n",
    "# mse = mean((Yhat - Ytrue)**2)\n",
    "# reg = lambda * mean(A ** 2)\n",
    "# the derivitives are:\n",
    "# dmse/dyhat = yhat - ytrue\n",
    "# dreg/dA = A\n",
    "# dyhat/dA = X\n",
    "# dmse/dA = dmse/dyhat * dyhat/dA\n",
    "# dloss/dA = dmse/dA + dreg/dA"
   ]
  },
  {
   "cell_type": "code",
   "execution_count": null,
   "metadata": {},
   "outputs": [],
   "source": [
    "# Choose your dataset size\n",
    "import numpy as np\n",
    "n_data, n_features = 100, 10\n",
    "epochs = 1000\n",
    "reg_lambda = 100.\n",
    "lr = .00001\n",
    "x = np.random.rand(n_data, n_features)\n",
    "y = x.sum(1)\n",
    "model_A = np.zeros(n_features)\n",
    "losses = []"
   ]
  },
  {
   "cell_type": "code",
   "execution_count": null,
   "metadata": {},
   "outputs": [],
   "source": [
    "# Please implement training of a linear regression model below, implementing the mathematical optimization procedure \n",
    "# Described above"
   ]
  },
  {
   "cell_type": "code",
   "execution_count": null,
   "metadata": {},
   "outputs": [],
   "source": [
    "for _ in range(epochs):\n",
    "    yhat = # Calculate yhat\n",
    "    mse = # Calculate our error\n",
    "    # Add our error to the array of losses\n",
    "    reg_loss = # Calculate the loss from our regularization term\n",
    "    loss = # Add our resularization loss to our mse to calculate our total loss\n",
    "    gradient_mse_yhat = # Calculate the gradient from mse to our predicted yhat\n",
    "    gradient_reg_A = # Calculate the gradient from our regularization loss to our model_A parameters\n",
    "    gradient_yhat_A = # Calculate the gradient from yhat to A\n",
    "    gradient_mse_A = # Calculate the gradient from msa to our model_A parameters\n",
    "    gradient_loss_A = # Calculate the gradient from our loss to A, totalled through mse and regularization\n",
    "    model_A = # Update the model parameters by gradient_loss_A and our learning rate"
   ]
  },
  {
   "cell_type": "code",
   "execution_count": null,
   "metadata": {
    "scrolled": true
   },
   "outputs": [],
   "source": [
    "model_A"
   ]
  },
  {
   "cell_type": "code",
   "execution_count": null,
   "metadata": {},
   "outputs": [],
   "source": []
  }
 ],
 "metadata": {
  "kernelspec": {
   "display_name": "Python 3",
   "language": "python",
   "name": "python3"
  },
  "language_info": {
   "codemirror_mode": {
    "name": "ipython",
    "version": 3
   },
   "file_extension": ".py",
   "mimetype": "text/x-python",
   "name": "python",
   "nbconvert_exporter": "python",
   "pygments_lexer": "ipython3",
   "version": "3.8.5"
  }
 },
 "nbformat": 4,
 "nbformat_minor": 4
}
