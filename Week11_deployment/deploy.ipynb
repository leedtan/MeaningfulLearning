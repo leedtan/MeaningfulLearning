{
 "cells": [
  {
   "cell_type": "code",
   "execution_count": 27,
   "metadata": {},
   "outputs": [],
   "source": [
    "import os\n",
    "if not os.path.isdir('templates'):\n",
    "    print('making dir')\n",
    "    os.mkdir('templates')\n",
    "if not os.path.isdir('static'):\n",
    "    print('making static dir')\n",
    "    os.mkdir('static')\n",
    "if not os.path.isdir(os.path.join('static', 'images')):\n",
    "    print('making images dir')\n",
    "    os.mkdir(os.path.join('static', 'images'))\n",
    "\n",
    "txt = '''<!DOCTYPE html>\n",
    "<html lang=\"en\">\n",
    "<head>\n",
    "    <title>Horse_or_Human</title>\n",
    "    <style>\n",
    "        h1{text-align:center;}\n",
    "    </style>\n",
    "</head>\n",
    "<body bgcolor='black' text='white'>\n",
    "<h1> \n",
    "<b>\n",
    "<font size=15 class=\"text-center\">\n",
    "Horse or Human Prediction Model using Convnet \n",
    "</font>\n",
    "</b>\n",
    "</h1>\n",
    "<div style=\"background-color:white\">\n",
    "<hr>\n",
    "<hr></div>\n",
    "<h2> Upload the image to predict!</h2>\n",
    "<form action=\"/\", method=\"post\", enctype=\"multipart/form-data\">\n",
    "  Upload the image :<input type=\"file\" name=\"imagefile\">\n",
    "  <p><input type=\"submit\" value=\"Predict image\"></p>\n",
    "</form>\n",
    "<img src=\"{{ user_image }}\" height=\"280px\" width=\"400px\">\n",
    "<p>\n",
    "<h2>\n",
    "<b> {{ prediction_text }}</b>\n",
    "</h2></p>\n",
    "</body>\n",
    "</html>'''\n",
    "with open(os.path.join('templates', 'index.html'), 'w') as f:\n",
    "    f.write(txt)"
   ]
  },
  {
   "cell_type": "code",
   "execution_count": 22,
   "metadata": {},
   "outputs": [],
   "source": [
    "import os\n",
    "if not os.path.isdir('templates'):\n",
    "    print('making dir')\n",
    "    os.mkdir('templates')\n",
    "if not os.path.isdir('static'):\n",
    "    print('making static dir')\n",
    "    os.mkdir('static')\n",
    "if not os.path.isdir(os.path.join('static', 'images')):\n",
    "    print('making images dir')\n",
    "    os.mkdir(os.path.join('static', 'images'))\n",
    "\n",
    "txt = '''<!DOCTYPE html>\n",
    "<html lang=\"en\">\n",
    "<body>\n",
    "<form action=\"/\", method=\"post\", enctype=\"multipart/form-data\">\n",
    "  Upload the image :<input type=\"file\" name=\"imagefile\">\n",
    "  <p><input type=\"submit\" value=\"Predict image\"></p>\n",
    "</form>\n",
    "<img src=\"{{ user_image }}\" height=\"280px\" width=\"400px\">\n",
    "<p>\n",
    "<h2>\n",
    "<b> {{ prediction_text }}</b>\n",
    "</h2></p>\n",
    "</body>\n",
    "</html>'''\n",
    "with open(os.path.join('templates', 'index.html'), 'w') as f:\n",
    "    f.write(txt)"
   ]
  },
  {
   "cell_type": "code",
   "execution_count": null,
   "metadata": {},
   "outputs": [],
   "source": []
  },
  {
   "cell_type": "code",
   "execution_count": 3,
   "metadata": {},
   "outputs": [],
   "source": [
    "import flask\n",
    "from flask import Flask, render_template, request\n",
    "from flask_ngrok import run_with_ngrok\n",
    "import os\n",
    "from tensorflow.keras.models import load_model \n",
    "from tensorflow.keras.preprocessing import image\n",
    "import numpy as np\n",
    "import shutil"
   ]
  },
  {
   "cell_type": "code",
   "execution_count": 4,
   "metadata": {},
   "outputs": [],
   "source": [
    "if not os.path.isdir('savedmodel'):\n",
    "    shutil.copytree(os.path.join('..', 'Week10_imageclassification', 'savedmodel'), 'savedmodel')\n",
    "    print('no file')\n",
    "\n",
    "model = load_model('savedmodel')"
   ]
  },
  {
   "cell_type": "code",
   "execution_count": 14,
   "metadata": {},
   "outputs": [],
   "source": [
    "class_names = os.listdir(os.path.join('..', 'Week10_imageclassification', 'train'))"
   ]
  },
  {
   "cell_type": "code",
   "execution_count": 19,
   "metadata": {},
   "outputs": [
    {
     "data": {
      "text/plain": [
       "'other'"
      ]
     },
     "execution_count": 19,
     "metadata": {},
     "output_type": "execute_result"
    }
   ],
   "source": [
    "class Model:\n",
    "    def __init__(self):\n",
    "        self.model = load_model('savedmodel')\n",
    "    def predict(self, img):\n",
    "        if img.max() < 1.2:\n",
    "            img = img * 255.0\n",
    "        pred_vec = model.predict(img)\n",
    "        best_pred = np.argmax(pred_vec, axis=1)[0]\n",
    "        return class_names[best_pred]\n",
    "mdl = Model()\n",
    "mdl.predict(np.random.randint(0, 255, size=(1, 100, 100, 3)))"
   ]
  },
  {
   "cell_type": "code",
   "execution_count": 20,
   "metadata": {},
   "outputs": [],
   "source": [
    "print('running')\n",
    "from flask import Flask\n",
    "from flask import Flask, render_template, request\n",
    "from flask_ngrok import run_with_ngrok\n",
    "import os\n",
    "import sys\n",
    "print('executable location')\n",
    "print(sys.executable)\n",
    "from tensorflow.keras.models import load_model \n",
    "from tensorflow.keras.preprocessing import image\n",
    "import numpy as np\n",
    "import shutil\n",
    "app = Flask(__name__)\n",
    "image_folder = os.path.join('static', 'images')\n",
    "app.config[\"UPLOAD_FOLDER\"] = image_folder\n",
    "\n",
    "class_names = os.listdir(os.path.join('..', 'Week10_imageclassification', 'train'))\n",
    "\n",
    "class Model:\n",
    "    def __init__(self):\n",
    "        self.model = load_model('savedmodel')\n",
    "    def predict(self, img):\n",
    "        if img.max() < 1.2:\n",
    "            img = img * 255.0\n",
    "        pred_vec = self.model.predict(img)\n",
    "        best_pred = np.argmax(pred_vec, axis=1)[0]\n",
    "        return class_names[best_pred]\n",
    "mdl = Model()\n",
    "\n",
    "@app.route('/', methods=['GET'])\n",
    "def home():\n",
    "    return render_template('index.html')\n",
    "\n",
    "@app.route('/', methods=['POST'])\n",
    "def predict():\n",
    "    # predicting images\n",
    "    imagefile = request.files['imagefile']\n",
    "    image_path = os.path.join(image_folder, imagefile.filename)#'./static/images/' + imagefile.filename \n",
    "    imagefile.save(image_path)\n",
    "\n",
    "    img = image.load_img(image_path, target_size=(300, 300))\n",
    "    x = image.img_to_array(img)\n",
    "    x = np.expand_dims(x, axis=0)\n",
    "\n",
    "    images = np.vstack([x])\n",
    "    print(images.shape)\n",
    "    class_detected = mdl.predict(images)\n",
    "\n",
    "    pic = os.path.join(app.config['UPLOAD_FOLDER'], imagefile.filename)\n",
    "    predicion_text = imagefile.filename + ' is a ' + class_detected\n",
    "    print(predicion_text)\n",
    "    return render_template('index.html', user_image = pic, predicion_text = predicion_text)\n",
    "#     if classes[0]>0.5:\n",
    "#         return render_template('index.html', user_image=pic, \n",
    "#                                prediction_text='{} is the image of Human'.format(imagefile.filename))\n",
    "#     else:\n",
    "#         return render_template('index.html', user_image=pic, \n",
    "#                                prediction_text='{} is the image of Horse'.format(imagefile.filename))\n",
    "if __name__=='__main__':\n",
    "    app.run()"
   ]
  },
  {
   "cell_type": "code",
   "execution_count": 24,
   "metadata": {},
   "outputs": [],
   "source": [
    "blah = [1, 2,3]"
   ]
  },
  {
   "cell_type": "code",
   "execution_count": 25,
   "metadata": {},
   "outputs": [
    {
     "data": {
      "text/plain": [
       "[1, 2, 3]"
      ]
     },
     "execution_count": 25,
     "metadata": {},
     "output_type": "execute_result"
    }
   ],
   "source": [
    "blah"
   ]
  },
  {
   "cell_type": "code",
   "execution_count": 26,
   "metadata": {},
   "outputs": [
    {
     "data": {
      "text/plain": [
       "[2, 1, 2, 3]"
      ]
     },
     "execution_count": 26,
     "metadata": {},
     "output_type": "execute_result"
    }
   ],
   "source": [
    "[2] + blah"
   ]
  },
  {
   "cell_type": "code",
   "execution_count": null,
   "metadata": {},
   "outputs": [],
   "source": []
  }
 ],
 "metadata": {
  "accelerator": "GPU",
  "colab": {
   "collapsed_sections": [],
   "name": "transfer_learning.ipynb",
   "provenance": [],
   "toc_visible": true
  },
  "kernelspec": {
   "display_name": "Python 3",
   "language": "python",
   "name": "python3"
  },
  "language_info": {
   "codemirror_mode": {
    "name": "ipython",
    "version": 3
   },
   "file_extension": ".py",
   "mimetype": "text/x-python",
   "name": "python",
   "nbconvert_exporter": "python",
   "pygments_lexer": "ipython3",
   "version": "3.8.5"
  }
 },
 "nbformat": 4,
 "nbformat_minor": 1
}
