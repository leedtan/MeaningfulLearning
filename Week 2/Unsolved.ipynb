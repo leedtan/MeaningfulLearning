{
 "cells": [
  {
   "cell_type": "code",
   "execution_count": null,
   "metadata": {},
   "outputs": [],
   "source": [
    "# Let's start by reviewing the homework and making sure we're comfortale with codingbat."
   ]
  },
  {
   "cell_type": "code",
   "execution_count": null,
   "metadata": {},
   "outputs": [],
   "source": [
    "# Today we are going to cover data type basics.\n",
    "    # Our atomic data types bool, float, int, str\n",
    "# We'll assume those are self explanatory, so let's look at our compound data types:\n",
    "    # list, tuple, set, dict"
   ]
  },
  {
   "cell_type": "code",
   "execution_count": null,
   "metadata": {},
   "outputs": [],
   "source": [
    "# Lists are dynamic arrays of python elements. I can manipulate these pretty freely.\n",
    "a = [1, 2, [3,4], None, False]\n",
    "b = [3, 4]\n",
    "c = a + b\n",
    "c"
   ]
  },
  {
   "cell_type": "code",
   "execution_count": null,
   "metadata": {},
   "outputs": [],
   "source": [
    "# Note that lists can be added together, and a list can be appended to\n",
    "lst = [2]\n",
    "print(lst.append(3))\n",
    "print([2] + [3])"
   ]
  },
  {
   "cell_type": "code",
   "execution_count": null,
   "metadata": {},
   "outputs": [],
   "source": [
    "# Why didnt above print the result, [2, 3]?\n",
    "# Think about that and talk about why we don't need lst.append to return it's result, but we do want [2] + [3] to return"
   ]
  },
  {
   "cell_type": "code",
   "execution_count": null,
   "metadata": {},
   "outputs": [],
   "source": [
    "# Tuples are much less commonly used than list in day to day python development. They are a static iterable object. \n",
    "# They are ordered like lists, but they are frozen\n",
    "tup = (1, 2)\n",
    "# tup[1] = 3 # Raises Error\n",
    "# tup = tup + [2] # Also raises error\n",
    "tup = tuple([t for t in tup] + [3]) # This is okay, because we create a new tuple\n",
    "print(tup)"
   ]
  },
  {
   "cell_type": "code",
   "execution_count": null,
   "metadata": {},
   "outputs": [],
   "source": [
    "# Sets are unordered lists. Due to the lack of order, you can't find the \"first\" element in a set, \n",
    "# but you can find if \"hi\" is in the set very fast.\n",
    "# How would you find if the word \"hi\" is in a list? \n",
    "# Make a plot or table that shows how long it takes to check if \"hi\" is in a list against the length of the list\n",
    "def check_hi_list(lst):\n",
    "    pass"
   ]
  },
  {
   "cell_type": "code",
   "execution_count": null,
   "metadata": {},
   "outputs": [],
   "source": [
    "# Repeat the above exercise, but for a set\n",
    "# make sure not to use variable names like list, set, dict, because those overwrite python primitives\n",
    "def check_hi_set(s):\n",
    "    pass"
   ]
  },
  {
   "cell_type": "code",
   "execution_count": null,
   "metadata": {},
   "outputs": [],
   "source": [
    "# Intuitively, a dict (or outside of python called a hash table) is similar to a set\n",
    "# It has a quick retrieval mechanism to see if a value is in the collection, but a dict also maps each input key to a value\n",
    "# So in a dict, rather than 'hi' just being in the set, you could say 'hi' is in the set, and the value is either\n",
    "# 'hello' or 4, or anything else, represneting the response to hi, or the number of times someone said hi to you."
   ]
  },
  {
   "cell_type": "code",
   "execution_count": null,
   "metadata": {},
   "outputs": [],
   "source": [
    "# Make a class HappyChild that counts the number of times people say different greetings to it.\n",
    "# In the future, you will become comfortable writing the skeletons of classes like this yourself, but I will provide\n",
    "# skeleton code today.\n",
    "class HappyChild:\n",
    "    def __init__(self):\n",
    "        pass\n",
    "    def greet(self, greeting):\n",
    "        # greet the child\n",
    "        pass\n",
    "    def report_greetings(self):\n",
    "        # the child reports how many of each greetings it has received.\n",
    "        pass"
   ]
  },
  {
   "cell_type": "code",
   "execution_count": null,
   "metadata": {},
   "outputs": [],
   "source": [
    "# Now let's look at an algorithm problem to practice our data types."
   ]
  },
  {
   "cell_type": "code",
   "execution_count": null,
   "metadata": {},
   "outputs": [],
   "source": [
    "# Write a function to check a list has a sub-array with a sum of 0 ([2, 4, -3, -1, 6], or [2, 0] both return True)"
   ]
  },
  {
   "cell_type": "code",
   "execution_count": null,
   "metadata": {},
   "outputs": [],
   "source": [
    "# Function to check if a sublist with zero-sum is present in a given list or not\n",
    "def check_zero_list(A):\n",
    "    # Please use a list if you need to keep track of a collection\n",
    "    pass"
   ]
  },
  {
   "cell_type": "code",
   "execution_count": null,
   "metadata": {},
   "outputs": [],
   "source": [
    "def check_zero_set(A):\n",
    "    # Now try to rewrite the above function with a set as your core collection"
   ]
  },
  {
   "cell_type": "code",
   "execution_count": null,
   "metadata": {},
   "outputs": [],
   "source": [
    "# now lets see how much faster the set is.\n",
    "# Personally, I saw a speedup of around X300"
   ]
  },
  {
   "cell_type": "code",
   "execution_count": null,
   "metadata": {},
   "outputs": [],
   "source": [
    "%timeit check_zero_list([1 for i in range(10000)] + [-1, 0, 1])"
   ]
  },
  {
   "cell_type": "code",
   "execution_count": null,
   "metadata": {},
   "outputs": [],
   "source": [
    "%timeit check_zero_set([1 for i in range(10000)] + [-1, 0, 1])"
   ]
  },
  {
   "cell_type": "code",
   "execution_count": null,
   "metadata": {},
   "outputs": [],
   "source": [
    "# One more example problem.\n",
    "# Let's try to write a function that takes an array of numbers, and a target.\n",
    "# It should return the indices of two numbers that add up to the target, or None if no two numbers add up to the target\n",
    "# EXAMPLE: twosum([3,2,4], 6) -> [1, 2]\n",
    "# Here there are solutions you could first implement using lists, and then you will eventually use a dict to make \n",
    "# Your solution run much faster"
   ]
  },
  {
   "cell_type": "code",
   "execution_count": null,
   "metadata": {},
   "outputs": [],
   "source": [
    "def twosum(arr, target):\n",
    "    pass"
   ]
  },
  {
   "cell_type": "code",
   "execution_count": null,
   "metadata": {},
   "outputs": [],
   "source": [
    "assert twosum(list(range(10000)) + [-5], -4) == (10000, 1)"
   ]
  },
  {
   "cell_type": "code",
   "execution_count": null,
   "metadata": {
    "scrolled": false
   },
   "outputs": [],
   "source": [
    "%timeit twosum(list(range(10000)) + [-5], -4)"
   ]
  }
 ],
 "metadata": {
  "kernelspec": {
   "display_name": "Python 3",
   "language": "python",
   "name": "python3"
  },
  "language_info": {
   "codemirror_mode": {
    "name": "ipython",
    "version": 3
   },
   "file_extension": ".py",
   "mimetype": "text/x-python",
   "name": "python",
   "nbconvert_exporter": "python",
   "pygments_lexer": "ipython3",
   "version": "3.7.6"
  }
 },
 "nbformat": 4,
 "nbformat_minor": 4
}
