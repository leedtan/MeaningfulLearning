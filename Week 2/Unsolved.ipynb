{
 "cells": [
  {
   "cell_type": "code",
   "execution_count": null,
   "metadata": {},
   "outputs": [],
   "source": [
    "# Let's start by reviewing the homework and making sure we're comfortale with codingbat."
   ]
  },
  {
   "cell_type": "code",
   "execution_count": 37,
   "metadata": {},
   "outputs": [],
   "source": [
    "def f(lst,index):\n",
    "    total = 0\n",
    "    lst[:index]\n",
    "    for num in lst[:index]:\n",
    "        total = total + num\n",
    "    return total"
   ]
  },
  {
   "cell_type": "code",
   "execution_count": 45,
   "metadata": {},
   "outputs": [],
   "source": [
    "assert f([1,2,3,4,5,6,7],3) == 6"
   ]
  },
  {
   "cell_type": "code",
   "execution_count": 46,
   "metadata": {},
   "outputs": [],
   "source": [
    "lst = [1,2,3,4,5,6,7]"
   ]
  },
  {
   "cell_type": "code",
   "execution_count": 49,
   "metadata": {},
   "outputs": [
    {
     "data": {
      "text/plain": [
       "[2, 3, 4, 5]"
      ]
     },
     "execution_count": 49,
     "metadata": {},
     "output_type": "execute_result"
    }
   ],
   "source": [
    "lst[1:5]"
   ]
  },
  {
   "cell_type": "code",
   "execution_count": 48,
   "metadata": {},
   "outputs": [
    {
     "data": {
      "text/plain": [
       "[1, 2, 3, 4, 5, 6]"
      ]
     },
     "execution_count": 48,
     "metadata": {},
     "output_type": "execute_result"
    }
   ],
   "source": [
    "lst[:6]"
   ]
  },
  {
   "cell_type": "code",
   "execution_count": null,
   "metadata": {},
   "outputs": [],
   "source": [
    "# Today we are going to cover data type basics.\n",
    "    # Our atomic data types bool, float, int, str\n",
    "# We'll assume those are self explanatory, so let's look at our compound data types:\n",
    "    # list, tuple, set, dict"
   ]
  },
  {
   "cell_type": "code",
   "execution_count": 1,
   "metadata": {},
   "outputs": [
    {
     "data": {
      "text/plain": [
       "[1, 2, [3, 4], None, False, 3, 4]"
      ]
     },
     "execution_count": 1,
     "metadata": {},
     "output_type": "execute_result"
    }
   ],
   "source": [
    "# Lists are dynamic arrays of python elements. I can manipulate these pretty freely.\n",
    "a = [1, 2, [3,4], None, False]\n",
    "b = [3, 4]\n",
    "c = a + b\n",
    "c"
   ]
  },
  {
   "cell_type": "code",
   "execution_count": 55,
   "metadata": {},
   "outputs": [
    {
     "name": "stdout",
     "output_type": "stream",
     "text": [
      "None\n",
      "[2, 3, 5]\n",
      "None\n"
     ]
    }
   ],
   "source": [
    "# Note that lists can be added together, and a list can be appended to\n",
    "lst = [2, 3]\n",
    "print(lst.append(5))\n",
    "print([2] + [3] + [5])\n",
    "print(lst.append(6))"
   ]
  },
  {
   "cell_type": "code",
   "execution_count": 56,
   "metadata": {},
   "outputs": [],
   "source": [
    "s=set()\n",
    "s.add('monkey')"
   ]
  },
  {
   "cell_type": "code",
   "execution_count": 57,
   "metadata": {},
   "outputs": [
    {
     "data": {
      "text/plain": [
       "True"
      ]
     },
     "execution_count": 57,
     "metadata": {},
     "output_type": "execute_result"
    }
   ],
   "source": [
    "'monkey' in s"
   ]
  },
  {
   "cell_type": "code",
   "execution_count": 59,
   "metadata": {},
   "outputs": [],
   "source": [
    "s.add(5)"
   ]
  },
  {
   "cell_type": "code",
   "execution_count": 60,
   "metadata": {},
   "outputs": [
    {
     "data": {
      "text/plain": [
       "True"
      ]
     },
     "execution_count": 60,
     "metadata": {},
     "output_type": "execute_result"
    }
   ],
   "source": [
    "5 in s"
   ]
  },
  {
   "cell_type": "code",
   "execution_count": 3,
   "metadata": {},
   "outputs": [],
   "source": [
    "# Why didnt above print the result, [2, 3]?\n",
    "# Think about that and talk about why we don't need lst.append to return it's result, but we do want [2] + [3] to return"
   ]
  },
  {
   "cell_type": "code",
   "execution_count": 4,
   "metadata": {},
   "outputs": [
    {
     "name": "stdout",
     "output_type": "stream",
     "text": [
      "(1, 2, 3)\n"
     ]
    }
   ],
   "source": [
    "# Tuples are much less commonly used than list in day to day python development. They are a static iterable object. \n",
    "# They are ordered like lists, but they are frozen\n",
    "tup = (1, 2)\n",
    "# tup[1] = 3 # Raises Error\n",
    "# tup = tup + [2] # Also raises error\n",
    "tup = tuple([t for t in tup] + [3]) # This is okay, because we create a new tuple\n",
    "print(tup)"
   ]
  },
  {
   "cell_type": "code",
   "execution_count": 64,
   "metadata": {},
   "outputs": [],
   "source": [
    "# Sets are unordered lists. Due to the lack of order, you can't find the \"first\" element in a set, \n",
    "# but you can find if \"hi\" is in the set very fast.\n",
    "# How would you find if the word \"hi\" is in a list? \n",
    "# Make a plot or table that shows how long it takes to check if \"hi\" is in a list against the length of the list\n",
    "def check_hi_list(lst):\n",
    "    return 'hi' in lst"
   ]
  },
  {
   "cell_type": "code",
   "execution_count": 69,
   "metadata": {},
   "outputs": [],
   "source": [
    "# Repeat the above exercise, but for a set\n",
    "# make sure not to use variable names like list, set, dict, because those overwrite python primitives\n",
    "def check_hi_set(s):\n",
    "    return 'hi' in lst"
   ]
  },
  {
   "cell_type": "code",
   "execution_count": 65,
   "metadata": {},
   "outputs": [
    {
     "name": "stdout",
     "output_type": "stream",
     "text": [
      "561 µs ± 27.9 µs per loop (mean ± std. dev. of 7 runs, 1000 loops each)\n"
     ]
    }
   ],
   "source": [
    "%timeit check_hi_list([1 for i in range(10000)] + ['hi'])"
   ]
  },
  {
   "cell_type": "code",
   "execution_count": 71,
   "metadata": {},
   "outputs": [
    {
     "name": "stdout",
     "output_type": "stream",
     "text": [
      "180 ns ± 1.68 ns per loop (mean ± std. dev. of 7 runs, 10000000 loops each)\n"
     ]
    }
   ],
   "source": [
    "s = set([1 for i in range(10000)] + ['hi'])\n",
    "%timeit check_hi_set(s)"
   ]
  },
  {
   "cell_type": "code",
   "execution_count": 7,
   "metadata": {},
   "outputs": [],
   "source": [
    "# Intuitively, a dict (or outside of python called a hash table) is similar to a set\n",
    "# It has a quick retrieval mechanism to see if a value is in the collection, but a dict also maps each input key to a value\n",
    "# So in a dict, rather than 'hi' just being in the set, you could say 'hi' is in the set, and the value is either\n",
    "# 'hello' or 4, or anything else, represneting the response to hi, or the number of times someone said hi to you."
   ]
  },
  {
   "cell_type": "code",
   "execution_count": 74,
   "metadata": {},
   "outputs": [],
   "source": [
    "# Make a class HappyChild that counts the number of times people say different greetings to it.\n",
    "# In the future, you will become comfortable writing the skeletons of classes like this yourself, but I will provide\n",
    "# skeleton code today.\n",
    "class HappyChild:\n",
    "    def __init__(others):\n",
    "        others.greeting = {}\n",
    "    def greet(others, greeting):\n",
    "        if greeting in others.greeting:\n",
    "            others.greeting[greeting]+=1\n",
    "        else:\n",
    "            other.greeting[greeting]=1\n",
    "    def report_greetings(others):\n",
    "        return others.greetings"
   ]
  },
  {
   "cell_type": "code",
   "execution_count": 75,
   "metadata": {},
   "outputs": [],
   "source": [
    "greetings = {}\n",
    "greetings['hi'] = 1\n",
    "greetings['hellow'] = 1\n",
    "greetings['hellow'] +=1"
   ]
  },
  {
   "cell_type": "code",
   "execution_count": 76,
   "metadata": {},
   "outputs": [
    {
     "data": {
      "text/plain": [
       "{'hi': 1, 'hellow': 2}"
      ]
     },
     "execution_count": 76,
     "metadata": {},
     "output_type": "execute_result"
    }
   ],
   "source": [
    "greetings"
   ]
  },
  {
   "cell_type": "code",
   "execution_count": 9,
   "metadata": {},
   "outputs": [],
   "source": [
    "# Now let's look at an algorithm problem to practice our data types."
   ]
  },
  {
   "cell_type": "code",
   "execution_count": 10,
   "metadata": {},
   "outputs": [],
   "source": [
    "# Write a function to check a list has a sub-array with a sum of 0 ([2, 4, -3, -1, 6], or [2, 0] both return True)"
   ]
  },
  {
   "cell_type": "code",
   "execution_count": 31,
   "metadata": {},
   "outputs": [],
   "source": [
    "# Function to check if a sublist with zero-sum is present in a given list or not\n",
    "def check_zero_list(A):\n",
    "    x = [0]\n",
    "    x.append(0)\n",
    "    sum_of_list= 0\n",
    "    for a in A:\n",
    "        sum_of_list= sum_of_list + a\n",
    "        if sum_of_list in x:\n",
    "            return True\n",
    "        x.append(sum_of_list)\n",
    "    return False\n",
    "    # Please use a list if you need to keep track of a collection\n",
    "\n",
    "        "
   ]
  },
  {
   "cell_type": "code",
   "execution_count": 39,
   "metadata": {},
   "outputs": [],
   "source": [
    "def check_zero_set(A):\n",
    "    x = {0}\n",
    "    sum_of_list= 0\n",
    "    for i in A:\n",
    "        sum_of_list= sum_of_list + i\n",
    "        if sum_of_list in x:\n",
    "            return True\n",
    "        x.add(sum_of_list)\n",
    "    return False\n",
    "    # Now try to rewrite the above function with a set as your core collection"
   ]
  },
  {
   "cell_type": "code",
   "execution_count": null,
   "metadata": {},
   "outputs": [],
   "source": [
    "# now lets see how much faster the set is.\n",
    "# Personally, I saw a speedup of around X300"
   ]
  },
  {
   "cell_type": "code",
   "execution_count": 33,
   "metadata": {},
   "outputs": [
    {
     "name": "stdout",
     "output_type": "stream",
     "text": [
      "563 ms ± 24.4 ms per loop (mean ± std. dev. of 7 runs, 1 loop each)\n"
     ]
    }
   ],
   "source": [
    "%timeit check_zero_list([1 for i in range(10000)] + [-1, 0, 1])"
   ]
  },
  {
   "cell_type": "code",
   "execution_count": 40,
   "metadata": {},
   "outputs": [
    {
     "name": "stdout",
     "output_type": "stream",
     "text": [
      "1.82 ms ± 55.4 µs per loop (mean ± std. dev. of 7 runs, 1000 loops each)\n"
     ]
    }
   ],
   "source": [
    "%timeit check_zero_set([1 for i in range(10000)] + [-1, 0, 1])"
   ]
  },
  {
   "cell_type": "code",
   "execution_count": 23,
   "metadata": {},
   "outputs": [
    {
     "data": {
      "text/plain": [
       "True"
      ]
     },
     "execution_count": 23,
     "metadata": {},
     "output_type": "execute_result"
    }
   ],
   "source": [
    "check_zero_set([3,2,-2])"
   ]
  },
  {
   "cell_type": "code",
   "execution_count": null,
   "metadata": {},
   "outputs": [],
   "source": [
    "# One more example problem.\n",
    "# Let's try to write a function that takes an array of numbers, and a target.\n",
    "# It should return the indices of two numbers that add up to the target, or None if no two numbers add up to the target\n",
    "# EXAMPLE: twosum([3,2,4], 6) -> [1, 2]\n",
    "# Here there are solutions you could first implement using lists, and then you will eventually use a dict to make \n",
    "# Your solution run much faster"
   ]
  },
  {
   "cell_type": "code",
   "execution_count": 54,
   "metadata": {},
   "outputs": [],
   "source": [
    "def twosum(arr, target):\n",
    "    seen = {}\n",
    "    for i in range(len(arr)):\n",
    "        a = arr[i]\n",
    "        looking_for= target-a\n",
    "        if looking_for in seen:\n",
    "            j= seen[looking_for]\n",
    "            return i,j\n",
    "        seen[a]=i\n",
    "    return None"
   ]
  },
  {
   "cell_type": "code",
   "execution_count": 52,
   "metadata": {},
   "outputs": [],
   "source": [
    "assert twosum(list(range(10000)) + [-5], -4) == (10000, 1)"
   ]
  },
  {
   "cell_type": "code",
   "execution_count": 44,
   "metadata": {
    "scrolled": false
   },
   "outputs": [
    {
     "name": "stdout",
     "output_type": "stream",
     "text": [
      "650 ms ± 14.4 ms per loop (mean ± std. dev. of 7 runs, 1 loop each)\n"
     ]
    }
   ],
   "source": [
    "%timeit twosum(list(range(10000)) + [-5], -4)"
   ]
  },
  {
   "cell_type": "code",
   "execution_count": 55,
   "metadata": {},
   "outputs": [
    {
     "name": "stdout",
     "output_type": "stream",
     "text": [
      "2.18 ms ± 63.5 µs per loop (mean ± std. dev. of 7 runs, 100 loops each)\n"
     ]
    }
   ],
   "source": [
    "%timeit twosum(list(range(10000)) + [-5], -4)"
   ]
  },
  {
   "cell_type": "code",
   "execution_count": null,
   "metadata": {},
   "outputs": [],
   "source": []
  }
 ],
 "metadata": {
  "kernelspec": {
   "display_name": "Python 3",
   "language": "python",
   "name": "python3"
  },
  "language_info": {
   "codemirror_mode": {
    "name": "ipython",
    "version": 3
   },
   "file_extension": ".py",
   "mimetype": "text/x-python",
   "name": "python",
   "nbconvert_exporter": "python",
   "pygments_lexer": "ipython3",
   "version": "3.8.5"
  }
 },
 "nbformat": 4,
 "nbformat_minor": 4
}
