{
 "cells": [
  {
   "cell_type": "code",
   "execution_count": 1,
   "metadata": {},
   "outputs": [],
   "source": [
    "# Let's start by reviewing the homework and making sure we're comfortale with codingbat."
   ]
  },
  {
   "cell_type": "code",
   "execution_count": 2,
   "metadata": {},
   "outputs": [],
   "source": [
    "# Today we are going to cover data type basics.\n",
    "    # Our atomic data types bool, float, int, str\n",
    "# We'll assume those are self explanatory, so let's look at our compound data types:\n",
    "    # list, tuple, set, dict"
   ]
  },
  {
   "cell_type": "code",
   "execution_count": 3,
   "metadata": {},
   "outputs": [
    {
     "data": {
      "text/plain": [
       "[1, 2, [3, 4], None, False, 3, 4]"
      ]
     },
     "execution_count": 3,
     "metadata": {},
     "output_type": "execute_result"
    }
   ],
   "source": [
    "# Lists are dynamic arrays of python elements. I can manipulate these pretty freely.\n",
    "a = [1, 2, [3,4], None, False]\n",
    "b = [3, 4]\n",
    "c = a + b\n",
    "c"
   ]
  },
  {
   "cell_type": "code",
   "execution_count": 4,
   "metadata": {},
   "outputs": [
    {
     "name": "stdout",
     "output_type": "stream",
     "text": [
      "None\n",
      "[2, 3]\n"
     ]
    }
   ],
   "source": [
    "# Note that lists can be added together, and a list can be appended to\n",
    "lst = [2]\n",
    "print(lst.append(3))\n",
    "print([2] + [3])"
   ]
  },
  {
   "cell_type": "code",
   "execution_count": 5,
   "metadata": {},
   "outputs": [],
   "source": [
    "# Why didnt above print the result, [2, 3]?\n",
    "# Think about that and talk about why we don't need lst.append to return it's result, but we do want [2] + [3] to return"
   ]
  },
  {
   "cell_type": "code",
   "execution_count": 6,
   "metadata": {},
   "outputs": [
    {
     "name": "stdout",
     "output_type": "stream",
     "text": [
      "(1, 2, 3)\n"
     ]
    }
   ],
   "source": [
    "# Tuples are much less commonly used than list in day to day python development. They are a static iterable object. \n",
    "# They are ordered like lists, but they are frozen\n",
    "tup = (1, 2)\n",
    "# tup[1] = 3 # Raises Error\n",
    "# tup = tup + [2] # Also raises error\n",
    "tup = tuple([t for t in tup] + [3]) # This is okay, because we create a new tuple\n",
    "print(tup)"
   ]
  },
  {
   "cell_type": "code",
   "execution_count": 15,
   "metadata": {},
   "outputs": [],
   "source": [
    "# Sets are unordered lists. Due to the lack of order, you can't find the \"first\" element in a set, \n",
    "# but you can find if \"hi\" is in the set very fast.\n",
    "# How would you find if the word \"hi\" is in a list? \n",
    "# Make a plot or table that shows how long it takes to check if \"hi\" is in a list against the length of the list\n",
    "def check_hi_list(lst):\n",
    "    return 'hi' in lst"
   ]
  },
  {
   "cell_type": "code",
   "execution_count": 16,
   "metadata": {},
   "outputs": [],
   "source": [
    "# Repeat the above exercise, but for a set\n",
    "# make sure not to use variable names like list, set, dict, because those overwrite python primitives\n",
    "def check_hi_set(s):\n",
    "    return 'hi' in s"
   ]
  },
  {
   "cell_type": "code",
   "execution_count": 17,
   "metadata": {},
   "outputs": [],
   "source": [
    "# Intuitively, a dict (or outside of python called a hash table) is similar to a set\n",
    "# It has a quick retrieval mechanism to see if a value is in the collection, but a dict also maps each input key to a value\n",
    "# So in a dict, rather than 'hi' just being in the set, you could say 'hi' is in the set, and the value is either\n",
    "# 'hello' or 4, or anything else, represneting the response to hi, or the number of times someone said hi to you."
   ]
  },
  {
   "cell_type": "code",
   "execution_count": 19,
   "metadata": {},
   "outputs": [],
   "source": [
    "# Make a class HappyChild that counts the number of times people say different greetings to it.\n",
    "# In the future, you will become comfortable writing the skeletons of classes like this yourself, but I will provide\n",
    "# skeleton code today.\n",
    "class HappyChild:\n",
    "    def __init__(self):\n",
    "        self.greetings = {}\n",
    "    def greet(self, greeting):\n",
    "        if greeting in self.greetings:\n",
    "            self.greetings[greeting] += 1\n",
    "        else:\n",
    "            self.greetings[greeting] = 1\n",
    "    def report_greetings(self):\n",
    "        # the child reports how many of each greetings it has received.\n",
    "        return self.greetings\n"
   ]
  },
  {
   "cell_type": "code",
   "execution_count": 20,
   "metadata": {},
   "outputs": [
    {
     "data": {
      "text/plain": [
       "{'hi': 4, 'hello': 1}"
      ]
     },
     "execution_count": 20,
     "metadata": {},
     "output_type": "execute_result"
    }
   ],
   "source": [
    "h = HappyChild()\n",
    "h.greet('hi')\n",
    "h.greet('hi')\n",
    "h.greet('hi')\n",
    "h.greet('hi')\n",
    "h.greet('hello')\n",
    "h.report_greetings()"
   ]
  },
  {
   "cell_type": "code",
   "execution_count": 21,
   "metadata": {},
   "outputs": [],
   "source": [
    "# Now let's look at an algorithm problem to practice our data types."
   ]
  },
  {
   "cell_type": "code",
   "execution_count": null,
   "metadata": {},
   "outputs": [],
   "source": [
    "# Write a function to check a list has a sub-array with a sum of 0 ([2, 4, -3, -1, 6], or [2, 0] both return True)"
   ]
  },
  {
   "cell_type": "code",
   "execution_count": 6,
   "metadata": {},
   "outputs": [],
   "source": [
    "# Function to check if a sublist with zero-sum is present in a given list or not\n",
    "def check_zero_list(A):\n",
    "    # Please use a list if you need to keep track of a collection\n",
    "    s = []\n",
    "    s.append(0)\n",
    "    sum_so_far = 0\n",
    "    for i in A:\n",
    "        sum_so_far += i\n",
    "        if sum_so_far in s:\n",
    "            return True\n",
    "        s.append(sum_so_far)\n",
    "    return False"
   ]
  },
  {
   "cell_type": "code",
   "execution_count": 7,
   "metadata": {},
   "outputs": [],
   "source": [
    "def check_zero_set(A):\n",
    " \n",
    "    # create an empty set to store the sum of elements of each\n",
    "    # sublist `A[0…i]`, where `0 <= i < len(A)`\n",
    "    s = set()\n",
    " \n",
    "    # insert 0 into the set to handle the case when sublist with\n",
    "    # zero-sum starts from index 0\n",
    "    s.add(0)\n",
    " \n",
    "    sumsofar = 0\n",
    " \n",
    "    # traverse the given list\n",
    "    for i in A:\n",
    " \n",
    "        # sum of elements so far\n",
    "        sumsofar += i\n",
    " \n",
    "        # if the sum is seen before, we have found a sublist with zero-sum\n",
    "        if sumsofar in s:\n",
    "            return True\n",
    " \n",
    "        # insert sum so far into the set\n",
    "        s.add(sumsofar)\n",
    " \n",
    "    # we reach here when no sublist with zero-sum exists\n",
    "    return False"
   ]
  },
  {
   "cell_type": "code",
   "execution_count": 23,
   "metadata": {},
   "outputs": [],
   "source": [
    "# now lets see how much faster the set is.\n",
    "# Personally, I saw a speedup of around X300"
   ]
  },
  {
   "cell_type": "code",
   "execution_count": 24,
   "metadata": {},
   "outputs": [
    {
     "name": "stdout",
     "output_type": "stream",
     "text": [
      "527 ms ± 13.3 ms per loop (mean ± std. dev. of 7 runs, 1 loop each)\n"
     ]
    }
   ],
   "source": [
    "%timeit check_zero_list([1 for i in range(10000)] + [-1, 0, 1])"
   ]
  },
  {
   "cell_type": "code",
   "execution_count": 25,
   "metadata": {},
   "outputs": [
    {
     "name": "stdout",
     "output_type": "stream",
     "text": [
      "1.63 ms ± 51.9 µs per loop (mean ± std. dev. of 7 runs, 1000 loops each)\n"
     ]
    }
   ],
   "source": [
    "%timeit check_zero_set([1 for i in range(10000)] + [-1, 0, 1])"
   ]
  },
  {
   "cell_type": "code",
   "execution_count": null,
   "metadata": {},
   "outputs": [],
   "source": [
    "# One more example problem.\n",
    "# Let's try to write a function that takes an array of numbers, and a target.\n",
    "# It should return the indices of two numbers that add up to the target, or None if no two numbers add up to the target\n",
    "# EXAMPLE: twosum([3,2,4], 6) -> [1, 2]\n",
    "# Here there are solutions you could first implement using lists, and then you will eventually use a dict to make \n",
    "# Your solution run much faster"
   ]
  },
  {
   "cell_type": "code",
   "execution_count": 1,
   "metadata": {},
   "outputs": [],
   "source": [
    "def twosum(arr, target):\n",
    "    d = {}\n",
    "    for i, a in enumerate(arr):\n",
    "        if a in d.keys():\n",
    "            return i, d[a]\n",
    "        d[target-a] = i\n",
    "    return None"
   ]
  },
  {
   "cell_type": "code",
   "execution_count": 2,
   "metadata": {},
   "outputs": [],
   "source": [
    "assert twosum(list(range(10000)) + [-5], -4) == (10000, 1)"
   ]
  },
  {
   "cell_type": "code",
   "execution_count": 3,
   "metadata": {
    "scrolled": false
   },
   "outputs": [
    {
     "name": "stdout",
     "output_type": "stream",
     "text": [
      "2.38 ms ± 52.3 µs per loop (mean ± std. dev. of 7 runs, 100 loops each)\n"
     ]
    }
   ],
   "source": [
    "%timeit twosum(list(range(10000)) + [-5], -4)"
   ]
  },
  {
   "cell_type": "code",
   "execution_count": null,
   "metadata": {},
   "outputs": [],
   "source": []
  }
 ],
 "metadata": {
  "kernelspec": {
   "display_name": "Python 3",
   "language": "python",
   "name": "python3"
  },
  "language_info": {
   "codemirror_mode": {
    "name": "ipython",
    "version": 3
   },
   "file_extension": ".py",
   "mimetype": "text/x-python",
   "name": "python",
   "nbconvert_exporter": "python",
   "pygments_lexer": "ipython3",
   "version": "3.8.5"
  }
 },
 "nbformat": 4,
 "nbformat_minor": 4
}
