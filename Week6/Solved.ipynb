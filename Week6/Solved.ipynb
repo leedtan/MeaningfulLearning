{
 "cells": [
  {
   "cell_type": "code",
   "execution_count": 1,
   "metadata": {},
   "outputs": [],
   "source": [
    "# This Section (Spanning two weeks) Will cover neural networks.\n",
    "# This is the final math step in putting together all of the stuff we have learned about linear\n",
    "# Regression, math, and python. After this, we can start doing more intelligent ML."
   ]
  },
  {
   "cell_type": "code",
   "execution_count": 2,
   "metadata": {},
   "outputs": [],
   "source": [
    "# Below, we generate the Xor dataset\n",
    "import numpy as np\n",
    "\n",
    "n_data = 1000\n",
    "x = np.random.randint(2, size=(n_data, 2))\n",
    "y = x[:,0] != x[:,1]"
   ]
  },
  {
   "cell_type": "code",
   "execution_count": 3,
   "metadata": {},
   "outputs": [],
   "source": [
    "from sklearn.linear_model import Ridge"
   ]
  },
  {
   "cell_type": "code",
   "execution_count": 4,
   "metadata": {},
   "outputs": [],
   "source": [
    "# Let's train liear regression to predict the y values"
   ]
  },
  {
   "cell_type": "code",
   "execution_count": 5,
   "metadata": {},
   "outputs": [
    {
     "data": {
      "text/plain": [
       "array([-0.03652672, -0.03068175])"
      ]
     },
     "execution_count": 5,
     "metadata": {},
     "output_type": "execute_result"
    }
   ],
   "source": [
    "mdl = Ridge().fit(x, y)\n",
    "\n",
    "mdl.coef_"
   ]
  },
  {
   "cell_type": "code",
   "execution_count": 6,
   "metadata": {},
   "outputs": [],
   "source": [
    "# And let's check the accuracy"
   ]
  },
  {
   "cell_type": "code",
   "execution_count": 7,
   "metadata": {},
   "outputs": [],
   "source": [
    "yhat = mdl.predict(x) > 0.5"
   ]
  },
  {
   "cell_type": "code",
   "execution_count": 8,
   "metadata": {},
   "outputs": [
    {
     "data": {
      "text/plain": [
       "0.769"
      ]
     },
     "execution_count": 8,
     "metadata": {},
     "output_type": "execute_result"
    }
   ],
   "source": [
    "(yhat == y).mean()"
   ]
  },
  {
   "cell_type": "code",
   "execution_count": 9,
   "metadata": {},
   "outputs": [],
   "source": [
    "# What the heck! Why is our accuracy 50%? That's not very good. Let's look below at the problem we're\n",
    "# Solving. How could we solve that? Should x1 and x2 have positive or negative coeficients? \n",
    "# There isn't really an answer, so the model just sets them to close to 0."
   ]
  },
  {
   "cell_type": "code",
   "execution_count": 10,
   "metadata": {},
   "outputs": [
    {
     "data": {
      "image/png": "[encoded data removed]",
      "text/plain": [
       "<IPython.core.display.Image object>"
      ]
     },
     "execution_count": 10,
     "metadata": {
      "image/png": {
       "height": 200,
       "width": 200
      }
     },
     "output_type": "execute_result"
    }
   ],
   "source": [
    "from IPython.display import Image\n",
    "Image(filename='xor.png', width=200, height=200) "
   ]
  },
  {
   "cell_type": "code",
   "execution_count": 11,
   "metadata": {},
   "outputs": [],
   "source": [
    "# What if you had features \n",
    "# x1, x2, x3=(x1 OR x2) \n",
    "# (essentially, x3 is only equal to one at the top right corner of the above image)?\n",
    "# Would you be able to learn linear regression to solve this problem? \n",
    "# What you you assign the weights to be?"
   ]
  },
  {
   "cell_type": "code",
   "execution_count": 12,
   "metadata": {},
   "outputs": [],
   "source": [
    "# Solution:\n",
    "# x1: 1, x2: 1, x3: -2"
   ]
  },
  {
   "cell_type": "code",
   "execution_count": 13,
   "metadata": {},
   "outputs": [],
   "source": [
    "x3 = x.sum(1, keepdims = True) == 2"
   ]
  },
  {
   "cell_type": "code",
   "execution_count": 14,
   "metadata": {},
   "outputs": [],
   "source": [
    "x_expanded = np.concatenate((x, x3), 1)"
   ]
  },
  {
   "cell_type": "code",
   "execution_count": 15,
   "metadata": {},
   "outputs": [
    {
     "data": {
      "text/plain": [
       "array([ 0.9714859 ,  0.97162296, -1.95257718])"
      ]
     },
     "execution_count": 15,
     "metadata": {},
     "output_type": "execute_result"
    }
   ],
   "source": [
    "mdl_improved = Ridge().fit(x_expanded, y)\n",
    "mdl_improved.coef_"
   ]
  },
  {
   "cell_type": "code",
   "execution_count": 16,
   "metadata": {},
   "outputs": [],
   "source": [
    "# Oh! Check it out, the model learned exactly what we wanted it to learn! (Well, almost)\n",
    "# What if we reduced our regularization, do we think the model would get closer to [1, 1, -2],\n",
    "# Or further away?"
   ]
  },
  {
   "cell_type": "code",
   "execution_count": 17,
   "metadata": {},
   "outputs": [
    {
     "data": {
      "text/plain": [
       "array([ 1.,  1., -2.])"
      ]
     },
     "execution_count": 17,
     "metadata": {},
     "output_type": "execute_result"
    }
   ],
   "source": [
    "mdl_improved = Ridge(0).fit(x_expanded, y)\n",
    "mdl_improved.coef_"
   ]
  },
  {
   "cell_type": "code",
   "execution_count": 18,
   "metadata": {},
   "outputs": [],
   "source": [
    "# Wow! It's perfect! Great.\n",
    "# So the problem here is, we already knew to compute x3, that new feature\n",
    "# Before we improved our model.\n",
    "# Let's do a few things with our original x, y dataset"
   ]
  },
  {
   "cell_type": "code",
   "execution_count": 19,
   "metadata": {},
   "outputs": [],
   "source": [
    "# First, let's check if other models could solve this problem.\n",
    "# Let's try a decision tree, and a neural network."
   ]
  },
  {
   "cell_type": "code",
   "execution_count": 20,
   "metadata": {},
   "outputs": [],
   "source": [
    "from sklearn.tree import DecisionTreeRegressor"
   ]
  },
  {
   "cell_type": "code",
   "execution_count": 21,
   "metadata": {},
   "outputs": [
    {
     "data": {
      "text/plain": [
       "1.0"
      ]
     },
     "execution_count": 21,
     "metadata": {},
     "output_type": "execute_result"
    }
   ],
   "source": [
    "dt = DecisionTreeRegressor().fit(x, y)\n",
    "yhat_dt = dt.predict(x)\n",
    "(yhat_dt == y).mean()"
   ]
  },
  {
   "cell_type": "code",
   "execution_count": 22,
   "metadata": {},
   "outputs": [],
   "source": [
    "from sklearn.neural_network import MLPRegressor\n"
   ]
  },
  {
   "cell_type": "code",
   "execution_count": 23,
   "metadata": {},
   "outputs": [
    {
     "data": {
      "text/plain": [
       "1.0"
      ]
     },
     "execution_count": 23,
     "metadata": {},
     "output_type": "execute_result"
    }
   ],
   "source": [
    "nn = MLPRegressor((100, 100)).fit(x, y)\n",
    "yhat_nn = nn.predict(x) > .5\n",
    "(yhat_nn == y).mean()"
   ]
  },
  {
   "cell_type": "code",
   "execution_count": 24,
   "metadata": {},
   "outputs": [],
   "source": [
    "# Okay, so we know that it's possible for a model to automatically learn stuff like our \n",
    "# \"x_expanded\" from earlier, that they can use to solve x_or\n",
    "# So let's try to implement a model like linear regression, but with this quirk.\n",
    "# Let's try a bunch of linear regressions each computing their own features\n",
    "# Let's call teh number of linear regressions we do in this first layer num_hidden,\n",
    "# Because we call this the hidden layer of our neural network.\n",
    "# We can treat these\n",
    "# Three like features from a fake dataset, and use them to do linear regression to predict y."
   ]
  },
  {
   "cell_type": "code",
   "execution_count": 25,
   "metadata": {},
   "outputs": [],
   "source": [
    "num_hidden = 100"
   ]
  },
  {
   "cell_type": "code",
   "execution_count": 26,
   "metadata": {},
   "outputs": [],
   "source": [
    "first_lr = np.random.rand(2, num_hidden)"
   ]
  },
  {
   "cell_type": "code",
   "execution_count": 27,
   "metadata": {},
   "outputs": [],
   "source": [
    "second_lr = np.random.rand(num_hidden)"
   ]
  },
  {
   "cell_type": "code",
   "execution_count": 28,
   "metadata": {},
   "outputs": [],
   "source": [
    "# So here's the issue. If we do this directly, it will mathematically represent the same thing\n",
    "# As a single linear regression from x prediction y.\n",
    "# Here are some links that describe the issue. I won't go into it in detail\n",
    "# https://math.stackexchange.com/questions/1948502/show-that-multiplication-of-matrices-corresponds-to-composition-of-linear-transf\n",
    "# http://www.math.lsa.umich.edu/~kesmith/217worksheet2-3ALT1.pdf\n",
    "# Let me propose a specific trick to get around this though. All we need is to not compose linear \n",
    "# Functions. So how about we look at the features we computed with the first step, let's put them\n",
    "# Through this kink function (called a leaky relu), that is NOT LINEAR.\n",
    "# Now we're good to go"
   ]
  },
  {
   "cell_type": "code",
   "execution_count": 29,
   "metadata": {},
   "outputs": [],
   "source": [
    "def leaky_relu(x):\n",
    "    return (x>0) * x + (x< 0) * x * .1"
   ]
  },
  {
   "cell_type": "code",
   "execution_count": 30,
   "metadata": {},
   "outputs": [],
   "source": [
    "xviz = np.linspace(-10, 10, 1000)"
   ]
  },
  {
   "cell_type": "code",
   "execution_count": 31,
   "metadata": {},
   "outputs": [],
   "source": [
    "yviz = leaky_relu(xviz)"
   ]
  },
  {
   "cell_type": "code",
   "execution_count": 32,
   "metadata": {},
   "outputs": [
    {
     "data": {
      "text/plain": [
       "[<matplotlib.lines.Line2D at 0x1e9a0021108>]"
      ]
     },
     "execution_count": 32,
     "metadata": {},
     "output_type": "execute_result"
    },
    {
     "data": {
      "image/png": "[encoded data removed]",
      "text/plain": [
       "<Figure size 432x288 with 1 Axes>"
      ]
     },
     "metadata": {
      "needs_background": "light"
     },
     "output_type": "display_data"
    }
   ],
   "source": [
    "import matplotlib.pyplot as plt\n",
    "plt.plot(xviz, yviz)"
   ]
  },
  {
   "cell_type": "code",
   "execution_count": 33,
   "metadata": {},
   "outputs": [],
   "source": [
    "# Great! So now let's build it.\n",
    "features = x.dot(first_lr)"
   ]
  },
  {
   "cell_type": "code",
   "execution_count": 34,
   "metadata": {},
   "outputs": [
    {
     "data": {
      "text/plain": [
       "(1000, 100)"
      ]
     },
     "execution_count": 34,
     "metadata": {},
     "output_type": "execute_result"
    }
   ],
   "source": [
    "features.shape"
   ]
  },
  {
   "cell_type": "code",
   "execution_count": 35,
   "metadata": {},
   "outputs": [],
   "source": [
    "yhat = features.dot(second_lr)"
   ]
  },
  {
   "cell_type": "code",
   "execution_count": 36,
   "metadata": {},
   "outputs": [],
   "source": [
    "loss = (yhat - y) **2\n",
    "dl_dyhat = y - yhat"
   ]
  },
  {
   "cell_type": "code",
   "execution_count": 37,
   "metadata": {},
   "outputs": [
    {
     "data": {
      "text/plain": [
       "(1000,)"
      ]
     },
     "execution_count": 37,
     "metadata": {},
     "output_type": "execute_result"
    }
   ],
   "source": [
    "dl_dyhat.shape"
   ]
  },
  {
   "cell_type": "code",
   "execution_count": 38,
   "metadata": {},
   "outputs": [
    {
     "data": {
      "text/plain": [
       "(100,)"
      ]
     },
     "execution_count": 38,
     "metadata": {},
     "output_type": "execute_result"
    }
   ],
   "source": [
    "second_lr.shape"
   ]
  },
  {
   "cell_type": "code",
   "execution_count": 39,
   "metadata": {},
   "outputs": [],
   "source": [
    "dl_dsecond_lr = dl_dyhat.dot(features)\n",
    "dl_dfeatures = np.matmul(dl_dyhat[:,None], second_lr[None,:])"
   ]
  },
  {
   "cell_type": "code",
   "execution_count": 40,
   "metadata": {},
   "outputs": [
    {
     "data": {
      "text/plain": [
       "(1000, 100)"
      ]
     },
     "execution_count": 40,
     "metadata": {},
     "output_type": "execute_result"
    }
   ],
   "source": [
    "dl_dfeatures.shape"
   ]
  },
  {
   "cell_type": "code",
   "execution_count": 41,
   "metadata": {},
   "outputs": [],
   "source": [
    "# check the features of each of our derivitives! For instance, dl_dfeatures is the same shape \n",
    "# as features. This makes sense, because the derivitive tells us which direction it wants us to change\n",
    "# Each of the values"
   ]
  },
  {
   "cell_type": "code",
   "execution_count": 42,
   "metadata": {},
   "outputs": [
    {
     "data": {
      "text/plain": [
       "(1000, 2)"
      ]
     },
     "execution_count": 42,
     "metadata": {},
     "output_type": "execute_result"
    }
   ],
   "source": [
    "x.shape"
   ]
  },
  {
   "cell_type": "code",
   "execution_count": 43,
   "metadata": {},
   "outputs": [
    {
     "data": {
      "text/plain": [
       "(1000, 100)"
      ]
     },
     "execution_count": 43,
     "metadata": {},
     "output_type": "execute_result"
    }
   ],
   "source": [
    "dl_dfeatures.shape"
   ]
  },
  {
   "cell_type": "code",
   "execution_count": 44,
   "metadata": {},
   "outputs": [],
   "source": [
    "dl_dfirst_lr = x.T.dot(dl_dfeatures)"
   ]
  },
  {
   "cell_type": "code",
   "execution_count": 45,
   "metadata": {},
   "outputs": [],
   "source": [
    "# Okay! We calculated all our derivitives. Let's put this in a for loop to update our parameters"
   ]
  },
  {
   "cell_type": "code",
   "execution_count": 46,
   "metadata": {
    "scrolled": true
   },
   "outputs": [
    {
     "name": "stdout",
     "output_type": "stream",
     "text": [
      "0 loss 504.9997491806817\n",
      "0 acc 0.495\n",
      "10 loss 504.9994326655365\n",
      "10 acc 0.495\n",
      "20 loss 504.99882589232226\n",
      "20 acc 0.495\n",
      "30 loss 504.99761721494673\n",
      "30 acc 0.495\n",
      "40 loss 504.9951864572196\n",
      "40 acc 0.495\n",
      "50 loss 504.9902867528474\n",
      "50 acc 0.495\n",
      "60 loss 504.98040520875276\n",
      "60 acc 0.495\n",
      "70 loss 504.96047514957473\n",
      "70 acc 0.495\n",
      "80 loss 504.9202823902344\n",
      "80 acc 0.495\n",
      "90 loss 504.83924739314676\n",
      "90 acc 0.495\n"
     ]
    }
   ],
   "source": [
    "np.random.seed(0)\n",
    "lr = .0001\n",
    "first_lr = np.random.rand(2, num_hidden)/10000\n",
    "second_lr = np.random.rand(num_hidden)/10000\n",
    "for update_step in range(100):\n",
    "    features = x.dot(first_lr)\n",
    "    yhat = features.dot(second_lr)\n",
    "    loss = sum((yhat - y) **2)\n",
    "    dl_dyhat = y - yhat\n",
    "    dl_dsecond_lr = dl_dyhat.dot(features)\n",
    "    dl_dfeatures = np.matmul(dl_dyhat[:,None], second_lr[None,:])\n",
    "    dl_dfirst_lr = x.T.dot(dl_dfeatures)\n",
    "    first_lr = first_lr + lr * dl_dfirst_lr\n",
    "    second_lr = second_lr + lr * dl_dsecond_lr\n",
    "    if update_step % 10 == 0:\n",
    "        print(update_step, 'loss', loss)\n",
    "        print(update_step, 'acc', ((yhat > 0.5) == y).mean())"
   ]
  },
  {
   "cell_type": "code",
   "execution_count": 47,
   "metadata": {},
   "outputs": [],
   "source": [
    "# Okay, so we were able to train the model and reduce the loss, but we still didn't\n",
    "# learn accuracy greater than half.\n",
    "# So let's do that thing we talked about earlier, and put the leaky relu in for our \"hidden features\"\n",
    "# (the one's after the first linear regression)"
   ]
  },
  {
   "cell_type": "code",
   "execution_count": null,
   "metadata": {},
   "outputs": [],
   "source": []
  },
  {
   "cell_type": "code",
   "execution_count": 48,
   "metadata": {},
   "outputs": [
    {
     "name": "stdout",
     "output_type": "stream",
     "text": [
      "0 loss 499.9067990010829\n",
      "0 acc 0.495\n",
      "10 loss 202.41668325759971\n",
      "10 acc 0.736\n",
      "20 loss 91.09898542856757\n",
      "20 acc 1.0\n",
      "30 loss 28.408951388378316\n",
      "30 acc 1.0\n",
      "40 loss 11.630455533755187\n",
      "40 acc 1.0\n",
      "50 loss 5.851627029605045\n",
      "50 acc 1.0\n",
      "60 loss 2.381246176246608\n",
      "60 acc 1.0\n",
      "70 loss 0.04595059700045355\n",
      "70 acc 1.0\n",
      "80 loss 0.016764386798230946\n",
      "80 acc 1.0\n",
      "90 loss 0.013079879828295112\n",
      "90 acc 1.0\n"
     ]
    }
   ],
   "source": [
    "\n",
    "lr = .00001\n",
    "first_lr = np.random.rand(2, num_hidden)/10000\n",
    "second_lr = np.random.rand(num_hidden)/10000\n",
    "for update_step in range(100):\n",
    "    features = x.dot(first_lr)\n",
    "    features = features > 0 + (features < 0) * .1\n",
    "    yhat = features.dot(second_lr)\n",
    "    loss = sum((yhat - y) **2)\n",
    "    dl_dyhat = y - yhat\n",
    "    dl_dsecond_lr = dl_dyhat.dot(features)\n",
    "    dl_dfeatures = np.matmul(dl_dyhat[:,None], second_lr[None,:])\n",
    "    dl_dfeatures = dl_dfeatures * ((features > 0) + (features <= 0) * .1)\n",
    "    dl_dfirst_lr = x.T.dot(dl_dfeatures)\n",
    "    first_lr = first_lr + lr * dl_dfirst_lr\n",
    "    second_lr = second_lr + lr * dl_dsecond_lr\n",
    "    if update_step % 10 == 0:\n",
    "        print(update_step, 'loss', loss)\n",
    "        print(update_step, 'acc', ((yhat > 0.5) == y).mean())"
   ]
  },
  {
   "cell_type": "code",
   "execution_count": 49,
   "metadata": {},
   "outputs": [],
   "source": [
    "# WOOO! We got 100% accuracy! That's called a neurel network.\n",
    "# We can also insert more hidden layers. Each hidden layer's job is just to compute teh next\n",
    "# Hidden layer, before finally the last one is used to perform the final linear regression"
   ]
  },
  {
   "cell_type": "code",
   "execution_count": null,
   "metadata": {},
   "outputs": [],
   "source": []
  }
 ],
 "metadata": {
  "kernelspec": {
   "display_name": "Python 3",
   "language": "python",
   "name": "python3"
  },
  "language_info": {
   "codemirror_mode": {
    "name": "ipython",
    "version": 3
   },
   "file_extension": ".py",
   "mimetype": "text/x-python",
   "name": "python",
   "nbconvert_exporter": "python",
   "pygments_lexer": "ipython3",
   "version": "3.7.6"
  }
 },
 "nbformat": 4,
 "nbformat_minor": 4
}
