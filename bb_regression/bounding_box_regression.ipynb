{
 "cells": [
  {
   "cell_type": "code",
   "execution_count": null,
   "metadata": {},
   "outputs": [],
   "source": [
    "# !pip install --upgrade scipy"
   ]
  },
  {
   "cell_type": "code",
   "execution_count": null,
   "metadata": {
    "scrolled": false
   },
   "outputs": [],
   "source": [
    "# !pip install opencv-python"
   ]
  },
  {
   "cell_type": "code",
   "execution_count": null,
   "metadata": {},
   "outputs": [],
   "source": [
    "# !pip install imgaug"
   ]
  },
  {
   "cell_type": "code",
   "execution_count": null,
   "metadata": {
    "scrolled": true
   },
   "outputs": [],
   "source": [
    "import scipy\n",
    "from scipy import io\n",
    "import imageio\n",
    "import cv2\n",
    "import pandas as pd\n",
    "import os\n",
    "from imgaug.augmentables.bbs import BoundingBox, BoundingBoxesOnImage\n",
    "import re"
   ]
  },
  {
   "cell_type": "code",
   "execution_count": null,
   "metadata": {},
   "outputs": [],
   "source": [
    "def extract_mat_contents(annot_directory, image_dir):\n",
    "    mat = scipy.io.loadmat(annot_directory)\n",
    "    height, width = cv2.imread(image_dir).shape[:2]\n",
    "    x1, y2, y1, x2 = tuple(map(tuple, mat['box_coord']))[0]\n",
    "    class_name = image_dir.split('\\\\')[1]\n",
    "    filename = '\\\\'.join(image_dir.split('\\\\')[-2:])\n",
    "    return filename,  width, height, class_name, x1,y1,x2,y2"
   ]
  },
  {
   "cell_type": "code",
   "execution_count": null,
   "metadata": {},
   "outputs": [],
   "source": [
    "\n",
    "# Function to convert MAT files to CSV\n",
    "def mat_to_csv(annot_directory, image_directory, classes_folders):\n",
    "    mat_list = []\n",
    "    for class_folder in classes_folders:\n",
    "        image_dir = os.path.join(image_directory, class_folder)\n",
    "        annot_dir = os.path.join(annot_directory, class_folder)\n",
    "        mat_files = sorted(os.listdir(annot_dir))\n",
    "        img_files = sorted(os.listdir(image_dir))\n",
    "        for mat, image_file in zip(mat_files, img_files):\n",
    "            mat_path = os.path.join(annot_dir, mat)\n",
    "            img_path = os.path.join(image_dir, image_file)\n",
    "            value = extract_mat_contents(mat_path, img_path)\n",
    "            mat_list.append(value)\n",
    "    column_name = [\"filename\", \"width\", \"height\", \"class\", \"xmin\", \"ymin\", \"xmax\", \"ymax\"]\n",
    "    mat_df = pd.DataFrame(mat_list, columns=column_name)\n",
    "    return mat_df\n"
   ]
  },
  {
   "cell_type": "code",
   "execution_count": null,
   "metadata": {},
   "outputs": [],
   "source": [
    "\n",
    "# The Classes we will use for our training\n",
    "# classes_list = sorted(['airplanes', 'ant'])\n",
    "classes_list = sorted(['butterfly',  'cougar_face', 'elephant'])\n",
    "\n",
    "\n",
    "# Set our images and annotations directory\n",
    "image_directory = '101_ObjectCategories'\n",
    "annot_directory = 'Annotations'\n",
    "\n",
    "# Run the function to convert all the MAT files to a Pandas DataFrame\n",
    "labels_df = mat_to_csv(annot_directory, image_directory, classes_list)\n",
    "\n",
    "# Saving the Pandas DataFrame as CSV File\n",
    "labels_df.to_csv(('labels.csv'), index=None)"
   ]
  },
  {
   "cell_type": "code",
   "execution_count": null,
   "metadata": {
    "scrolled": true
   },
   "outputs": [],
   "source": [
    "mat_list = []\n",
    "for class_folder in classes_list:\n",
    "    image_dir = os.path.join(image_directory, class_folder)\n",
    "    annot_dir = os.path.join(annot_directory, class_folder)\n",
    "    mat_files = sorted(os.listdir(annot_dir))\n",
    "    img_files = sorted(os.listdir(image_dir))\n",
    "    for mat, image_file in zip(mat_files, img_files):\n",
    "        mat_path = os.path.join(annot_dir, mat)\n",
    "        img_path = os.path.join(image_dir, image_file)\n",
    "        value = extract_mat_contents(mat_path, img_path)\n",
    "        mat_list.append(value)\n",
    "column_name = [\"filename\", \"width\", \"height\", \"class\", \"xmin\", \"ymin\", \"xmax\", \"ymax\"]\n",
    "mat_df = pd.DataFrame(mat_list, columns=column_name)\n"
   ]
  },
  {
   "cell_type": "code",
   "execution_count": null,
   "metadata": {},
   "outputs": [],
   "source": [
    "# Function to convert bounding box image into DataFrame \n",
    "def bounding_boxes_to_df(bounding_boxes_object):\n",
    "\n",
    "    # Convert Bounding Boxes Object to Array\n",
    "    bounding_boxes_array = bounding_boxes_object.to_xyxy_array()\n",
    "    \n",
    "    # Convert the array into DataFrame\n",
    "    df_bounding_boxes = pd.DataFrame(bounding_boxes_array,columns=['xmin', 'ymin', 'xmax', 'ymax'])\n",
    "    \n",
    "    # Return the DataFrame\n",
    "    return df_bounding_boxes"
   ]
  },
  {
   "cell_type": "code",
   "execution_count": null,
   "metadata": {},
   "outputs": [],
   "source": [
    "from imgaug import augmenters as iaa"
   ]
  },
  {
   "cell_type": "code",
   "execution_count": null,
   "metadata": {},
   "outputs": [],
   "source": [
    "# Define all the Augmentations you want to apply to your dataset\n",
    "# We're setting random `n` agumentations to 2. \n",
    "image_augmentations = iaa.SomeOf( 2,\n",
    "    [                                 \n",
    "    # Scale the Images\n",
    "    iaa.Affine(scale=(0.5, 1.5)),\n",
    "\n",
    "    # Rotate the Images\n",
    "    iaa.Affine(rotate=(-60, 60)),\n",
    "\n",
    "    # Shift the Image\n",
    "    iaa.Affine(translate_percent={\"x\":(-0.3, 0.3),\"y\":(-0.3, 0.3)}),\n",
    "\n",
    "    # Flip the Image\n",
    "    iaa.Fliplr(1),\n",
    "\n",
    "    # Increase or decrease the brightness\n",
    "    iaa.Multiply((0.5, 1.5)),\n",
    "\n",
    "    # Add Gaussian Blur\n",
    "    iaa.GaussianBlur(sigma=(1.0, 3.0)),\n",
    "    \n",
    "    # Add Gaussian Noise\n",
    "    iaa.AdditiveGaussianNoise(scale=(0.03*255, 0.05*255))\n",
    "\n",
    "])"
   ]
  },
  {
   "cell_type": "code",
   "execution_count": null,
   "metadata": {
    "scrolled": true
   },
   "outputs": [],
   "source": [
    "labels_df"
   ]
  },
  {
   "cell_type": "code",
   "execution_count": null,
   "metadata": {},
   "outputs": [],
   "source": [
    "import matplotlib.pyplot as plt\n",
    "import matplotlib.patches as patches"
   ]
  },
  {
   "cell_type": "code",
   "execution_count": null,
   "metadata": {
    "scrolled": true
   },
   "outputs": [],
   "source": [
    "for i in range(100):\n",
    "    img = imageio.imread(os.path.join('101_ObjectCategories', labels_df.iloc[i,0]))\n",
    "\n",
    "    left, top, right, bottom = labels_df[['xmin', 'ymin', 'xmax', 'ymax']].iloc[i]\n",
    "    width = right - left\n",
    "    height = bottom - top\n",
    "    fig, ax = plt.subplots()\n",
    "    ax.imshow(img)\n",
    "    rect = patches.Rectangle((left, top), width, height, linewidth=1, edgecolor='r', facecolor='none')\n",
    "    ax.add_patch(rect)\n",
    "    plt.show()"
   ]
  },
  {
   "cell_type": "code",
   "execution_count": null,
   "metadata": {},
   "outputs": [],
   "source": [
    "img = imageio.imread(labels_df.iloc[0,0])\n",
    "plt.imshow(img)"
   ]
  },
  {
   "cell_type": "code",
   "execution_count": null,
   "metadata": {},
   "outputs": [],
   "source": [
    "def image_aug(df, images_path, aug_images_path, augmentor, multiple=3):\n",
    "    augmentations_df = pd.DataFrame(columns=[\"filename\", \"width\", \"height\", \"class\", \"xmin\", \"ymin\", \"xmax\", \"ymax\"])\n",
    "    grouped_df = df.groupby(\"filename\")\n",
    "    if not os.path.exists(aug_images_path):\n",
    "        os.mkdir(aug_images_path)\n",
    "    for folder in df[\"class\"].unique():\n",
    "        if not os.path.exists(os.path.join(aug_images_path, folder)):\n",
    "            os.mkdir(os.path.join(aug_images_path, folder))\n",
    "    for i in range(multiple):\n",
    "        image_postfix = str(i)\n",
    "        for filename in df[\"filename\"].unique():\n",
    "            augmented_path = os.path.join(aug_images_path, filename) + image_postfix + \".jpg\"\n",
    "            single_image = grouped_df.get_group(filename)\n",
    "            single_image = single_image.reset_index()\n",
    "            single_image = single_image.drop([\"index\"], axis=1)\n",
    "            image = imageio.imread(os.path.join(images_path, filename))\n",
    "            bounding_box_array = single_image.drop([\"filename\", \"width\", \"height\", \"class\"], axis=1).values\n",
    "            bounding_box = BoundingBoxesOnImage.from_xyxy_array(bounding_box_array, shape=image.shape)\n",
    "            image_aug, bounding_box_aug = augmentor(image=image, bounding_boxes=bounding_box)\n",
    "            bounding_box_aug = bounding_box_aug.remove_out_of_image()\n",
    "            bounding_box_aug = bounding_box_aug.clip_out_of_image()\n",
    "            if re.findall(\"Image...\", str(bounding_box_aug)) == [\"Image([]\"]:\n",
    "                pass\n",
    "            else:\n",
    "                imageio.imwrite(augmented_path, image_aug)\n",
    "                info_df = single_image.drop([\"xmin\", \"ymin\", \"xmax\", \"ymax\"], axis=1)\n",
    "                for index, _ in info_df.iterrows():\n",
    "                    info_df.at[index, \"width\"] = image_aug.shape[1]\n",
    "                    info_df.at[index, \"height\"] = image_aug.shape[0]\n",
    "                info_df[\"filename\"] = info_df[\"filename\"].apply(lambda x: x + image_postfix + \".jpg\")\n",
    "                bounding_box_df = bounding_boxes_to_df(bounding_box_aug)\n",
    "                aug_df = pd.concat([info_df, bounding_box_df], axis=1)\n",
    "                augmentations_df = pd.concat([augmentations_df, aug_df])\n",
    "    augmentations_df = augmentations_df.reset_index()\n",
    "    augmentations_df = augmentations_df.drop([\"index\"], axis=1)\n",
    "    return augmentations_df\n",
    "augmented_images_df = image_aug(labels_df, image_directory, \"aug_images\", image_augmentations)"
   ]
  },
  {
   "cell_type": "code",
   "execution_count": null,
   "metadata": {},
   "outputs": [],
   "source": [
    "augmented_images_df = augmented_images_df.sort_values('filename', ignore_index= True)\n",
    "augmented_images_df.to_csv('aug.csv')\n",
    "\n",
    "# Check Dataset Size\n",
    "print('Our total dataset Size before the augmentations was: ', len(labels_df))\n",
    "print('Our total dataset Size after the augmentations is: ', len(augmented_images_df))"
   ]
  },
  {
   "cell_type": "code",
   "execution_count": null,
   "metadata": {},
   "outputs": [],
   "source": [
    "augmented_images_df"
   ]
  },
  {
   "cell_type": "code",
   "execution_count": 84,
   "metadata": {},
   "outputs": [],
   "source": [
    "import numpy as np\n",
    "import matplotlib.pyplot as plt\n",
    "\n",
    "def sigmoid(x):\n",
    "    return np.where(x >= 0, 1 / (1 + np.exp(-x)), np.exp(x) / (1 + np.exp(x)))\n",
    "x = np.arange(2000)/100\n",
    "sales_scale = 1e9\n",
    "spend_scale = 1e5\n",
    "norm_factor = sales_scale / spend_scale\n",
    "y = (sigmoid(x**.5) +  x/40) / norm_factor"
   ]
  },
  {
   "cell_type": "code",
   "execution_count": 85,
   "metadata": {},
   "outputs": [
    {
     "data": {
      "text/plain": [
       "1"
      ]
     },
     "execution_count": 85,
     "metadata": {},
     "output_type": "execute_result"
    }
   ],
   "source": [
    "1"
   ]
  },
  {
   "cell_type": "code",
   "execution_count": 86,
   "metadata": {},
   "outputs": [
    {
     "data": {
      "image/png": "[encoded data removed]",
      "text/plain": [
       "<Figure size 432x288 with 1 Axes>"
      ]
     },
     "metadata": {
      "needs_background": "light"
     },
     "output_type": "display_data"
    }
   ],
   "source": [
    "plt.plot(x, y)\n",
    "y = sigmoid(x**.8) / norm_factor\n",
    "plt.plot(x, y)\n",
    "plt.show()"
   ]
  },
  {
   "cell_type": "code",
   "execution_count": null,
   "metadata": {},
   "outputs": [],
   "source": []
  }
 ],
 "metadata": {
  "kernelspec": {
   "display_name": "Python 3",
   "language": "python",
   "name": "python3"
  },
  "language_info": {
   "codemirror_mode": {
    "name": "ipython",
    "version": 3
   },
   "file_extension": ".py",
   "mimetype": "text/x-python",
   "name": "python",
   "nbconvert_exporter": "python",
   "pygments_lexer": "ipython3",
   "version": "3.8.5"
  }
 },
 "nbformat": 4,
 "nbformat_minor": 5
}
