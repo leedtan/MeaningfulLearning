{
 "cells": [
  {
   "cell_type": "code",
   "execution_count": 1,
   "metadata": {},
   "outputs": [],
   "source": [
    "# For this homework, we will explore the math behind linear regression\n",
    "# And explore how to implement it in clean code"
   ]
  },
  {
   "cell_type": "code",
   "execution_count": 2,
   "metadata": {},
   "outputs": [],
   "source": [
    "# Our mathematical model is \n",
    "# Y = A * X\n",
    "\n",
    "# Our loss function is\n",
    "# mean((Yhat - Ytrue)**2) + lambda * mean(A ** 2)\n",
    "# See how our parameters A are penalized? The bigger the parameters, \n",
    "# The bigger the loss. And our choise of lambda (regularization) influences\n",
    "# How much our parameters are regularized."
   ]
  },
  {
   "cell_type": "code",
   "execution_count": 3,
   "metadata": {},
   "outputs": [],
   "source": [
    "# Choose your dataset size\n",
    "import numpy as np\n",
    "n_data, n_features = 100, 10\n",
    "epochs = 1000\n",
    "reg_lambda = 100.\n",
    "lr = .00001\n",
    "x = np.random.rand(n_data, n_features)\n",
    "y = x.sum(1)\n",
    "model_A = np.zeros(n_features)\n",
    "losses = []"
   ]
  },
  {
   "cell_type": "code",
   "execution_count": 4,
   "metadata": {},
   "outputs": [],
   "source": [
    "for _ in range(epochs):\n",
    "    yhat = x.dot(model_A)\n",
    "    mse = np.square(yhat - y).mean()\n",
    "    losses.append(mse)\n",
    "    reg_loss = np.square(model_A).mean() * reg_lambda\n",
    "    loss = reg_loss + mse\n",
    "    gradient_mse_yhat = yhat - y\n",
    "    gradient_reg_A = reg_lambda * model_A\n",
    "    gradient_yhat_A = x\n",
    "    gradient_mse_A = gradient_mse_yhat.dot(gradient_yhat_A)\n",
    "    gradient_loss_A = gradient_mse_A + gradient_reg_A\n",
    "    model_A = model_A - gradient_loss_A * lr"
   ]
  },
  {
   "cell_type": "code",
   "execution_count": 5,
   "metadata": {},
   "outputs": [
    {
     "data": {
      "text/plain": [
       "array([0.6667042 , 0.73980344, 0.71135519, 0.7440437 , 0.68358046,\n",
       "       0.73966044, 0.66163875, 0.70762531, 0.71679108, 0.70577125])"
      ]
     },
     "execution_count": 5,
     "metadata": {},
     "output_type": "execute_result"
    }
   ],
   "source": [
    "model_A"
   ]
  },
  {
   "cell_type": "code",
   "execution_count": null,
   "metadata": {},
   "outputs": [],
   "source": []
  },
  {
   "cell_type": "code",
   "execution_count": null,
   "metadata": {},
   "outputs": [],
   "source": []
  }
 ],
 "metadata": {
  "kernelspec": {
   "display_name": "Python 3",
   "language": "python",
   "name": "python3"
  },
  "language_info": {
   "codemirror_mode": {
    "name": "ipython",
    "version": 3
   },
   "file_extension": ".py",
   "mimetype": "text/x-python",
   "name": "python",
   "nbconvert_exporter": "python",
   "pygments_lexer": "ipython3",
   "version": "3.7.6"
  }
 },
 "nbformat": 4,
 "nbformat_minor": 4
}
