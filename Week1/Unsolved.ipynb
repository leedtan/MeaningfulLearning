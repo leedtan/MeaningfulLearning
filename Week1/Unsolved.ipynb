{
 "cells": [
  {
   "cell_type": "markdown",
   "metadata": {},
   "source": [
    "Link to skills vs jobs description:\n",
    "https://app.diagrams.net/#G16F1SkxF6kGGOIL4XxpaIXYM59bpblapc"
   ]
  },
  {
   "cell_type": "code",
   "execution_count": null,
   "metadata": {},
   "outputs": [],
   "source": [
    "# For the following sections, please self report \n",
    "# 0- This was trivial, and i wrote the answer immediately\n",
    "# 1- I solved this myself\n",
    "# 2- I solved this with googling\n",
    "# 3- I looked up and understand the solution\n",
    "# 4- I looked up and don't understand the solution"
   ]
  },
  {
   "cell_type": "code",
   "execution_count": null,
   "metadata": {},
   "outputs": [],
   "source": [
    "# Write a function that computes if you are allowed to sleep in today\n",
    "def sleepin(weekend, holiday):\n",
    "    # your code here\n",
    "    return \n",
    "\n",
    "assert [True, True, False, True] == [\n",
    "    sleepin(weekend, holiday) for weekend, holiday in zip([True, True, False, False], [True, False, True, False])]"
   ]
  },
  {
   "cell_type": "code",
   "execution_count": null,
   "metadata": {},
   "outputs": [],
   "source": [
    "# Write a function that computes all numbers 0-100 that are divisible by 7\n",
    "def sevens():\n",
    "    # your code here\n",
    "    return\n",
    "assert [0, 7, 14, 21, 28, 35, 42, 49, 56, 63, 70, 77, 84, 91, 98] == sevens()"
   ]
  },
  {
   "cell_type": "code",
   "execution_count": null,
   "metadata": {},
   "outputs": [],
   "source": [
    "# Python core Libraries"
   ]
  },
  {
   "cell_type": "code",
   "execution_count": null,
   "metadata": {},
   "outputs": [],
   "source": [
    "# Numpy\n",
    "import numpy as np\n",
    "# Take the sum of the ith column of a matrix\n",
    "def sum_i(matrix, i):\n",
    "    # your code here\n",
    "    return\n",
    "assert sum_i(np.array([[1, 2, 3], [4, 5, 6]]), 1) == 7"
   ]
  },
  {
   "cell_type": "code",
   "execution_count": null,
   "metadata": {},
   "outputs": [],
   "source": [
    "# Numpy\n",
    "import numpy as np\n",
    "# Find the value of location [i, j] in matrix\n",
    "def get_value(matrix, i, j):\n",
    "    # your code here\n",
    "    return\n",
    "assert get_value(np.array([[1, 2, 3], [4, 5, 6]]), 1, 0) == 4"
   ]
  },
  {
   "cell_type": "code",
   "execution_count": null,
   "metadata": {},
   "outputs": [],
   "source": [
    "# Numpy\n",
    "import numpy as np\n",
    "# I have friends in my neighborhood. matrix knows how many apples they have in their house.\n",
    "# i is an array of all of their x-locations, y is an array of all of their y-locations.\n",
    "# return the sum of how many apples my friends have.\n",
    "def sum_values(matrix, i_vals, j_vals):\n",
    "    # your code here\n",
    "    return\n",
    "assert sum_values(np.array([[1, 2, 3], [4, 5, 6]]), [0, 0, 1, 0], [0, 2, 1, 1]) == 11"
   ]
  },
  {
   "cell_type": "code",
   "execution_count": null,
   "metadata": {},
   "outputs": [],
   "source": [
    "# Pandas:\n",
    "import pandas as pd\n",
    "df = pd.DataFrame({'pokemon':['red', 'blue', 'green', 'red', 'blue', 'blue'],\n",
    "                   'owner': ['fred', 'fred', 'fred', 'jim', 'jim', 'sally'],\n",
    "                  'attack power': [1, 2, 3, 7, 5, 6]})"
   ]
  },
  {
   "cell_type": "code",
   "execution_count": null,
   "metadata": {},
   "outputs": [],
   "source": [
    "# Pandas\n",
    "# return the total attack power in this dataframe.\n",
    "def get_attack_power(df):\n",
    "    # your code here\n",
    "    return\n",
    "assert get_attack_power(df) == 24"
   ]
  },
  {
   "cell_type": "code",
   "execution_count": null,
   "metadata": {},
   "outputs": [],
   "source": [
    "# Pandas\n",
    "# return the total value of columns i or columns \"column name\"\n",
    "def get_attack_power(df, i = None, columnname = None):\n",
    "    # your code here\n",
    "    return\n",
    "assert get_attack_power(df, i=2) == 24\n",
    "assert get_attack_power(df, columnname = 'attack power') == 24"
   ]
  },
  {
   "cell_type": "code",
   "execution_count": null,
   "metadata": {},
   "outputs": [],
   "source": [
    "# Pandas\n",
    "# return the dataframe of only the rows with blue pokemon\n",
    "def get_blue(df):\n",
    "    # your code here\n",
    "    return\n",
    "assert get_blue(df).shape == (3, 3)"
   ]
  },
  {
   "cell_type": "code",
   "execution_count": null,
   "metadata": {},
   "outputs": [],
   "source": [
    "# Pandas\n",
    "# return the color of the most powerful pokemon for each owner\n",
    "\n",
    "# hint: a helper function might help\n",
    "def get_powerful_color(df):\n",
    "    # your code here\n",
    "    return\n",
    "assert (get_powerful_color(df).shape == pd.Series({'fred':'green', 'jim':'red', 'sally':'blue'})).all()"
   ]
  },
  {
   "cell_type": "markdown",
   "metadata": {},
   "source": [
    "SQL\n",
    "\n",
    "Go to this website and try to solve this problem without checking the solution\n",
    "\n",
    "https://leetcode.com/problems/combine-two-tables/"
   ]
  },
  {
   "cell_type": "code",
   "execution_count": null,
   "metadata": {},
   "outputs": [],
   "source": [
    "# The point of this section is just to make sure you know that manual labor is never required, and that\n",
    "# most text editing tasks we need to do can be easily automated in a notebook\n",
    "\n",
    "# Jupyter\n",
    "# In one keystroke, please delete all of the last words and replace them with the word 'hello' for each line\n",
    "a = 'starting with ' + 'hi'\n",
    "b = 'this exercise is ' + 'silly'\n",
    "c = a + 'hiya'\n",
    "\n",
    "# hint: Alt + leftclick, drag. arrows to move. ctrl + backspace to delete a word."
   ]
  },
  {
   "cell_type": "code",
   "execution_count": null,
   "metadata": {},
   "outputs": [],
   "source": [
    "# Jupyter\n",
    "# replace each occurance of the word hi with the prior word in the sentence\n",
    "a = 'this is also hi very silly exercise'\n",
    "b = 'using jupyter notebooks efficiently hi can make development much faster and make you hi successful.'\n",
    "\n",
    "# hint: ctrl + drag to select multiple. ctrl + (optional shift +) arrows to move arround. editing works nicely in batch"
   ]
  },
  {
   "cell_type": "code",
   "execution_count": null,
   "metadata": {},
   "outputs": [],
   "source": [
    "# jupyter\n",
    "# wrap each of these arrays in a np.array() while only typing np.array once\n",
    "a = [[2, 3, 1], [4, 2, 1]]\n",
    "b = [[3, 4, 1, 0], [4, 1, 4, 4], [2, 0, 1, 0]]\n",
    "c = [[1, 1, 0, 3], [0, 3, 2, 3], [4, 2, 4, 0]]\n",
    "d = [[2], [2], [3]]\n",
    "e = [[1]]"
   ]
  },
  {
   "cell_type": "code",
   "execution_count": null,
   "metadata": {},
   "outputs": [],
   "source": [
    "# Math\n",
    "# Below, the bottom right value in y is 8.\n",
    "# What value can you increase by 1 in b that will have the most positive impact on that 8?\n",
    "a = np.array([[2, 3, 1], [4, 2, 1]])\n",
    "b = np.array([[3, 4, 1, 0], [4, 1, 4, 4], [2, 0, 1, 0]])\n",
    "y = a.dot(b)"
   ]
  },
  {
   "cell_type": "code",
   "execution_count": null,
   "metadata": {},
   "outputs": [],
   "source": []
  }
 ],
 "metadata": {
  "kernelspec": {
   "display_name": "Python 3",
   "language": "python",
   "name": "python3"
  },
  "language_info": {
   "codemirror_mode": {
    "name": "ipython",
    "version": 3
   },
   "file_extension": ".py",
   "mimetype": "text/x-python",
   "name": "python",
   "nbconvert_exporter": "python",
   "pygments_lexer": "ipython3",
   "version": "3.7.6"
  }
 },
 "nbformat": 4,
 "nbformat_minor": 4
}
