{
 "cells": [
  {
   "cell_type": "code",
   "execution_count": 3,
   "metadata": {},
   "outputs": [],
   "source": [
    "import os\n",
    "import matplotlib.pyplot as plt\n",
    "import numpy as np\n",
    "import tensorflow as tf \n",
    "from tensorflow.keras.preprocessing import image_dataset_from_directory"
   ]
  },
  {
   "cell_type": "code",
   "execution_count": 4,
   "metadata": {
    "scrolled": true
   },
   "outputs": [
    {
     "name": "stdout",
     "output_type": "stream",
     "text": [
      "Found 6000 files belonging to 5 classes.\n",
      "Found 2000 files belonging to 5 classes.\n"
     ]
    }
   ],
   "source": [
    "train_dir = \"train\"\n",
    "validation_dir = \"test\"\n",
    "BATCH_SIZE = 32\n",
    "IMG_SIZE = (70, 70)\n",
    "\n",
    "train_dataset = image_dataset_from_directory(\n",
    "    train_dir, label_mode = 'categorical', shuffle=True, batch_size=BATCH_SIZE, image_size=IMG_SIZE\n",
    ")\n",
    "\n",
    "validation_dataset = image_dataset_from_directory(\n",
    "    validation_dir,label_mode = 'categorical', shuffle=True, batch_size=BATCH_SIZE, image_size=IMG_SIZE\n",
    ")\n",
    "\n",
    "class_names = train_dataset.class_names\n"
   ]
  },
  {
   "cell_type": "code",
   "execution_count": 5,
   "metadata": {
    "scrolled": false
   },
   "outputs": [],
   "source": [
    "val_batches = tf.data.experimental.cardinality(validation_dataset)\n",
    "test_dataset = validation_dataset.take(val_batches // 5)\n",
    "validation_dataset = validation_dataset.skip(val_batches // 5)\n",
    "\n",
    "data_augmentation = tf.keras.Sequential(\n",
    "    [\n",
    "        tf.keras.layers.experimental.preprocessing.RandomFlip(\"horizontal\"),\n",
    "        tf.keras.layers.experimental.preprocessing.RandomRotation(0.2),\n",
    "        tf.keras.layers.experimental.preprocessing.RandomContrast(0.5)\n",
    "    ]\n",
    ")\n"
   ]
  },
  {
   "cell_type": "code",
   "execution_count": 6,
   "metadata": {},
   "outputs": [
    {
     "name": "stdout",
     "output_type": "stream",
     "text": [
      "WARNING:tensorflow:`input_shape` is undefined or non-square, or `rows` is not in [96, 128, 160, 192, 224]. Weights for input shape (224, 224) will be loaded as the default.\n"
     ]
    }
   ],
   "source": [
    "preprocess_input = tf.keras.applications.mobilenet_v2.preprocess_input\n",
    "\n",
    "rescale = tf.keras.layers.experimental.preprocessing.Rescaling(1.0 / 127.5, offset=-1)\n",
    "\n",
    "IMG_SHAPE = IMG_SIZE + (3,)\n",
    "base_model = tf.keras.applications.MobileNetV2(input_shape=IMG_SHAPE, include_top=False, weights=\"imagenet\")\n",
    "\n",
    "image_batch, label_batch = next(iter(train_dataset))\n",
    "feature_batch = base_model(image_batch) \n",
    "\n",
    "base_model.trainable = False\n"
   ]
  },
  {
   "cell_type": "code",
   "execution_count": 7,
   "metadata": {},
   "outputs": [
    {
     "name": "stdout",
     "output_type": "stream",
     "text": [
      "WARNING:tensorflow:`input_shape` is undefined or non-square, or `rows` is not in [96, 128, 160, 192, 224]. Weights for input shape (224, 224) will be loaded as the default.\n"
     ]
    }
   ],
   "source": [
    "IMG_SHAPE = IMG_SIZE + (3,)\n",
    "base_model = tf.keras.applications.MobileNetV2(input_shape=IMG_SHAPE, include_top=False, weights=\"imagenet\")\n",
    "image_batch, label_batch = next(iter(train_dataset))\n",
    "feature_batch = base_model(image_batch)\n",
    "\n",
    "base_model.trainable = False"
   ]
  },
  {
   "cell_type": "code",
   "execution_count": 8,
   "metadata": {},
   "outputs": [
    {
     "name": "stdout",
     "output_type": "stream",
     "text": [
      "Model: \"model\"\n",
      "_________________________________________________________________\n",
      "Layer (type)                 Output Shape              Param #   \n",
      "=================================================================\n",
      "input_3 (InputLayer)         [(None, 70, 70, 3)]       0         \n",
      "_________________________________________________________________\n",
      "sequential (Sequential)      (None, 70, 70, 3)         0         \n",
      "_________________________________________________________________\n",
      "tf.math.truediv (TFOpLambda) (None, 70, 70, 3)         0         \n",
      "_________________________________________________________________\n",
      "tf.math.subtract (TFOpLambda (None, 70, 70, 3)         0         \n",
      "_________________________________________________________________\n",
      "mobilenetv2_1.00_224 (Functi (None, 3, 3, 1280)        2257984   \n",
      "_________________________________________________________________\n",
      "global_average_pooling2d (Gl (None, 1280)              0         \n",
      "_________________________________________________________________\n",
      "dropout (Dropout)            (None, 1280)              0         \n",
      "_________________________________________________________________\n",
      "dense (Dense)                (None, 5)                 6405      \n",
      "=================================================================\n",
      "Total params: 2,264,389\n",
      "Trainable params: 6,405\n",
      "Non-trainable params: 2,257,984\n",
      "_________________________________________________________________\n"
     ]
    },
    {
     "name": "stderr",
     "output_type": "stream",
     "text": [
      "C:\\Users\\joel\\anaconda3\\lib\\site-packages\\tensorflow\\python\\keras\\optimizer_v2\\optimizer_v2.py:374: UserWarning: The `lr` argument is deprecated, use `learning_rate` instead.\n",
      "  warnings.warn(\n"
     ]
    },
    {
     "data": {
      "text/plain": [
       "2"
      ]
     },
     "execution_count": 8,
     "metadata": {},
     "output_type": "execute_result"
    }
   ],
   "source": [
    "global_average_layer = tf.keras.layers.GlobalAveragePooling2D()\n",
    "feature_batch_average = global_average_layer(feature_batch)\n",
    "\n",
    "prediction_layer = tf.keras.layers.Dense(len(class_names))\n",
    "prediction_batch = prediction_layer(feature_batch_average)\n",
    "\n",
    "inputs = tf.keras.Input(shape=(70, 70, 3))\n",
    "x = data_augmentation(inputs)\n",
    "x = preprocess_input(x)\n",
    "x = base_model(x, training=False)\n",
    "x = global_average_layer(x)\n",
    "x = tf.keras.layers.Dropout(0.2)(x)\n",
    "outputs = prediction_layer(x)\n",
    "model = tf.keras.Model(inputs, outputs)\n",
    "\n",
    "base_learning_rate = 0.0001\n",
    "model.compile(\n",
    "    optimizer=tf.keras.optimizers.Adam(lr=base_learning_rate),\n",
    "    loss=tf.keras.losses.CategoricalCrossentropy(from_logits=True),\n",
    "    metrics=[\"accuracy\"],\n",
    ")\n",
    "model.summary()\n",
    "len(model.trainable_variables)"
   ]
  },
  {
   "cell_type": "code",
   "execution_count": null,
   "metadata": {},
   "outputs": [],
   "source": [
    "import os \n",
    "class_names = os.listdir('train')\n",
    "from tensorflow.keras.models import load_model\n",
    "class model:\n",
    "    def __init__(self):\n",
    "        self.model = load_model('picture')\n",
    "    def predict(self, img):\n",
    "        pred_vec = self.model.predict(img)\n",
    "        return class_names[np.argmax(pred_vec)]"
   ]
  },
  {
   "cell_type": "code",
   "execution_count": null,
   "metadata": {},
   "outputs": [],
   "source": [
    "pred_vec = mdl.model.predict(image_batch.numpy()[[0]])"
   ]
  },
  {
   "cell_type": "code",
   "execution_count": 11,
   "metadata": {},
   "outputs": [],
   "source": [
    "import os\n",
    "import matplotlib.pyplot as plt\n",
    "import numpy as np\n",
    "import tensorflow as tf \n",
    "from tensorflow.keras.preprocessing import image_dataset_from_directory"
   ]
  },
  {
   "cell_type": "code",
   "execution_count": 17,
   "metadata": {},
   "outputs": [],
   "source": [
    "def train_model(image_directory = 'images', training_epochs = 1, fine_tune_epochs = 1 ):\n",
    "    train_dir = \"train\"\n",
    "    validation_dir = \"test\"\n",
    "    BATCH_SIZE = 32\n",
    "    IMG_SIZE = (70, 70)\n",
    "    total_epochs = training_epochs + fine_tune_epochs\n",
    "\n",
    "    train_dataset = image_dataset_from_directory(\n",
    "        train_dir, label_mode = 'categorical', shuffle=True, batch_size=BATCH_SIZE, image_size=IMG_SIZE)\n",
    "\n",
    "    validation_dataset = image_dataset_from_directory(\n",
    "        validation_dir, label_mode = 'categorical', shuffle=True, batch_size=BATCH_SIZE, image_size=IMG_SIZE)\n",
    "\n",
    "    class_names = train_dataset.class_names\n",
    "   \n",
    "    model.compile(\n",
    "        optimizer=tf.keras.optimizers.Adam(lr=base_learning_rate),\n",
    "        loss=tf.keras.losses.CategoricalCrossentropy(from_logits=True),\n",
    "        metrics=[\"accuracy\"],)\n",
    "    \n",
    "    mdl = model.fit(train_dataset, epochs= total_epochs, validation_data=validation_dataset)\n",
    "    \n",
    "    base_model.trainable = True\n",
    "    fine_tune_at = 100\n",
    "    for layer in base_model.layers[:fine_tune_at]:\n",
    "        layer.trainable = False\n",
    "        \n",
    "    model.compile(\n",
    "        loss=tf.keras.losses.CategoricalCrossentropy(from_logits=True),\n",
    "        optimizer=tf.keras.optimizers.RMSprop(lr=base_learning_rate / 10),\n",
    "        metrics=[\"accuracy\"],\n",
    "    )\n",
    "    mdl_fine = model.fit( train_dataset, epochs=total_epochs, initial_epoch= mdl.epoch[-1], validation_data=validation_dataset\n",
    "    )\n",
    "    \n",
    "    model.save('trained_model')"
   ]
  },
  {
   "cell_type": "code",
   "execution_count": 18,
   "metadata": {},
   "outputs": [
    {
     "name": "stdout",
     "output_type": "stream",
     "text": [
      "Found 6000 files belonging to 5 classes.\n",
      "Found 2000 files belonging to 5 classes.\n",
      "Epoch 1/2\n",
      "188/188 [==============================] - 112s 537ms/step - loss: 0.7136 - accuracy: 0.7457 - val_loss: 0.4273 - val_accuracy: 0.8485\n",
      "Epoch 2/2\n",
      "188/188 [==============================] - 90s 475ms/step - loss: 0.5267 - accuracy: 0.8072 - val_loss: 0.3438 - val_accuracy: 0.8845\n",
      "Epoch 2/2\n",
      "188/188 [==============================] - 70s 346ms/step - loss: 0.4092 - accuracy: 0.8518 - val_loss: 0.2856 - val_accuracy: 0.9070\n"
     ]
    },
    {
     "name": "stderr",
     "output_type": "stream",
     "text": [
      "C:\\Users\\joel\\anaconda3\\lib\\site-packages\\tensorflow\\python\\keras\\utils\\generic_utils.py:494: CustomMaskWarning: Custom mask layers require a config and must override get_config. When loading, the custom mask layer must be passed to the custom_objects argument.\n",
      "  warnings.warn('Custom mask layers require a config and must override '\n"
     ]
    },
    {
     "name": "stdout",
     "output_type": "stream",
     "text": [
      "INFO:tensorflow:Assets written to: trained_model\\assets\n"
     ]
    }
   ],
   "source": [
    "train_model()"
   ]
  },
  {
   "cell_type": "code",
   "execution_count": 22,
   "metadata": {},
   "outputs": [
    {
     "name": "stdout",
     "output_type": "stream",
     "text": [
      "Found 6000 files belonging to 5 classes.\n",
      "Found 2000 files belonging to 5 classes.\n",
      "WARNING:tensorflow:`input_shape` is undefined or non-square, or `rows` is not in [96, 128, 160, 192, 224]. Weights for input shape (224, 224) will be loaded as the default.\n",
      "Found 6000 files belonging to 5 classes.\n",
      "Found 2000 files belonging to 5 classes.\n"
     ]
    },
    {
     "name": "stderr",
     "output_type": "stream",
     "text": [
      "C:\\Users\\joel\\anaconda3\\lib\\site-packages\\tensorflow\\python\\keras\\optimizer_v2\\optimizer_v2.py:374: UserWarning: The `lr` argument is deprecated, use `learning_rate` instead.\n",
      "  warnings.warn(\n"
     ]
    },
    {
     "name": "stdout",
     "output_type": "stream",
     "text": [
      "Epoch 1/2\n",
      "188/188 [==============================] - 76s 383ms/step - loss: 2.1715 - accuracy: 0.3347 - val_loss: 1.2274 - val_accuracy: 0.5550\n",
      "Epoch 2/2\n",
      "188/188 [==============================] - 46s 247ms/step - loss: 1.3961 - accuracy: 0.5165 - val_loss: 0.8738 - val_accuracy: 0.6820\n",
      "Epoch 2/2\n",
      "188/188 [==============================] - 66s 332ms/step - loss: 0.8431 - accuracy: 0.6923 - val_loss: 0.4328 - val_accuracy: 0.8555\n"
     ]
    },
    {
     "name": "stderr",
     "output_type": "stream",
     "text": [
      "C:\\Users\\joel\\anaconda3\\lib\\site-packages\\tensorflow\\python\\keras\\utils\\generic_utils.py:494: CustomMaskWarning: Custom mask layers require a config and must override get_config. When loading, the custom mask layer must be passed to the custom_objects argument.\n",
      "  warnings.warn('Custom mask layers require a config and must override '\n"
     ]
    },
    {
     "name": "stdout",
     "output_type": "stream",
     "text": [
      "INFO:tensorflow:Assets written to: trained_model\\assets\n"
     ]
    }
   ],
   "source": [
    "from Train import train_model\n",
    "\n",
    "train_model()"
   ]
  },
  {
   "cell_type": "code",
   "execution_count": null,
   "metadata": {},
   "outputs": [],
   "source": []
  }
 ],
 "metadata": {
  "accelerator": "GPU",
  "colab": {
   "collapsed_sections": [],
   "name": "transfer_learning.ipynb",
   "provenance": [],
   "toc_visible": true
  },
  "kernelspec": {
   "display_name": "Python 3",
   "language": "python",
   "name": "python3"
  },
  "language_info": {
   "codemirror_mode": {
    "name": "ipython",
    "version": 3
   },
   "file_extension": ".py",
   "mimetype": "text/x-python",
   "name": "python",
   "nbconvert_exporter": "python",
   "pygments_lexer": "ipython3",
   "version": "3.8.8"
  }
 },
 "nbformat": 4,
 "nbformat_minor": 1
}
