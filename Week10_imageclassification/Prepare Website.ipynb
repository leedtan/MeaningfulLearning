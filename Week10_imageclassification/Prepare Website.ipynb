{
 "cells": [
  {
   "cell_type": "code",
   "execution_count": null,
   "metadata": {},
   "outputs": [],
   "source": []
  },
  {
   "cell_type": "code",
   "execution_count": 1,
   "metadata": {},
   "outputs": [],
   "source": [
    "import os\n",
    "if not os.path.isdir('templates'):\n",
    "    print('making dir')\n",
    "    os.mkdir('templates')\n",
    "if not os.path.isdir('static'):\n",
    "    print('making static dir')\n",
    "    os.mkdir('static')\n",
    "if not os.path.isdir(os.path.join('static', 'images')):\n",
    "    print('making images dir')\n",
    "    os.mkdir(os.path.join('static', 'images'))\n",
    "\n",
    "txt = '''<!DOCTYPE html>\n",
    "<html lang=\"en\">\n",
    "<head>\n",
    "    <title>Yechan_Image_Predictor</title>\n",
    "    <style>\n",
    "        h1{text-align:center;}\n",
    "        body{text-align:center;}\n",
    "    </style>\n",
    "</head>\n",
    "<body bgcolor='black' text='white'>\n",
    "<h1> \n",
    "<b>\n",
    "<font size=15 class=\"text-center\">\n",
    "Yechan Image Predictor \n",
    "</font>\n",
    "</b>\n",
    "</h1>\n",
    "<div style=\"background-color:white\">\n",
    "<hr>\n",
    "<hr></div>\n",
    "<h2> Upload the image to predict!</h2>\n",
    "\n",
    "<form action=\"/\", method=\"post\", enctype=\"multipart/form-data\">\n",
    "  Upload the image :<input type=\"file\" name=\"imagefile\">\n",
    "  <p><input type=\"submit\" value=\"Predict image\"></p>\n",
    "</form>\n",
    "<img src=\"{{ user_image }}\" height=\"280px\" width=\"400px\">\n",
    "<p>\n",
    "<h2>\n",
    "<b> {{ prediction_text }}</b>\n",
    "</h2></p>\n",
    "</body>\n",
    "</html>'''\n",
    "with open(os.path.join('templates', 'index.html'), 'w') as f:\n",
    "    f.write(txt)"
   ]
  },
  {
   "cell_type": "code",
   "execution_count": 2,
   "metadata": {},
   "outputs": [],
   "source": [
    "# apptxt=\"\"\"from flask import Flask\n",
    "# from flask import Flask, render_template, request\n",
    "# from flask_ngrok import run_with_ngrok\n",
    "# import os\n",
    "# import sys\n",
    "# from tensorflow.keras.models import load_model \n",
    "# from tensorflow.keras.preprocessing import image\n",
    "# import numpy as np\n",
    "# import shutil\n",
    "# app = Flask(__name__)\n",
    "# image_folder = os.path.join('static', 'images')\n",
    "# app.config[\"UPLOAD_FOLDER\"] = image_folder\n",
    "\n",
    "# @app.route('/', methods=['GET'])\n",
    "# def home():\n",
    "#     return render_template('index.html')\n",
    "\n",
    "# @app.route('/', methods=['POST'])\n",
    "# def predict():\n",
    "\n",
    "#     return render_template('index.html', user_image = imagefilepredict, prediction_text = prediction_text_from_out_model)\n",
    "\n",
    "# class_names = os.listdir('train')\n",
    "# from tensorflow.keras.models import load_model\n",
    "# class model:\n",
    "#     def __init__(self):\n",
    "#         self.model = load_model('class')\n",
    "#     def predict(self, image):\n",
    "#         pred_vec=self.model.predict(image)\n",
    "#         return class_names[np.argmax(pred_vec)]\n",
    "# mdl = model()\n",
    "# if __name__=='__main__':\n",
    "#     app.run()\n",
    "#     \"\"\"\n",
    "# with open('app.py', 'w') as f:\n",
    "#     f.write(apptxt)"
   ]
  },
  {
   "cell_type": "code",
   "execution_count": 3,
   "metadata": {},
   "outputs": [
    {
     "name": "stdout",
     "output_type": "stream",
     "text": [
      "Collecting flask-ngrok\n",
      "  Downloading flask_ngrok-0.0.25-py3-none-any.whl (3.1 kB)\n",
      "Requirement already satisfied: Flask>=0.8 in c:\\users\\wslee\\anaconda\\lib\\site-packages (from flask-ngrok) (1.1.2)\n",
      "Requirement already satisfied: requests in c:\\users\\wslee\\anaconda\\lib\\site-packages (from flask-ngrok) (2.24.0)\n",
      "Requirement already satisfied: Werkzeug>=0.15 in c:\\users\\wslee\\anaconda\\lib\\site-packages (from Flask>=0.8->flask-ngrok) (1.0.1)\n",
      "Requirement already satisfied: itsdangerous>=0.24 in c:\\users\\wslee\\anaconda\\lib\\site-packages (from Flask>=0.8->flask-ngrok) (1.1.0)\n",
      "Requirement already satisfied: Jinja2>=2.10.1 in c:\\users\\wslee\\anaconda\\lib\\site-packages (from Flask>=0.8->flask-ngrok) (2.11.2)\n",
      "Requirement already satisfied: click>=5.1 in c:\\users\\wslee\\anaconda\\lib\\site-packages (from Flask>=0.8->flask-ngrok) (7.1.2)\n",
      "Requirement already satisfied: urllib3!=1.25.0,!=1.25.1,<1.26,>=1.21.1 in c:\\users\\wslee\\anaconda\\lib\\site-packages (from requests->flask-ngrok) (1.25.11)\n",
      "Requirement already satisfied: chardet<4,>=3.0.2 in c:\\users\\wslee\\anaconda\\lib\\site-packages (from requests->flask-ngrok) (3.0.4)\n",
      "Requirement already satisfied: certifi>=2017.4.17 in c:\\users\\wslee\\anaconda\\lib\\site-packages (from requests->flask-ngrok) (2020.6.20)\n",
      "Requirement already satisfied: idna<3,>=2.5 in c:\\users\\wslee\\anaconda\\lib\\site-packages (from requests->flask-ngrok) (2.10)\n",
      "Requirement already satisfied: MarkupSafe>=0.23 in c:\\users\\wslee\\anaconda\\lib\\site-packages (from Jinja2>=2.10.1->Flask>=0.8->flask-ngrok) (1.1.1)\n",
      "Installing collected packages: flask-ngrok\n",
      "Successfully installed flask-ngrok-0.0.25\n"
     ]
    }
   ],
   "source": [
    "!pip install flask-ngrok"
   ]
  },
  {
   "cell_type": "code",
   "execution_count": 4,
   "metadata": {},
   "outputs": [
    {
     "name": "stdout",
     "output_type": "stream",
     "text": [
      "Requirement already satisfied: flask in c:\\users\\wslee\\anaconda\\lib\\site-packages (1.1.2)\n",
      "Requirement already satisfied: Jinja2>=2.10.1 in c:\\users\\wslee\\anaconda\\lib\\site-packages (from flask) (2.11.2)\n",
      "Requirement already satisfied: itsdangerous>=0.24 in c:\\users\\wslee\\anaconda\\lib\\site-packages (from flask) (1.1.0)\n",
      "Requirement already satisfied: click>=5.1 in c:\\users\\wslee\\anaconda\\lib\\site-packages (from flask) (7.1.2)\n",
      "Requirement already satisfied: Werkzeug>=0.15 in c:\\users\\wslee\\anaconda\\lib\\site-packages (from flask) (1.0.1)\n",
      "Requirement already satisfied: MarkupSafe>=0.23 in c:\\users\\wslee\\anaconda\\lib\\site-packages (from Jinja2>=2.10.1->flask) (1.1.1)\n"
     ]
    }
   ],
   "source": [
    "!pip install flask"
   ]
  },
  {
   "cell_type": "code",
   "execution_count": null,
   "metadata": {},
   "outputs": [],
   "source": []
  }
 ],
 "metadata": {
  "kernelspec": {
   "display_name": "Python 3",
   "language": "python",
   "name": "python3"
  },
  "language_info": {
   "codemirror_mode": {
    "name": "ipython",
    "version": 3
   },
   "file_extension": ".py",
   "mimetype": "text/x-python",
   "name": "python",
   "nbconvert_exporter": "python",
   "pygments_lexer": "ipython3",
   "version": "3.8.5"
  }
 },
 "nbformat": 4,
 "nbformat_minor": 4
}
