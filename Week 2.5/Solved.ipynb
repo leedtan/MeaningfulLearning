{
 "cells": [
  {
   "cell_type": "code",
   "execution_count": 1,
   "metadata": {},
   "outputs": [],
   "source": [
    "# How did leetcode go?\n",
    "# Any homework questions?"
   ]
  },
  {
   "cell_type": "code",
   "execution_count": 5,
   "metadata": {},
   "outputs": [],
   "source": [
    "import pandas as pd\n",
    "import numpy as np\n",
    "import matplotlib.pyplot as plt"
   ]
  },
  {
   "cell_type": "code",
   "execution_count": 3,
   "metadata": {},
   "outputs": [],
   "source": [
    "# Today we will learn linear regression.\n",
    "\n",
    "# We are a team of fruit playing sports \n",
    "# Each team has a value for how much their sports team would cost to buy, \n",
    "# based on what fruit they have."
   ]
  },
  {
   "cell_type": "code",
   "execution_count": 6,
   "metadata": {},
   "outputs": [
    {
     "data": {
      "text/html": [
       "<div>\n",
       "<style scoped>\n",
       "    .dataframe tbody tr th:only-of-type {\n",
       "        vertical-align: middle;\n",
       "    }\n",
       "\n",
       "    .dataframe tbody tr th {\n",
       "        vertical-align: top;\n",
       "    }\n",
       "\n",
       "    .dataframe thead th {\n",
       "        text-align: right;\n",
       "    }\n",
       "</style>\n",
       "<table border=\"1\" class=\"dataframe\">\n",
       "  <thead>\n",
       "    <tr style=\"text-align: right;\">\n",
       "      <th></th>\n",
       "      <th>bananas</th>\n",
       "      <th>strawberries</th>\n",
       "      <th>mangos</th>\n",
       "      <th>value_team</th>\n",
       "    </tr>\n",
       "  </thead>\n",
       "  <tbody>\n",
       "    <tr>\n",
       "      <th>0</th>\n",
       "      <td>5</td>\n",
       "      <td>2</td>\n",
       "      <td>8</td>\n",
       "      <td>18.183455</td>\n",
       "    </tr>\n",
       "    <tr>\n",
       "      <th>1</th>\n",
       "      <td>0</td>\n",
       "      <td>3</td>\n",
       "      <td>1</td>\n",
       "      <td>11.295711</td>\n",
       "    </tr>\n",
       "    <tr>\n",
       "      <th>2</th>\n",
       "      <td>3</td>\n",
       "      <td>8</td>\n",
       "      <td>1</td>\n",
       "      <td>21.425269</td>\n",
       "    </tr>\n",
       "  </tbody>\n",
       "</table>\n",
       "</div>"
      ],
      "text/plain": [
       "   bananas  strawberries  mangos  value_team\n",
       "0        5             2       8   18.183455\n",
       "1        0             3       1   11.295711\n",
       "2        3             8       1   21.425269"
      ]
     },
     "execution_count": 6,
     "metadata": {},
     "output_type": "execute_result"
    }
   ],
   "source": [
    "np.random.seed(0)\n",
    "num_data = 30\n",
    "bananas = np.random.randint(10, size=num_data)\n",
    "strawberries = np.random.randint(10, size=num_data)\n",
    "mangos = np.random.randint(10, size=num_data)\n",
    "\n",
    "value_bananas = 1\n",
    "value_strawberries = 2\n",
    "value_mangos = .8\n",
    "\n",
    "value_team = (bananas * value_bananas + \n",
    "              strawberries * value_strawberries + \n",
    "              mangos * value_mangos +\n",
    "              np.random.rand(num_data) * 10 - 5)\n",
    "\n",
    "df = pd.DataFrame(\n",
    "    {'bananas':bananas,\n",
    "     'strawberries':strawberries, \n",
    "     'mangos':mangos, \n",
    "     'value_team':value_team})\n",
    "\n",
    "df.head(3)"
   ]
  },
  {
   "cell_type": "code",
   "execution_count": 5,
   "metadata": {},
   "outputs": [],
   "source": [
    "# The goal of Linear regression is to look at the noisy data from above and predict what is the\n",
    "# Value of each individual fruit. Because we see the calculation, we know the right values,\n",
    "# for instance\n",
    "\n",
    "# value_bananas = 1\n",
    "# value_strawberries = 2\n",
    "# value_mangos = .8\n",
    "\n",
    "# But in most cases we have the dataset about values but don't know the true value of each fruit."
   ]
  },
  {
   "cell_type": "code",
   "execution_count": 6,
   "metadata": {},
   "outputs": [],
   "source": [
    "# Here let's implement linear regression.\n",
    "# Let's look at one row at a time."
   ]
  },
  {
   "cell_type": "code",
   "execution_count": 7,
   "metadata": {},
   "outputs": [],
   "source": [
    "pred_bananas = 1\n",
    "pred_strawberries = 1\n",
    "pred_mangos = 1"
   ]
  },
  {
   "cell_type": "code",
   "execution_count": 8,
   "metadata": {},
   "outputs": [],
   "source": [
    "# Predict the value of the first row\n",
    "prediction = (df.loc[0, 'bananas'] * pred_bananas + \n",
    "              df.loc[0, 'strawberries'] * pred_strawberries + \n",
    "              df.loc[0, 'mangos'] * pred_mangos)"
   ]
  },
  {
   "cell_type": "code",
   "execution_count": 9,
   "metadata": {},
   "outputs": [],
   "source": [
    "# Is your prediction perfect? Would you rather it be bigger or smaller? \n",
    "# Calculate the \"error\" bewtween your the real value - prediction "
   ]
  },
  {
   "cell_type": "code",
   "execution_count": 9,
   "metadata": {},
   "outputs": [
    {
     "data": {
      "text/plain": [
       "3.18345482025909"
      ]
     },
     "execution_count": 9,
     "metadata": {},
     "output_type": "execute_result"
    }
   ],
   "source": [
    "error = df.loc[0, 'value_team'] - prediction\n",
    "\n",
    "error"
   ]
  },
  {
   "cell_type": "code",
   "execution_count": 11,
   "metadata": {},
   "outputs": [],
   "source": [
    "# If we want the prediction to be bigger, what would be the most efficient way to change our\n",
    "# predicted values of each fruit to achieve that?\n",
    "# Well, since mangos is 8 and strawberries is 2, if we increase mangos that will have the biggest\n",
    "# impact at resolving our error.\n",
    "# So lets look at the loss and multiply it by the sample value to estimate how much to\n",
    "# change our predicted multipliers\n",
    "# (lets scale our change by a small fraction like a 'learning rate' of .001 so we don't over-correct)"
   ]
  },
  {
   "cell_type": "code",
   "execution_count": 10,
   "metadata": {},
   "outputs": [],
   "source": [
    "lr = .001\n",
    "pred_bananas = pred_bananas + error * df.loc[0, 'bananas'] * lr\n",
    "pred_strawberries = pred_strawberries + error * df.loc[0, 'strawberries'] * lr\n",
    "pred_mangos = pred_mangos + error * df.loc[0, 'mangos'] * lr"
   ]
  },
  {
   "cell_type": "code",
   "execution_count": 13,
   "metadata": {},
   "outputs": [],
   "source": [
    "# Now let's check if our prediction has a smaller error"
   ]
  },
  {
   "cell_type": "code",
   "execution_count": 12,
   "metadata": {},
   "outputs": [],
   "source": [
    "prediction = (df.loc[0, 'bananas'] * pred_bananas + \n",
    "              df.loc[0, 'strawberries'] * pred_strawberries + \n",
    "              df.loc[0, 'mangos'] * pred_mangos)"
   ]
  },
  {
   "cell_type": "code",
   "execution_count": 15,
   "metadata": {},
   "outputs": [
    {
     "data": {
      "text/plain": [
       "2.887393521974996"
      ]
     },
     "execution_count": 15,
     "metadata": {},
     "output_type": "execute_result"
    }
   ],
   "source": [
    "error = df.loc[0, 'value_team'] - prediction\n",
    "error"
   ]
  },
  {
   "cell_type": "code",
   "execution_count": 16,
   "metadata": {},
   "outputs": [],
   "source": [
    "# Wooo! The error went down. So let's think about it. Y = A * x.\n",
    "# We are learning A by looking at the desired changes in Y, and how that effects desired changes in A\n",
    "# We calculate that by DA = DY * DY/DA\n",
    "# And remember, DY/DA = x for y = ax.\n",
    "# And that's all the math that we will ever use from calculus."
   ]
  },
  {
   "cell_type": "code",
   "execution_count": 17,
   "metadata": {},
   "outputs": [],
   "source": [
    "# Now please use a numpy vector of 3 numbers instead of three separate variables\n",
    "# To achieve the same results."
   ]
  },
  {
   "cell_type": "code",
   "execution_count": 18,
   "metadata": {},
   "outputs": [],
   "source": [
    "# predicted_multipliers\n",
    "pred_mult = np.ones(3)"
   ]
  },
  {
   "cell_type": "code",
   "execution_count": 19,
   "metadata": {},
   "outputs": [
    {
     "data": {
      "text/plain": [
       "3.18345482025909"
      ]
     },
     "execution_count": 19,
     "metadata": {},
     "output_type": "execute_result"
    }
   ],
   "source": [
    "# make predictions with vectors\n",
    "prediction = (pred_mult * df.iloc[0, :3]).sum()\n",
    "error = df.loc[0, 'value_team'] - prediction\n",
    "error"
   ]
  },
  {
   "cell_type": "code",
   "execution_count": 20,
   "metadata": {},
   "outputs": [],
   "source": [
    "# update learned vector\n",
    "pred_mult = pred_mult + error * df.iloc[0, :3] * lr"
   ]
  },
  {
   "cell_type": "code",
   "execution_count": 21,
   "metadata": {},
   "outputs": [
    {
     "data": {
      "text/plain": [
       "2.887393521974996"
      ]
     },
     "execution_count": 21,
     "metadata": {},
     "output_type": "execute_result"
    }
   ],
   "source": [
    "# check the updated error\n",
    "prediction = (pred_mult * df.iloc[0, :3]).sum()\n",
    "error = df.loc[0, 'value_team'] - prediction\n",
    "error"
   ]
  },
  {
   "cell_type": "code",
   "execution_count": 22,
   "metadata": {},
   "outputs": [],
   "source": [
    "# You shoud get the same value as before.\n",
    "# Now let's show we can iterate over all the values in the dataset, performing this update.\n",
    "# Eventually we should learn the correct values"
   ]
  },
  {
   "cell_type": "code",
   "execution_count": 23,
   "metadata": {},
   "outputs": [],
   "source": [
    "for i in range(df.shape[0]):\n",
    "    prediction = (pred_mult * df.iloc[i, :3]).sum()\n",
    "    error = df.loc[i, 'value_team'] - prediction\n",
    "    pred_mult = pred_mult + error * df.iloc[i, :3] * lr"
   ]
  },
  {
   "cell_type": "code",
   "execution_count": 24,
   "metadata": {},
   "outputs": [
    {
     "data": {
      "text/plain": [
       "bananas         1.283390\n",
       "strawberries    1.429726\n",
       "mangos          1.125828\n",
       "dtype: float64"
      ]
     },
     "execution_count": 24,
     "metadata": {},
     "output_type": "execute_result"
    }
   ],
   "source": [
    "pred_mult"
   ]
  },
  {
   "cell_type": "code",
   "execution_count": 25,
   "metadata": {},
   "outputs": [],
   "source": [
    "# We want to see \n",
    "# value_bananas = 1\n",
    "# value_strawberries = 2\n",
    "# value_mangos = .8\n",
    "# So we are still a long way off.\n",
    "# What if we called a loop through the dataset an \"epoch\" and we went through 10 epochs?"
   ]
  },
  {
   "cell_type": "code",
   "execution_count": 26,
   "metadata": {},
   "outputs": [],
   "source": [
    "num_epochs = 10\n",
    "for epoch in range(num_epochs):\n",
    "    for i in range(df.shape[0]):\n",
    "        prediction = (pred_mult * df.iloc[i, :3]).sum()\n",
    "        error = df.loc[i, 'value_team'] - prediction\n",
    "        pred_mult = pred_mult + error * df.iloc[i, :3] * lr\n"
   ]
  },
  {
   "cell_type": "code",
   "execution_count": 27,
   "metadata": {},
   "outputs": [
    {
     "data": {
      "text/plain": [
       "bananas         1.357265\n",
       "strawberries    1.972966\n",
       "mangos          0.607794\n",
       "dtype: float64"
      ]
     },
     "execution_count": 27,
     "metadata": {},
     "output_type": "execute_result"
    }
   ],
   "source": [
    "pred_mult"
   ]
  },
  {
   "cell_type": "code",
   "execution_count": 28,
   "metadata": {},
   "outputs": [],
   "source": [
    "# Pretty close! Lastly, let's do a mathematical hack.\n",
    "# Rather than iterating over each of the datapoints, let's do it all at once.\n",
    "# Optimizing over one data point at a time is called stochastic optimization. \n",
    "# Using the whole dataset (batch) at once is called batch optimization\n",
    "# Using chunks of data is called mini-batch optimization.\n",
    "# Let's implement batch optimization because it is fast."
   ]
  },
  {
   "cell_type": "code",
   "execution_count": 29,
   "metadata": {},
   "outputs": [],
   "source": [
    "pred_mult = np.ones(3)\n",
    "# First, predict for all the datapoints.\n",
    "x = df.iloc[:,:3].values"
   ]
  },
  {
   "cell_type": "code",
   "execution_count": 30,
   "metadata": {},
   "outputs": [
    {
     "data": {
      "text/plain": [
       "(30,)"
      ]
     },
     "execution_count": 30,
     "metadata": {},
     "output_type": "execute_result"
    }
   ],
   "source": [
    "# How do we multiply a each row of a numpy array by a vector, getting a vector of outputs\n",
    "# (one output per row)\n",
    "# Hint: Use the dot product multiplier\n",
    "yhat = x.dot(pred_mult)\n",
    "yhat.shape"
   ]
  },
  {
   "cell_type": "code",
   "execution_count": 31,
   "metadata": {},
   "outputs": [],
   "source": [
    "# Now calculate the error for each row as a vector\n",
    "error = yhat - df['value_team']"
   ]
  },
  {
   "cell_type": "code",
   "execution_count": 32,
   "metadata": {},
   "outputs": [],
   "source": [
    "# now calculate the update for the parameters for each for\n",
    "proposed_changes = np.zeros(3)\n",
    "for i in range(len(error)):\n",
    "    xi = x[i,:]\n",
    "    proposed_changes += xi * error[i]"
   ]
  },
  {
   "cell_type": "code",
   "execution_count": 33,
   "metadata": {},
   "outputs": [
    {
     "data": {
      "text/plain": [
       "array([-625.19558961, -745.97079025, -399.7725966 ])"
      ]
     },
     "execution_count": 33,
     "metadata": {},
     "output_type": "execute_result"
    }
   ],
   "source": [
    "proposed_changes"
   ]
  },
  {
   "cell_type": "code",
   "execution_count": 34,
   "metadata": {},
   "outputs": [],
   "source": [
    "# Now let's skip some linear algebra. What if we wanted to take the multiplication of a 30x1 matrix\n",
    "# with a 30x3 matrix, and we wanted the output to be the sum over the 30 rows, of each of the\n",
    "# row wise multiplication.\n",
    "# Try to use a dot product to get a 3x1 shaped output from this multiplication\n",
    "# Show that you get the same result as the proposed changes from above."
   ]
  },
  {
   "cell_type": "code",
   "execution_count": 35,
   "metadata": {},
   "outputs": [
    {
     "data": {
      "text/plain": [
       "array([-20.83985299, -24.86569301, -13.32575322])"
      ]
     },
     "execution_count": 35,
     "metadata": {},
     "output_type": "execute_result"
    }
   ],
   "source": [
    "pred_change = error.dot(x)/len(error)\n",
    "pred_change"
   ]
  },
  {
   "cell_type": "code",
   "execution_count": 36,
   "metadata": {},
   "outputs": [],
   "source": [
    "# Great! This is exactly how modern math is done. You check what shapes of data you have, and you \n",
    "# know if you want to multiply or add them together, and you use dot products and check\n",
    "# That the output is the shape you expect"
   ]
  },
  {
   "cell_type": "code",
   "execution_count": 37,
   "metadata": {},
   "outputs": [],
   "source": [
    "# Now let's put everything together and run linear regression efficiently"
   ]
  },
  {
   "cell_type": "code",
   "execution_count": 38,
   "metadata": {},
   "outputs": [],
   "source": [
    "pred_mult = np.ones(3)\n"
   ]
  },
  {
   "cell_type": "code",
   "execution_count": 39,
   "metadata": {},
   "outputs": [
    {
     "data": {
      "text/plain": [
       "array([1.39387586, 2.00601779, 0.55046287])"
      ]
     },
     "execution_count": 39,
     "metadata": {},
     "output_type": "execute_result"
    }
   ],
   "source": [
    "num_epochs = 1000\n",
    "for epoch in range(num_epochs):\n",
    "    x = df.iloc[:,:3].values\n",
    "    yhat = x.dot(pred_mult)\n",
    "    error = yhat - df['value_team']\n",
    "    pred_change = error.dot(x)/len(error)\n",
    "\n",
    "    pred_mult = pred_mult - pred_change * lr\n",
    "pred_mult"
   ]
  },
  {
   "cell_type": "code",
   "execution_count": 40,
   "metadata": {},
   "outputs": [],
   "source": [
    "# What could we do to make this more accurate?\n",
    "# Can you functionize the data generation and model running to simulate a similar dataset, then \n",
    "# learn a model from it and check if the model learns the correct data distribution?"
   ]
  }
 ],
 "metadata": {
  "kernelspec": {
   "display_name": "Python 3",
   "language": "python",
   "name": "python3"
  },
  "language_info": {
   "codemirror_mode": {
    "name": "ipython",
    "version": 3
   },
   "file_extension": ".py",
   "mimetype": "text/x-python",
   "name": "python",
   "nbconvert_exporter": "python",
   "pygments_lexer": "ipython3",
   "version": "3.8.5"
  }
 },
 "nbformat": 4,
 "nbformat_minor": 4
}
