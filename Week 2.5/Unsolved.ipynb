{
 "cells": [
  {
   "cell_type": "code",
   "execution_count": null,
   "metadata": {},
   "outputs": [],
   "source": [
    "# How did leetcode go?\n",
    "# Any homework questions?"
   ]
  },
  {
   "cell_type": "code",
   "execution_count": null,
   "metadata": {},
   "outputs": [],
   "source": [
    "import pandas as pd\n",
    "import numpy as np\n",
    "import matplotlib.pyplot as plt"
   ]
  },
  {
   "cell_type": "code",
   "execution_count": null,
   "metadata": {},
   "outputs": [],
   "source": [
    "# Today we will learn linear regression.\n",
    "\n",
    "# We are a team of fruit playing sports \n",
    "# Each team has a value for how much their sports team would cost to buy, \n",
    "# based on what fruit they have."
   ]
  },
  {
   "cell_type": "code",
   "execution_count": null,
   "metadata": {},
   "outputs": [],
   "source": [
    "np.random.seed(0)\n",
    "num_data = 30\n",
    "bananas = np.random.randint(10, size=num_data)\n",
    "strawberries = np.random.randint(10, size=num_data)\n",
    "mangos = np.random.randint(10, size=num_data)\n",
    "\n",
    "value_bananas = 1\n",
    "value_strawberries = 2\n",
    "value_mangos = .8\n",
    "\n",
    "value_team = (bananas * value_bananas + \n",
    "              strawberries * value_strawberries + \n",
    "              mangos * value_mangos +\n",
    "              np.random.rand(num_data) * 10 - 5)\n",
    "\n",
    "df = pd.DataFrame(\n",
    "    {'bananas':bananas,\n",
    "     'strawberries':strawberries, \n",
    "     'mangos':mangos, \n",
    "     'value_team':value_team})\n",
    "\n",
    "df.head(3)"
   ]
  },
  {
   "cell_type": "code",
   "execution_count": null,
   "metadata": {},
   "outputs": [],
   "source": [
    "# The goal of Linear regression is to look at the noisy data from above and predict what is the\n",
    "# Value of each individual fruit. \n",
    "# We do this by learning to predict the value of each team based on it's fruity components\n",
    "\n",
    "# Because we see the calculation of the dataset, we know the right values,\n",
    "# for instance\n",
    "\n",
    "# value_bananas = 1\n",
    "# value_strawberries = 2\n",
    "# value_mangos = .8\n",
    "\n",
    "# But in most cases we have the dataset about values but don't know the true value of each fruit."
   ]
  },
  {
   "cell_type": "code",
   "execution_count": null,
   "metadata": {},
   "outputs": [],
   "source": [
    "# Here let's implement linear regression.\n",
    "# Let's look at one row at a time."
   ]
  },
  {
   "cell_type": "code",
   "execution_count": null,
   "metadata": {},
   "outputs": [],
   "source": [
    "pred_bananas = 1\n",
    "pred_strawberries = 1\n",
    "pred_mangos = 1"
   ]
  },
  {
   "cell_type": "code",
   "execution_count": null,
   "metadata": {},
   "outputs": [],
   "source": [
    "# Predict the value of the first row\n",
    "prediction = # Your code here"
   ]
  },
  {
   "cell_type": "code",
   "execution_count": null,
   "metadata": {},
   "outputs": [],
   "source": [
    "# Is your prediction perfect? Would you rather it be bigger or smaller? \n",
    "# Calculate the \"error\" bewtween your the real value - prediction "
   ]
  },
  {
   "cell_type": "code",
   "execution_count": null,
   "metadata": {},
   "outputs": [],
   "source": [
    "error = # Your code here\n",
    "\n",
    "error"
   ]
  },
  {
   "cell_type": "code",
   "execution_count": null,
   "metadata": {},
   "outputs": [],
   "source": [
    "# If we want the prediction to be bigger, what would be the most efficient way to change our\n",
    "# predicted values of each fruit to achieve that?\n",
    "# Well, since mangos is 8 and strawberries is 2, if we increase mangos that will have the biggest\n",
    "# impact at resolving our error.\n",
    "# So lets look at the loss and multiply it by the sample value to estimate how much to\n",
    "# change our predicted multipliers\n",
    "# (lets scale our change by a small fraction like a 'learning rate' of .001 so we don't over-correct)"
   ]
  },
  {
   "cell_type": "code",
   "execution_count": null,
   "metadata": {},
   "outputs": [],
   "source": [
    "lr = .001\n",
    "pred_bananas = # Your code here\n",
    "pred_strawberries = # Your code here\n",
    "pred_mangos = # Your code here"
   ]
  },
  {
   "cell_type": "code",
   "execution_count": null,
   "metadata": {},
   "outputs": [],
   "source": [
    "# Now let's check if our prediction has a smaller error"
   ]
  },
  {
   "cell_type": "code",
   "execution_count": null,
   "metadata": {},
   "outputs": [],
   "source": [
    "prediction = # Your code here"
   ]
  },
  {
   "cell_type": "code",
   "execution_count": null,
   "metadata": {},
   "outputs": [],
   "source": [
    "error = # Your code here\n",
    "error"
   ]
  },
  {
   "cell_type": "code",
   "execution_count": null,
   "metadata": {},
   "outputs": [],
   "source": [
    "# Wooo! The error went down. So let's think about it. Y = A * x.\n",
    "# We are learning A by looking at the desired changes in Y, and how that effects desired changes in A\n",
    "# We calculate that by DA = DY * DY/DA\n",
    "# And remember, DY/DA = x for y = ax.\n",
    "# And that's all the math that we will ever use from calculus."
   ]
  },
  {
   "cell_type": "code",
   "execution_count": null,
   "metadata": {},
   "outputs": [],
   "source": [
    "# Now please use a numpy vector of 3 numbers instead of three separate variables\n",
    "# To achieve the same results."
   ]
  },
  {
   "cell_type": "code",
   "execution_count": null,
   "metadata": {},
   "outputs": [],
   "source": [
    "# predicted_multipliers\n",
    "pred_mult = np.ones(3)"
   ]
  },
  {
   "cell_type": "code",
   "execution_count": null,
   "metadata": {},
   "outputs": [],
   "source": [
    "# make predictions with vectors\n",
    "prediction = # Your code here\n",
    "error = # Your code here\n",
    "error"
   ]
  },
  {
   "cell_type": "code",
   "execution_count": null,
   "metadata": {},
   "outputs": [],
   "source": [
    "# update learned vector\n",
    "pred_mult = # Your code here"
   ]
  },
  {
   "cell_type": "code",
   "execution_count": null,
   "metadata": {},
   "outputs": [],
   "source": [
    "# check the updated error\n",
    "prediction = # Your code here\n",
    "error = # Your code here\n",
    "error"
   ]
  },
  {
   "cell_type": "code",
   "execution_count": null,
   "metadata": {},
   "outputs": [],
   "source": [
    "# You shoud get the same value as before.\n",
    "# Now let's show we can iterate over all the values in the dataset, performing this update.\n",
    "# Eventually we should learn the correct values"
   ]
  },
  {
   "cell_type": "code",
   "execution_count": null,
   "metadata": {},
   "outputs": [],
   "source": [
    "for i in range(df.shape[0]):\n",
    "    prediction = # Your code here\n",
    "    error = # Your code here\n",
    "    pred_mult = # Your code here"
   ]
  },
  {
   "cell_type": "code",
   "execution_count": null,
   "metadata": {},
   "outputs": [],
   "source": [
    "pred_mult"
   ]
  },
  {
   "cell_type": "code",
   "execution_count": null,
   "metadata": {},
   "outputs": [],
   "source": [
    "# We want to see \n",
    "# value_bananas = 1\n",
    "# value_strawberries = 2\n",
    "# value_mangos = .8\n",
    "# So we are still a long way off.\n",
    "# What if we called a loop through the dataset an \"epoch\" and we went through 10 epochs?"
   ]
  },
  {
   "cell_type": "code",
   "execution_count": null,
   "metadata": {},
   "outputs": [],
   "source": [
    "num_epochs = 10\n",
    "for epoch in range(num_epochs):\n",
    "    for i in range(df.shape[0]):\n",
    "        prediction = # Your code here\n",
    "        error = # Your code here\n",
    "        pred_mult = # Your code here\n"
   ]
  },
  {
   "cell_type": "code",
   "execution_count": null,
   "metadata": {},
   "outputs": [],
   "source": [
    "pred_mult"
   ]
  },
  {
   "cell_type": "code",
   "execution_count": null,
   "metadata": {},
   "outputs": [],
   "source": [
    "# Pretty close! Lastly, let's do a mathematical hack.\n",
    "# Rather than iterating over each of the datapoints, let's do it all at once.\n",
    "# Optimizing over one data point at a time is called stochastic optimization. \n",
    "# Using the whole dataset (batch) at once is called batch optimization\n",
    "# Using chunks of data is called mini-batch optimization.\n",
    "# Let's implement batch optimization because it is fast."
   ]
  },
  {
   "cell_type": "code",
   "execution_count": null,
   "metadata": {},
   "outputs": [],
   "source": [
    "pred_mult = np.ones(3)\n",
    "# First, predict for all the datapoints.\n"
   ]
  },
  {
   "cell_type": "code",
   "execution_count": null,
   "metadata": {},
   "outputs": [],
   "source": [
    "# Grab the data you want to use for the input into your predictions\n",
    "x = # Your code here"
   ]
  },
  {
   "cell_type": "code",
   "execution_count": null,
   "metadata": {},
   "outputs": [],
   "source": [
    "# How do we multiply a each row of a numpy array by a vector, getting a vector of outputs\n",
    "# (one output per row)\n",
    "# Hint: Use the dot product multiplier\n",
    "yhat = # Your code here\n",
    "yhat.shape"
   ]
  },
  {
   "cell_type": "code",
   "execution_count": null,
   "metadata": {},
   "outputs": [],
   "source": [
    "# Now calculate the error for each row as a vector\n",
    "error = # Your code here"
   ]
  },
  {
   "cell_type": "code",
   "execution_count": null,
   "metadata": {},
   "outputs": [],
   "source": [
    "# now calculate the update for the parameters for each for\n",
    "proposed_changes = np.zeros(3)\n",
    "for i in range(len(error)):\n",
    "    xi = # Your code here\n",
    "    proposed_changes += # Your code here"
   ]
  },
  {
   "cell_type": "code",
   "execution_count": null,
   "metadata": {},
   "outputs": [],
   "source": [
    "proposed_changes"
   ]
  },
  {
   "cell_type": "code",
   "execution_count": null,
   "metadata": {},
   "outputs": [],
   "source": [
    "# Now let's skip some linear algebra. What if we wanted to take the multiplication of a 30x1 matrix\n",
    "# with a 30x3 matrix, and we wanted the output to be the sum over the 30 rows, of each of the\n",
    "# row wise multiplication.\n",
    "# Try to use a dot product to get a 3x1 shaped output from this multiplication\n",
    "# Show that you get the same result as the proposed changes from above."
   ]
  },
  {
   "cell_type": "code",
   "execution_count": null,
   "metadata": {},
   "outputs": [],
   "source": [
    "pred_change = # Your code here\n",
    "pred_change"
   ]
  },
  {
   "cell_type": "code",
   "execution_count": null,
   "metadata": {},
   "outputs": [],
   "source": [
    "# Great! This is exactly how modern math is done. You check what shapes of data you have, and you \n",
    "# know if you want to multiply or add them together, and you use dot products and check\n",
    "# That the output is the shape you expect"
   ]
  },
  {
   "cell_type": "code",
   "execution_count": null,
   "metadata": {},
   "outputs": [],
   "source": [
    "# Now let's put everything together and run linear regression efficiently"
   ]
  },
  {
   "cell_type": "code",
   "execution_count": null,
   "metadata": {},
   "outputs": [],
   "source": [
    "pred_mult = np.ones(3)\n"
   ]
  },
  {
   "cell_type": "code",
   "execution_count": null,
   "metadata": {},
   "outputs": [],
   "source": [
    "num_epochs = 1000\n",
    "for epoch in range(num_epochs):\n",
    "    x = # Your code here\n",
    "    yhat = # Your code here\n",
    "    error = # Your code here\n",
    "    pred_change = # Your code here\n",
    "\n",
    "    pred_mult = # Your code here\n",
    "pred_mult"
   ]
  },
  {
   "cell_type": "code",
   "execution_count": null,
   "metadata": {},
   "outputs": [],
   "source": [
    "# What could we do to make this more accurate?\n",
    "# Can you functionize the data generation and model running to simulate a similar dataset, then \n",
    "# learn a model from it and check if the model learns the correct data distribution?"
   ]
  }
 ],
 "metadata": {
  "kernelspec": {
   "display_name": "Python 3",
   "language": "python",
   "name": "python3"
  },
  "language_info": {
   "codemirror_mode": {
    "name": "ipython",
    "version": 3
   },
   "file_extension": ".py",
   "mimetype": "text/x-python",
   "name": "python",
   "nbconvert_exporter": "python",
   "pygments_lexer": "ipython3",
   "version": "3.7.6"
  }
 },
 "nbformat": 4,
 "nbformat_minor": 4
}
