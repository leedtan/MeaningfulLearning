{
 "cells": [
  {
   "cell_type": "code",
   "execution_count": null,
   "metadata": {},
   "outputs": [],
   "source": [
    "# Datasets grabbed from https://www.kaggle.com/borismarjanovic/price-volume-data-for-all-us-stocks-etfs\n",
    "# Let's look at the problem of forecasting stocks"
   ]
  },
  {
   "cell_type": "code",
   "execution_count": null,
   "metadata": {},
   "outputs": [],
   "source": [
    "from sklearn.ensemble import GradientBoostingRegressor\n",
    "from sklearn.neural_network import MLPRegressor"
   ]
  },
  {
   "cell_type": "code",
   "execution_count": null,
   "metadata": {},
   "outputs": [],
   "source": [
    "# Let's import one of the datasets from the link.\n",
    "import pandas as pd\n",
    "import numpy as np\n",
    "import matplotlib.pyplot as plt\n",
    "df = pd.read_csv('aadr.us.csv')\n",
    "\n",
    "numeric_cols = ['Open', 'High', 'Low', 'Close', 'Volume']\n"
   ]
  },
  {
   "cell_type": "code",
   "execution_count": null,
   "metadata": {},
   "outputs": [],
   "source": [
    "# Let's visualize some of our data.\n",
    "\n",
    "import plotly.graph_objects as go\n",
    "fig = go.Figure(data=[go.Candlestick(x=df.index[:100],\n",
    "                open=df['Open'][:100],\n",
    "                high=df['High'][:100],\n",
    "                low=df['Low'][:100],\n",
    "                close=df['Close'][:100])])\n",
    "fig.update_layout(\n",
    "    title= {\n",
    "        'text': '',\n",
    "      'y':0.9,\n",
    "        'x':0.5,\n",
    "        'xanchor': 'center',\n",
    "        'yanchor': 'top'},\n",
    "      font=dict(\n",
    "        family=\"Courier New, monospace\",\n",
    "        size=20,\n",
    "        color=\"#7f7f7f\"\n",
    "    )\n",
    "    )\n",
    "fig.show()"
   ]
  },
  {
   "cell_type": "code",
   "execution_count": null,
   "metadata": {},
   "outputs": [],
   "source": [
    "# If we want to build features for our data, we should use past data to predict future data.\n",
    "# So let's build features for each row that not only have the present data, \n",
    "# but also have the past data to predict the present.\n",
    "df['Date'] = df.index\n",
    "\n",
    "# TODO: for each row, add each of the numeric features for the last 14 days as new columns. \n",
    "# I propose the naming convention like \"Open_past1\", \"Close_past2\", etc...\n",
    "df = df[[c for c in df.columns if 'prev_date' not in c]]\n"
   ]
  },
  {
   "cell_type": "code",
   "execution_count": null,
   "metadata": {
    "scrolled": true
   },
   "outputs": [],
   "source": [
    "# Looking at our data, we see a bunch of nan values.\n",
    "# That's because for the first day of the dataset, we don't know what the past value is\n",
    "df.head()"
   ]
  },
  {
   "cell_type": "code",
   "execution_count": null,
   "metadata": {},
   "outputs": [],
   "source": [
    "# Drop all rows that have any null values\n",
    "df = # TODO"
   ]
  },
  {
   "cell_type": "code",
   "execution_count": null,
   "metadata": {},
   "outputs": [],
   "source": [
    "past_cols = [[c + '_past' + str(days_past) for c in numeric_cols] for days_past in range(1, 14)]\n",
    "past_cols = [c for cols in past_cols for c in cols]"
   ]
  },
  {
   "cell_type": "code",
   "execution_count": null,
   "metadata": {},
   "outputs": [],
   "source": [
    "current_cols = numeric_cols"
   ]
  },
  {
   "cell_type": "code",
   "execution_count": null,
   "metadata": {},
   "outputs": [],
   "source": [
    "x = df[past_cols]\n",
    "y = df[current_cols]"
   ]
  },
  {
   "cell_type": "code",
   "execution_count": null,
   "metadata": {},
   "outputs": [],
   "source": [
    "from sklearn.linear_model import Ridge"
   ]
  },
  {
   "cell_type": "code",
   "execution_count": null,
   "metadata": {},
   "outputs": [],
   "source": [
    "# Here we try regression\n",
    "mdl = Ridge().fit(x, y)\n",
    "yhat = mdl.predict(x)"
   ]
  },
  {
   "cell_type": "code",
   "execution_count": null,
   "metadata": {},
   "outputs": [],
   "source": [
    "# What's our eval metric?\n",
    "# Let's compute the average of High and Low, minus the previous days' close. This represents\n",
    "# A predictions for how high will the stock be tomorrow relative to it's close today\n",
    "# You can choose other evaluation metrics.\n",
    "# Let's also use this for our loss function"
   ]
  },
  {
   "cell_type": "code",
   "execution_count": null,
   "metadata": {
    "scrolled": true
   },
   "outputs": [],
   "source": [
    "y_diff = (df['High'] + df['Low']).iloc[1:].values/2 - df['Close'].iloc[:-1].values\n",
    "y_diff"
   ]
  },
  {
   "cell_type": "code",
   "execution_count": null,
   "metadata": {},
   "outputs": [],
   "source": [
    "# Since we don't know the ground truth y value for the future past the dataset, \n",
    "# Throw out the last X value.\n",
    "x_with_current = df[current_cols + past_cols].iloc[:-1]"
   ]
  },
  {
   "cell_type": "code",
   "execution_count": null,
   "metadata": {},
   "outputs": [],
   "source": [
    "# X and y should have the same number of values\n",
    "x_with_current.shape, y_diff.shape"
   ]
  },
  {
   "cell_type": "code",
   "execution_count": null,
   "metadata": {},
   "outputs": [],
   "source": [
    "# Train a linear regression model.\n",
    "mdl = Ridge().fit(x_with_current, y_diff)\n",
    "yhat = mdl.predict(x_with_current)"
   ]
  },
  {
   "cell_type": "code",
   "execution_count": null,
   "metadata": {},
   "outputs": [],
   "source": [
    "# Check the correlation between our prediction and the real values\n",
    "predictive_correlation = np.corrcoef(yhat, y_diff)\n",
    "predictive_correlation[1,0]"
   ]
  },
  {
   "cell_type": "code",
   "execution_count": null,
   "metadata": {},
   "outputs": [],
   "source": [
    "# Try again with a GradientBoostingRegressor\n",
    "treemdl = GradientBoostingRegressor().fit(x_with_current, y_diff)\n",
    "treeyhat = treemdl.predict(x_with_current)\n",
    "\n",
    "predictive_correlation_tree = np.corrcoef(treeyhat, y_diff)\n",
    "predictive_correlation_tree[1,0]"
   ]
  },
  {
   "cell_type": "code",
   "execution_count": null,
   "metadata": {
    "scrolled": true
   },
   "outputs": [],
   "source": [
    "# Try again with a MLPRegressor\n",
    "nnmdl = MLPRegressor([100]).fit(x_with_current, y_diff)\n",
    "nnyhat = nnmdl.predict(x_with_current)\n",
    "\n",
    "predictive_correlation_nn = np.corrcoef(nnyhat, y_diff)\n",
    "predictive_correlation_nn[1,0]"
   ]
  },
  {
   "cell_type": "code",
   "execution_count": null,
   "metadata": {},
   "outputs": [],
   "source": [
    "# Where should we go from here? We still haven't implemented validation.\n",
    "# We are also still only using one of our stock datasets.\n",
    "# How would we use the other stock datasets to help our model learn better?\n",
    "# How would we learn from our histocial data better than just feeding in the past 14 days as features?\n",
    "# Can we utilize local connections or paramter sharing here?\n",
    "# Your project is to treat this as a problem to solve, and do it to the best of your abilities."
   ]
  }
 ],
 "metadata": {
  "kernelspec": {
   "display_name": "Python 3",
   "language": "python",
   "name": "python3"
  },
  "language_info": {
   "codemirror_mode": {
    "name": "ipython",
    "version": 3
   },
   "file_extension": ".py",
   "mimetype": "text/x-python",
   "name": "python",
   "nbconvert_exporter": "python",
   "pygments_lexer": "ipython3",
   "version": "3.7.6"
  }
 },
 "nbformat": 4,
 "nbformat_minor": 4
}
