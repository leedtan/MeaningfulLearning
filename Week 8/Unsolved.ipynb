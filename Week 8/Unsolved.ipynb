{
 "cells": [
  {
   "cell_type": "code",
   "execution_count": 1,
   "metadata": {},
   "outputs": [],
   "source": [
    "# Datasets grabbed from https://www.kaggle.com/borismarjanovic/price-volume-data-for-all-us-stocks-etfs\n",
    "# Let's look at the problem of forecasting stocks"
   ]
  },
  {
   "cell_type": "code",
   "execution_count": 1,
   "metadata": {},
   "outputs": [],
   "source": [
    "# Let's import one of the datasets from the link.\n",
    "from sklearn.ensemble import GradientBoostingRegressor\n",
    "from sklearn.neural_network import MLPRegressor\n",
    "import pandas as pd\n",
    "import numpy as np\n",
    "from sklearn.linear_model import Ridge\n",
    "import matplotlib.pyplot as plt\n",
    "from sheep import picture, data_points, get_xandychange, training_values, validation\n",
    "\n",
    "df = pd.read_csv('aadr.us.csv')\n",
    "visualize = False\n",
    "numeric_cols = ['Open', 'High', 'Low', 'Close', 'Volume']\n",
    "x_with_history = data_points(df)"
   ]
  },
  {
   "cell_type": "code",
   "execution_count": 2,
   "metadata": {},
   "outputs": [],
   "source": [
    "if visualize:\n",
    "    picture(df)\n",
    "# x, y = get_xy(df)\n",
    "x_with_current, y_diff = get_xandychange(x_with_history)"
   ]
  },
  {
   "cell_type": "code",
   "execution_count": null,
   "metadata": {},
   "outputs": [],
   "source": [
    "mdl= Ridge().fit(x_trn,y_trn)\n",
    "yhat = mdl.predict(x_val)\n",
    "predictive_correlation_nn = np.corrcoef(yhat, y_val)\n",
    "predictive_correlation_nn[1,0]"
   ]
  },
  {
   "cell_type": "code",
   "execution_count": 15,
   "metadata": {},
   "outputs": [
    {
     "data": {
      "text/plain": [
       "165.45072129695518"
      ]
     },
     "execution_count": 15,
     "metadata": {},
     "output_type": "execute_result"
    }
   ],
   "source": [
    "validation(mdl,x_val,y_val)"
   ]
  },
  {
   "cell_type": "code",
   "execution_count": 12,
   "metadata": {},
   "outputs": [],
   "source": [
    "def baseline(y_val):\n",
    "    money = 100\n",
    "    for y in (y_val):\n",
    "        money = money * (1 + y)\n",
    "    return money"
   ]
  },
  {
   "cell_type": "code",
   "execution_count": 13,
   "metadata": {},
   "outputs": [
    {
     "data": {
      "text/plain": [
       "124.22472261440323"
      ]
     },
     "execution_count": 13,
     "metadata": {},
     "output_type": "execute_result"
    }
   ],
   "source": [
    "baseline(y_val)"
   ]
  },
  {
   "cell_type": "code",
   "execution_count": 26,
   "metadata": {},
   "outputs": [],
   "source": [
    "profit_scores=[]\n",
    "val_corl=[]\n",
    "baseline_profit=[]\n",
    "for percent_train in [.5, .6, .7, .8, .9]:\n",
    "    x_trn, y_trn, x_val, y_val = training_values(x_with_current, y_diff, percent_train, percent_val = .1)\n",
    "    mdl= Ridge().fit(x_trn,y_trn)\n",
    "    yhat = mdl.predict(x_val)\n",
    "    predictive_correlation_nn = np.corrcoef(yhat, y_val)\n",
    "    val_corl.append(predictive_correlation_nn[1,0])\n",
    "    profit_scores.append(validation(mdl,x_val,y_val))\n",
    "    baseline_profit.append(baseline(y_val))"
   ]
  },
  {
   "cell_type": "code",
   "execution_count": 17,
   "metadata": {},
   "outputs": [
    {
     "data": {
      "text/plain": [
       "[165.45072129695518,\n",
       " 160.13388494861059,\n",
       " 178.4751130762724,\n",
       " 139.41517720857658,\n",
       " 111.38657559186221]"
      ]
     },
     "execution_count": 17,
     "metadata": {},
     "output_type": "execute_result"
    }
   ],
   "source": [
    "profit_scores"
   ]
  },
  {
   "cell_type": "code",
   "execution_count": 19,
   "metadata": {},
   "outputs": [
    {
     "data": {
      "text/plain": [
       "[0.05076262583595153,\n",
       " 0.06908745502333588,\n",
       " 0.12587704308305872,\n",
       " 0.16305015993679037,\n",
       " 0.13261094821051306]"
      ]
     },
     "execution_count": 19,
     "metadata": {},
     "output_type": "execute_result"
    }
   ],
   "source": [
    "val_corl"
   ]
  },
  {
   "cell_type": "code",
   "execution_count": 27,
   "metadata": {},
   "outputs": [
    {
     "data": {
      "text/plain": [
       "[216.599607433944,\n",
       " 179.30953698862044,\n",
       " 173.84601315177113,\n",
       " 156.14763684369922,\n",
       " 124.22472261440323]"
      ]
     },
     "execution_count": 27,
     "metadata": {},
     "output_type": "execute_result"
    }
   ],
   "source": [
    "baseline_profit"
   ]
  },
  {
   "cell_type": "code",
   "execution_count": 32,
   "metadata": {},
   "outputs": [
    {
     "data": {
      "text/plain": [
       "170.02550340648762"
      ]
     },
     "execution_count": 32,
     "metadata": {},
     "output_type": "execute_result"
    }
   ],
   "source": [
    "sum(baseline_profit)/len(profit_scores)"
   ]
  },
  {
   "cell_type": "code",
   "execution_count": null,
   "metadata": {},
   "outputs": [],
   "source": [
    "# If we want to build features for our data, we should use past data to predict future data.\n",
    "# So let's build features for each row that not only have the present data, \n",
    "# but also have the past data to predict the present.\n",
    "df['Date'] = df.index\n",
    "\n",
    "# TODO: for each row, add each of the numeric features for the last 14 days as new columns. \n",
    "# I propose the naming convention like \"Open_past1\", \"Close_past2\", etc...\n",
    "df = df[[c for c in df.columns if 'prev_date' not in c]]"
   ]
  },
  {
   "cell_type": "code",
   "execution_count": null,
   "metadata": {},
   "outputs": [],
   "source": [
    "df_past = df.copy()\n",
    "df_past['Date_past1'] = df_past['Date'] + 1\n",
    "df_past = df_past.set_index('Date_past1')\n",
    "df_past.columns = [c + '_past1' for c in df_past.columns]"
   ]
  },
  {
   "cell_type": "code",
   "execution_count": null,
   "metadata": {},
   "outputs": [],
   "source": []
  },
  {
   "cell_type": "code",
   "execution_count": null,
   "metadata": {},
   "outputs": [],
   "source": [
    "# Here we try regression\n",
    "mdl = Ridge().fit(x, y)\n",
    "yhat = mdl.predict(x)"
   ]
  },
  {
   "cell_type": "code",
   "execution_count": null,
   "metadata": {},
   "outputs": [],
   "source": [
    "# What's our eval metric?\n",
    "# Let's compute the average of High and Low, minus the previous days' close. This represents\n",
    "# A predictions for how high will the stock be tomorrow relative to it's close today\n",
    "# You can choose other evaluation metrics.\n",
    "# Let's also use this for our loss function"
   ]
  },
  {
   "cell_type": "code",
   "execution_count": null,
   "metadata": {
    "scrolled": true
   },
   "outputs": [],
   "source": [
    "y_diff = (df['High'] + df['Low']).iloc[1:].values/2 - df['Close'].iloc[:-1].values\n",
    "y_diff"
   ]
  },
  {
   "cell_type": "code",
   "execution_count": null,
   "metadata": {},
   "outputs": [],
   "source": [
    "# Since we don't know the ground truth y value for the future past the dataset, \n",
    "# Throw out the last X value.\n",
    "x_with_current = df[current_cols + past_cols].iloc[:-1]"
   ]
  },
  {
   "cell_type": "code",
   "execution_count": null,
   "metadata": {},
   "outputs": [],
   "source": [
    "# X and y should have the same number of values\n",
    "x_with_current.shape, y_diff.shape"
   ]
  },
  {
   "cell_type": "code",
   "execution_count": null,
   "metadata": {},
   "outputs": [],
   "source": [
    "# Train a linear regression model.\n",
    "mdl = Ridge().fit(x_with_current, y_diff)\n",
    "yhat = mdl.predict(x_with_current)"
   ]
  },
  {
   "cell_type": "code",
   "execution_count": null,
   "metadata": {},
   "outputs": [],
   "source": [
    "# Check the correlation between our prediction and the real values\n",
    "predictive_correlation = np.corrcoef(yhat, y_diff)\n",
    "predictive_correlation[1,0]"
   ]
  },
  {
   "cell_type": "code",
   "execution_count": null,
   "metadata": {},
   "outputs": [],
   "source": [
    "# Try again with a GradientBoostingRegressor\n",
    "treemdl = GradientBoostingRegressor().fit(x_with_current, y_diff)\n",
    "treeyhat = treemdl.predict(x_with_current)\n",
    "\n",
    "predictive_correlation_tree = np.corrcoef(treeyhat, y_diff)\n",
    "predictive_correlation_tree[1,0]"
   ]
  },
  {
   "cell_type": "code",
   "execution_count": null,
   "metadata": {
    "scrolled": false
   },
   "outputs": [],
   "source": [
    "# Try again with a MLPRegressor\n",
    "nnmdl = MLPRegressor([100]).fit(x_with_current, y_diff)\n",
    "nnyhat = nnmdl.predict(x_with_current)\n",
    "\n",
    "predictive_correlation_nn = np.corrcoef(nnyhat, y_diff)\n",
    "predictive_correlation_nn[1,0]"
   ]
  },
  {
   "cell_type": "code",
   "execution_count": null,
   "metadata": {
    "scrolled": false
   },
   "outputs": [],
   "source": [
    "df_train = df.iloc[:df.shape[0]//2]"
   ]
  },
  {
   "cell_type": "code",
   "execution_count": null,
   "metadata": {},
   "outputs": [],
   "source": [
    "df_train"
   ]
  },
  {
   "cell_type": "code",
   "execution_count": null,
   "metadata": {},
   "outputs": [],
   "source": [
    "df_all_dates.shape[0]//2"
   ]
  },
  {
   "cell_type": "code",
   "execution_count": null,
   "metadata": {},
   "outputs": [],
   "source": [
    "df_validate = df.iloc[df.shape[0]//2:]"
   ]
  },
  {
   "cell_type": "code",
   "execution_count": null,
   "metadata": {},
   "outputs": [],
   "source": [
    "df_validate"
   ]
  },
  {
   "cell_type": "code",
   "execution_count": null,
   "metadata": {},
   "outputs": [],
   "source": [
    "mdl = Ridge().fit(x,y)"
   ]
  },
  {
   "cell_type": "code",
   "execution_count": null,
   "metadata": {},
   "outputs": [],
   "source": [
    "nnmdl = MLPRegressor([100]).fit(x, y)\n"
   ]
  },
  {
   "cell_type": "code",
   "execution_count": null,
   "metadata": {},
   "outputs": [],
   "source": [
    "nnyhat = nnmdl.predict(x)"
   ]
  },
  {
   "cell_type": "code",
   "execution_count": null,
   "metadata": {},
   "outputs": [],
   "source": [
    "x.shape"
   ]
  },
  {
   "cell_type": "code",
   "execution_count": null,
   "metadata": {},
   "outputs": [],
   "source": [
    "predictive_correlation_nn = np.corrcoef(nnyhat, y)\n",
    "predictive_correlation_nn[1,0]"
   ]
  },
  {
   "cell_type": "code",
   "execution_count": null,
   "metadata": {},
   "outputs": [],
   "source": [
    "def validation(mdl,x_val,y_val):\n",
    "    money = 100\n",
    "    predictions = mdl.predict(x_val)\n",
    "    assignment = predictions > predictions.mean()\n",
    "    for i, y in zip (assignment, y_val):\n",
    "        money = money * (1 - i) + i * money * (1 + y)\n",
    "    return money"
   ]
  },
  {
   "cell_type": "code",
   "execution_count": 4,
   "metadata": {},
   "outputs": [],
   "source": [
    "mdl= Ridge().fit(x_trn,y_trn)"
   ]
  },
  {
   "cell_type": "markdown",
   "metadata": {},
   "source": [
    "mdl"
   ]
  },
  {
   "cell_type": "code",
   "execution_count": null,
   "metadata": {},
   "outputs": [],
   "source": [
    "mdl"
   ]
  },
  {
   "cell_type": "code",
   "execution_count": null,
   "metadata": {},
   "outputs": [],
   "source": [
    "predictions = mdl.predict(x_val)\n",
    "assignment = predictions > predictions.mean()"
   ]
  },
  {
   "cell_type": "code",
   "execution_count": null,
   "metadata": {},
   "outputs": [],
   "source": [
    "yhat = mdl.predict(x_val)"
   ]
  },
  {
   "cell_type": "code",
   "execution_count": 4,
   "metadata": {},
   "outputs": [
    {
     "data": {
      "text/plain": [
       "-0.0001295957392937736"
      ]
     },
     "execution_count": 4,
     "metadata": {},
     "output_type": "execute_result"
    }
   ],
   "source": [
    "validation(mdl,x_val,y_val)"
   ]
  },
  {
   "cell_type": "code",
   "execution_count": null,
   "metadata": {},
   "outputs": [],
   "source": [
    "y_val"
   ]
  }
 ],
 "metadata": {
  "kernelspec": {
   "display_name": "Python 3",
   "language": "python",
   "name": "python3"
  },
  "language_info": {
   "codemirror_mode": {
    "name": "ipython",
    "version": 3
   },
   "file_extension": ".py",
   "mimetype": "text/x-python",
   "name": "python",
   "nbconvert_exporter": "python",
   "pygments_lexer": "ipython3",
   "version": "3.8.5"
  }
 },
 "nbformat": 4,
 "nbformat_minor": 4
}
