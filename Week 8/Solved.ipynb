{
 "cells": [
  {
   "cell_type": "code",
   "execution_count": 1,
   "metadata": {},
   "outputs": [],
   "source": [
    "# Datasets grabbed from https://www.kaggle.com/borismarjanovic/price-volume-data-for-all-us-stocks-etfs\n",
    "# Let's look at the problem of forecasting stocks"
   ]
  },
  {
   "cell_type": "code",
   "execution_count": 2,
   "metadata": {},
   "outputs": [],
   "source": [
    "from sklearn.ensemble import GradientBoostingRegressor\n",
    "from sklearn.neural_network import MLPRegressor\n",
    "from sklearn.linear_model import Ridge\n",
    "from data import picture, dataShift, get_x_y, get_mdl_inputs, calc_y, get_trn_val"
   ]
  },
  {
   "cell_type": "code",
   "execution_count": 3,
   "metadata": {},
   "outputs": [],
   "source": [
    "# Let's import one of the datasets from the link.\n",
    "import pandas as pd\n",
    "import numpy as np\n",
    "import matplotlib.pyplot as plt\n",
    "df = pd.read_csv('aadr.us.csv')\n",
    "\n",
    "numeric_cols = ['Open', 'High', 'Low', 'Close', 'Volume']\n"
   ]
  },
  {
   "cell_type": "code",
   "execution_count": 4,
   "metadata": {},
   "outputs": [],
   "source": [
    "draw = False\n",
    "if draw == True:\n",
    "    picture(df)"
   ]
  },
  {
   "cell_type": "code",
   "execution_count": 5,
   "metadata": {},
   "outputs": [],
   "source": [
    "cleaner = dataShift(df, numeric_cols)"
   ]
  },
  {
   "cell_type": "code",
   "execution_count": 6,
   "metadata": {},
   "outputs": [],
   "source": [
    "x, y, past_cols = get_x_y(numeric_cols, cleaner)"
   ]
  },
  {
   "cell_type": "code",
   "execution_count": 7,
   "metadata": {},
   "outputs": [],
   "source": [
    "y_diff, x_with_current = get_mdl_inputs(cleaner, numeric_cols, past_cols)"
   ]
  },
  {
   "cell_type": "code",
   "execution_count": 8,
   "metadata": {},
   "outputs": [
    {
     "data": {
      "text/plain": [
       "((1551, 70), (1551,))"
      ]
     },
     "execution_count": 8,
     "metadata": {},
     "output_type": "execute_result"
    }
   ],
   "source": [
    "\n",
    "x_with_current.shape, y_diff.shape"
   ]
  },
  {
   "cell_type": "code",
   "execution_count": 9,
   "metadata": {},
   "outputs": [],
   "source": [
    "# mdl = Ridge().fit(x_with_current, y_diff)\n",
    "# yhat = mdl.predict(x_with_current)\n",
    "# mdl = Ridge().fit(x, y)\n",
    "# yhat = mdl.predict(x)\n",
    "\n",
    "\n",
    "# predictive_correlation = np.corrcoef(yhat, y_diff)\n",
    "# predictive_correlation[1,0]\n",
    "\n",
    "# treemdl = GradientBoostingRegressor().fit(x_with_current, y_diff)\n",
    "# treeyhat = treemdl.predict(x_with_current)\n",
    "\n",
    "# predictive_correlation_tree = np.corrcoef(treeyhat, y_diff)\n",
    "# predictive_correlation_tree[1,0]\n",
    "\n",
    "\n",
    "# nnmdl = MLPRegressor([100]).fit(x_with_current, y_diff)\n",
    "# nnyhat = nnmdl.predict(x_with_current)\n",
    "\n",
    "# predictive_correlation_nn = np.corrcoef(nnyhat, y_diff)\n",
    "# predictive_correlation_nn[1,0]"
   ]
  },
  {
   "cell_type": "code",
   "execution_count": 10,
   "metadata": {},
   "outputs": [],
   "source": [
    "x_trn, y_trn, x_val, y_val = get_trn_val(x_with_current, numeric_cols)"
   ]
  },
  {
   "cell_type": "code",
   "execution_count": 19,
   "metadata": {},
   "outputs": [
    {
     "data": {
      "text/plain": [
       "-0.048007984377248805"
      ]
     },
     "execution_count": 19,
     "metadata": {},
     "output_type": "execute_result"
    }
   ],
   "source": [
    "mdl = Ridge(10000).fit(x_trn, y_trn)\n",
    "yhat = mdl.predict(x_val)\n",
    "predictive_correlation = np.corrcoef(yhat, y_val)\n",
    "predictive_correlation[1,0]\n"
   ]
  },
  {
   "cell_type": "code",
   "execution_count": 20,
   "metadata": {},
   "outputs": [
    {
     "data": {
      "text/plain": [
       "0.136627248989158"
      ]
     },
     "execution_count": 20,
     "metadata": {},
     "output_type": "execute_result"
    }
   ],
   "source": [
    "mdl = Ridge(10000).fit(x_trn, y_trn)\n",
    "yhat = mdl.predict(x_trn)\n",
    "predictive_correlation = np.corrcoef(yhat, y_trn)\n",
    "predictive_correlation[1,0]"
   ]
  },
  {
   "cell_type": "code",
   "execution_count": 12,
   "metadata": {},
   "outputs": [],
   "source": [
    "def validation(mdl,x_val,y_val):\n",
    "    money = 100\n",
    "    predictions = mdl.predict(x_val)\n",
    "    assignments = predictions > predictions.mean()\n",
    "    for assignment,y in zip(assignments, y_val):\n",
    "        money = money * (1-assignment) + assignment * money * (1 + y_val)\n",
    "    return money"
   ]
  },
  {
   "cell_type": "code",
   "execution_count": 13,
   "metadata": {},
   "outputs": [
    {
     "data": {
      "text/plain": [
       "array([2.32702534e+02, 1.32416499e+02, 4.32979050e+01, 5.22331875e+01,\n",
       "       1.81847049e+02, 5.83932272e+01, 9.62138904e+01, 2.89564429e+01,\n",
       "       1.47574481e+02, 7.72562699e+01, 1.43922505e+01, 1.35874084e+02,\n",
       "       2.07239381e+02, 2.30430958e+02, 1.63681657e+02, 3.46840342e+01,\n",
       "       4.49269088e+00, 2.01264670e+01, 7.81837113e+00, 1.77302166e+02,\n",
       "       7.32225529e+02, 1.84535341e+01, 2.09675425e+03, 2.23106808e+02,\n",
       "       1.21237736e+03, 2.77745046e+01, 8.63401483e+00, 7.72929682e+01,\n",
       "       2.88369043e+02, 2.78448339e+02, 2.06989472e+02, 2.52183049e+01,\n",
       "       2.20085822e+02, 7.93488134e+01, 9.78621683e+01, 1.41152845e+02,\n",
       "       2.40572984e+01, 8.68159470e+01, 3.94780575e+01, 4.21498550e+02,\n",
       "       2.57253253e+02, 3.14730712e+03, 1.21398918e+03, 3.24741452e+01,\n",
       "       1.18998394e+03, 3.04338790e+02, 5.00130496e+02, 1.02576132e+01,\n",
       "       1.07350776e+02, 3.42451663e+01, 1.26201376e+02, 2.23782357e+01,\n",
       "       6.81698789e+01, 1.44258556e+02, 5.81852238e+01, 1.44867457e+03,\n",
       "       8.08648951e+02, 6.81306305e+01, 6.09250809e+00, 1.89020565e-01,\n",
       "       8.10589608e+00, 2.25029043e+03, 6.66707384e+01, 2.31729619e+02,\n",
       "       2.88306512e+02, 1.09371116e+03, 1.14122509e+03, 6.85656888e+01,\n",
       "       9.60219835e+01, 1.94642231e+02, 2.63932264e+01, 5.14736294e+02,\n",
       "       8.31164069e+00, 3.52636750e+02, 1.14528519e+02, 7.49697969e+02,\n",
       "       1.34945475e+02, 5.68854304e+01, 7.14887716e+01, 4.06620572e+01,\n",
       "       4.48634437e+02, 1.13793050e+01, 3.61652276e+03, 3.11585255e+02,\n",
       "       2.46395485e+01, 2.26087277e+02, 1.79198756e+02, 3.16491311e+02,\n",
       "       1.84331315e+02, 8.30070893e+01, 5.00404507e+03, 1.01951639e+01,\n",
       "       9.87094227e+01, 1.31916548e+04, 7.39029654e+02, 1.32881372e+03,\n",
       "       5.69237162e+01, 2.68590191e+02, 7.58598748e+02, 2.32976894e+02,\n",
       "       7.50411420e+01, 6.20971068e+01, 1.99058921e+02, 2.98279193e+01,\n",
       "       9.24806035e+01, 4.76322448e+02, 6.31355147e+02, 4.84772189e+01,\n",
       "       7.96477394e+02, 1.10404633e+02, 6.57357535e+01, 4.71424952e+01,\n",
       "       2.06621032e+02, 2.64824788e+02, 4.16086258e+02, 3.81004309e+02,\n",
       "       4.70926755e+01, 8.99957210e+01, 7.75542086e+01, 1.26284414e+02,\n",
       "       1.44140422e+03, 7.24462304e+02, 4.78844739e+01, 2.47364112e+02,\n",
       "       1.27542128e+02, 3.08050374e+01, 6.51321461e+02, 1.23104365e+02,\n",
       "       9.59319862e+01, 4.11553401e+01, 1.09084607e+02, 1.16220901e+02,\n",
       "       3.16021068e+03, 2.57634286e+01, 4.60877722e+02, 4.07133354e+01,\n",
       "       5.99743019e+01, 2.28543749e+01, 1.01767264e+02, 8.62977484e+02,\n",
       "       3.77356752e+02, 3.98119088e+01, 6.73814652e+02, 4.66525505e+02,\n",
       "       1.25141532e+02, 5.50130627e+02, 3.23103345e+01, 9.26913062e+01,\n",
       "       1.35054260e+02, 4.02828833e+02, 1.05475544e+01, 1.76394454e+02,\n",
       "       1.99346303e+02, 6.94549013e+01, 3.16017329e+01, 6.77037518e+01,\n",
       "       2.51509815e+02, 5.97357287e+01, 1.09990715e+02, 7.81462739e+01,\n",
       "       7.15492679e+01, 4.66506639e+01, 3.37990438e+01, 5.27370977e+01,\n",
       "       5.98250198e+02, 3.87036981e+01, 3.99701961e+02, 4.73528134e+02,\n",
       "       9.27535757e+01, 2.10468445e+03, 2.10435074e+03, 9.08990826e+02,\n",
       "       1.20106933e+02, 1.64074725e+02, 1.40227916e+02, 2.93382950e+02,\n",
       "       6.13568080e+01, 8.13584412e+01, 2.62737779e+02, 6.84390795e+01,\n",
       "       1.54748344e+02, 4.01872260e+02, 1.25370598e+02, 1.69606368e+02,\n",
       "       7.94000155e+03, 5.10718817e+02, 5.09550227e+00, 6.49877834e+00,\n",
       "       7.76280532e+03, 1.88980551e+02, 8.45756165e+01, 1.20111595e+02,\n",
       "       1.19850420e+02, 1.84791695e+03, 3.57816569e+01, 1.09378736e+02,\n",
       "       2.04218877e+02, 1.95290272e+02, 7.35913449e+01, 8.40225967e+01,\n",
       "       4.88051961e+02, 1.86385187e+01, 4.51195377e+01, 1.54817921e+01,\n",
       "       1.82429358e+02, 5.35520524e+01, 1.04125558e+01, 3.03717228e+02,\n",
       "       5.66237702e+02, 1.78496540e+01, 6.03146786e+00, 1.48148440e+02,\n",
       "       8.50706987e+01, 2.72475640e+02, 1.00714055e+02, 5.20108833e+02,\n",
       "       2.05185330e+01, 2.64229804e+02, 2.91824433e+02, 1.13741081e+02,\n",
       "       4.27330780e+01, 9.36486895e+01, 2.16562313e+02, 6.33534667e+01,\n",
       "       1.19678369e+03, 4.13305410e+01, 3.80159838e+02, 1.11186345e+02,\n",
       "       1.07327344e+02, 8.38549689e+01, 1.49679312e+02, 7.84661275e+01,\n",
       "       1.54768246e+02, 1.90961812e+01, 1.39081692e+02, 2.34285070e+01,\n",
       "       1.89647114e+02, 1.25555038e+02, 3.35854835e+02, 3.27838715e+01,\n",
       "       1.49710478e+02, 1.46467087e+02, 4.32571413e+02, 5.89126497e+01,\n",
       "       3.18423217e+01, 8.55179241e+00, 6.59858838e+01, 2.03776880e+03,\n",
       "       6.61589676e+01, 1.05617485e+03, 2.55648907e+01, 2.35067073e+02,\n",
       "       1.14476414e+02, 5.48135837e+02, 1.10541638e+02, 1.70425542e+02,\n",
       "       1.00199968e+02, 1.01588872e+02, 8.04582906e+01, 2.59325398e+02,\n",
       "       1.43075087e+02, 5.33748454e+02, 2.58191242e+01, 1.98896277e+02,\n",
       "       5.75145641e+02, 3.30827176e+01, 8.34862453e+02, 2.30974269e+02,\n",
       "       1.68436855e+02, 9.84281627e+01, 1.95426807e+02, 7.67180752e+02,\n",
       "       2.41593993e+02, 9.26679080e+01, 8.23030575e+01, 9.10925337e+01,\n",
       "       5.32387525e+00, 3.03642680e+02, 3.24738416e+02, 1.20879464e+02,\n",
       "       3.72697046e+02, 1.43190645e+02, 4.83270301e+02, 7.67972706e+01,\n",
       "       1.53359279e+02, 8.38469289e+01, 1.11264310e+02, 1.86683989e+02,\n",
       "       1.02865667e+02, 1.64280157e+02, 3.41292448e+02, 1.77544774e+02,\n",
       "       1.06889942e+02, 1.76927615e+02, 1.40595423e+01, 3.35919607e+02,\n",
       "       5.05978459e+02, 1.63608149e+02, 2.91382172e+01, 2.47273621e+01,\n",
       "       1.18158252e+02, 7.38772528e+01, 1.48173894e+02, 1.93315112e+02,\n",
       "       4.94528995e+01, 1.01372922e+02, 2.81490495e+02, 2.95604241e+01,\n",
       "       1.35220351e+02, 2.07647435e+01])"
      ]
     },
     "execution_count": 13,
     "metadata": {},
     "output_type": "execute_result"
    }
   ],
   "source": [
    "validation(mdl,x_val,y_val)"
   ]
  },
  {
   "cell_type": "code",
   "execution_count": null,
   "metadata": {},
   "outputs": [],
   "source": []
  }
 ],
 "metadata": {
  "kernelspec": {
   "display_name": "Python 3",
   "language": "python",
   "name": "python3"
  },
  "language_info": {
   "codemirror_mode": {
    "name": "ipython",
    "version": 3
   },
   "file_extension": ".py",
   "mimetype": "text/x-python",
   "name": "python",
   "nbconvert_exporter": "python",
   "pygments_lexer": "ipython3",
   "version": "3.8.5"
  }
 },
 "nbformat": 4,
 "nbformat_minor": 4
}
