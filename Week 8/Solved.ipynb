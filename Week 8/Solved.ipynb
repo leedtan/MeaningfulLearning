{
 "cells": [
  {
   "cell_type": "code",
   "execution_count": 1,
   "metadata": {},
   "outputs": [],
   "source": [
    "# Datasets grabbed from https://www.kaggle.com/borismarjanovic/price-volume-data-for-all-us-stocks-etfs\n",
    "# Let's look at the problem of forecasting stocks"
   ]
  },
  {
   "cell_type": "code",
   "execution_count": null,
   "metadata": {},
   "outputs": [],
   "source": [
    "from sklearn.ensemble import GradientBoostingRegressor\n",
    "from sklearn.neural_network import MLPRegressor\n",
    "from sklearn.linear_model import Ridge\n",
    "from data import picture, dataShift, get_x_y, get_mdl_inputs, calc_y, get_trn_val"
   ]
  },
  {
   "cell_type": "code",
   "execution_count": null,
   "metadata": {},
   "outputs": [],
   "source": [
    "# Let's import one of the datasets from the link.\n",
    "import pandas as pd\n",
    "import numpy as np\n",
    "import matplotlib.pyplot as plt\n",
    "df = pd.read_csv('aadr.us.csv')\n",
    "\n",
    "numeric_cols = ['Open', 'High', 'Low', 'Close', 'Volume']\n"
   ]
  },
  {
   "cell_type": "code",
   "execution_count": null,
   "metadata": {},
   "outputs": [],
   "source": [
    "draw = False\n",
    "if draw == True:\n",
    "    picture(df)"
   ]
  },
  {
   "cell_type": "code",
   "execution_count": null,
   "metadata": {},
   "outputs": [],
   "source": [
    "cleaner = dataShift(df, numeric_cols)"
   ]
  },
  {
   "cell_type": "code",
   "execution_count": null,
   "metadata": {},
   "outputs": [],
   "source": [
    "x, y, past_cols = get_x_y(numeric_cols, cleaner)"
   ]
  },
  {
   "cell_type": "code",
   "execution_count": null,
   "metadata": {},
   "outputs": [],
   "source": [
    "y_diff, x_with_current = get_mdl_inputs(cleaner, numeric_cols, past_cols)"
   ]
  },
  {
   "cell_type": "code",
   "execution_count": null,
   "metadata": {},
   "outputs": [],
   "source": [
    "\n",
    "x_with_current.shape, y_diff.shape"
   ]
  },
  {
   "cell_type": "code",
   "execution_count": null,
   "metadata": {},
   "outputs": [],
   "source": [
    "# mdl = Ridge().fit(x_with_current, y_diff)\n",
    "# yhat = mdl.predict(x_with_current)\n",
    "# mdl = Ridge().fit(x, y)\n",
    "# yhat = mdl.predict(x)\n",
    "\n",
    "\n",
    "# predictive_correlation = np.corrcoef(yhat, y_diff)\n",
    "# predictive_correlation[1,0]\n",
    "\n",
    "# treemdl = GradientBoostingRegressor().fit(x_with_current, y_diff)\n",
    "# treeyhat = treemdl.predict(x_with_current)\n",
    "\n",
    "# predictive_correlation_tree = np.corrcoef(treeyhat, y_diff)\n",
    "# predictive_correlation_tree[1,0]\n",
    "\n",
    "\n",
    "# nnmdl = MLPRegressor([100]).fit(x_with_current, y_diff)\n",
    "# nnyhat = nnmdl.predict(x_with_current)\n",
    "\n",
    "# predictive_correlation_nn = np.corrcoef(nnyhat, y_diff)\n",
    "# predictive_correlation_nn[1,0]"
   ]
  },
  {
   "cell_type": "code",
   "execution_count": null,
   "metadata": {},
   "outputs": [],
   "source": [
    "x_trn, y_trn, x_val, y_val = get_trn_val(x_with_current, numeric_cols, 0.6)"
   ]
  },
  {
   "cell_type": "code",
   "execution_count": null,
   "metadata": {},
   "outputs": [],
   "source": [
    "mdl = GradientBoostingRegressor().fit(x_trn, y_trn)\n",
    "yhat = mdl.predict(x_val)\n",
    "predictive_correlation = np.corrcoef(yhat, y_val)\n",
    "predictive_correlation[1,0]\n"
   ]
  },
  {
   "cell_type": "code",
   "execution_count": null,
   "metadata": {},
   "outputs": [],
   "source": [
    "mdl = Ridge().fit(x_trn, y_trn)\n",
    "yhat = mdl.predict(x_trn)\n",
    "predictive_correlation = np.corrcoef(yhat, y_trn)\n",
    "predictive_correlation[1,0]"
   ]
  },
  {
   "cell_type": "code",
   "execution_count": null,
   "metadata": {},
   "outputs": [],
   "source": [
    "predictive_correlation"
   ]
  },
  {
   "cell_type": "code",
   "execution_count": null,
   "metadata": {},
   "outputs": [],
   "source": [
    "def validation(mdl,x_val,y_val):\n",
    "    money = 100\n",
    "    predictions = mdl.predict(x_val)\n",
    "    assignments = predictions > predictions.mean()\n",
    "    for assignment,y in zip(assignments, y_val):\n",
    "        money = money * (1-assignment) + assignment * money * (1 + y)\n",
    "    return money"
   ]
  },
  {
   "cell_type": "code",
   "execution_count": null,
   "metadata": {
    "scrolled": true
   },
   "outputs": [],
   "source": [
    "validation(mdl,x_val,y_val)"
   ]
  },
  {
   "cell_type": "code",
   "execution_count": null,
   "metadata": {},
   "outputs": [],
   "source": [
    "def baseline(y_val):\n",
    "    money = 100\n",
    "    for y in y_val:\n",
    "        money = money * (1+y) \n",
    "    return money"
   ]
  },
  {
   "cell_type": "code",
   "execution_count": null,
   "metadata": {},
   "outputs": [],
   "source": [
    "baseline(y_val)"
   ]
  },
  {
   "cell_type": "code",
   "execution_count": null,
   "metadata": {},
   "outputs": [],
   "source": [
    "profit =[]\n",
    "validations_correlations = []\n",
    "baseline_profits=[]\n",
    "training_correlations =[]\n",
    "for pct_train in [.2,.3,.4,.5,.6,.7,.8,.9]:\n",
    "    x_trn, y_trn, x_val, y_val  = get_trn_val(x_with_current, numeric_cols, pct_train, val_percent = 0.1)\n",
    "    mdl = Ridge().fit(x_trn, y_trn)\n",
    "    yhat = mdl.predict(x_trn)\n",
    "    predictive_correlation = np.corrcoef(yhat, y_trn)\n",
    "    training_correlations.append(predictive_correlation[1,0])\n",
    "    mdl_val = Ridge().fit(x_val, y_val)\n",
    "    yhat_val = mdl.predict(x_val)\n",
    "    baseline_profits.append(baseline(y_val))\n",
    "    predictive_correlation_val = np.corrcoef(yhat_val, y_val)\n",
    "    validations_correlations.append(predictive_correlation_val[1,0])\n",
    "    profit.append(validation(mdl,x_val, y_val))"
   ]
  },
  {
   "cell_type": "code",
   "execution_count": null,
   "metadata": {},
   "outputs": [],
   "source": [
    "training_correlations"
   ]
  },
  {
   "cell_type": "code",
   "execution_count": null,
   "metadata": {},
   "outputs": [],
   "source": [
    "sum(profit)/len(profit)"
   ]
  },
  {
   "cell_type": "code",
   "execution_count": null,
   "metadata": {},
   "outputs": [],
   "source": [
    "validations_correlations"
   ]
  },
  {
   "cell_type": "code",
   "execution_count": null,
   "metadata": {},
   "outputs": [],
   "source": [
    "sum(baseline_profits)/len(baseline_profits)"
   ]
  },
  {
   "cell_type": "code",
   "execution_count": null,
   "metadata": {},
   "outputs": [],
   "source": [
    "x_trn.shape"
   ]
  },
  {
   "cell_type": "code",
   "execution_count": null,
   "metadata": {},
   "outputs": [],
   "source": []
  }
 ],
 "metadata": {
  "kernelspec": {
   "display_name": "Python 3",
   "language": "python",
   "name": "python3"
  },
  "language_info": {
   "codemirror_mode": {
    "name": "ipython",
    "version": 3
   },
   "file_extension": ".py",
   "mimetype": "text/x-python",
   "name": "python",
   "nbconvert_exporter": "python",
   "pygments_lexer": "ipython3",
   "version": "3.8.5"
  }
 },
 "nbformat": 4,
 "nbformat_minor": 4
}
