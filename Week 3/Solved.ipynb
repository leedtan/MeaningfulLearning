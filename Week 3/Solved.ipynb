{
 "cells": [
  {
   "cell_type": "code",
   "execution_count": 1,
   "metadata": {},
   "outputs": [],
   "source": [
    "# Start by wrapping up last week's homework. \n",
    "# Look through some of the codingbat problems you struggled with"
   ]
  },
  {
   "cell_type": "code",
   "execution_count": null,
   "metadata": {},
   "outputs": [],
   "source": [
    "# Fundamentals of Linear Regression:\n",
    "# https://medium.com/datadriveninvestor/machine-learning-preface-ba69bca4701d\n",
    "# When directed, go through \n",
    "# https://medium.com/datadriveninvestor/machine-learning-python-programming-introduction-for-business-people-10588e13ce9d"
   ]
  },
  {
   "cell_type": "code",
   "execution_count": 2,
   "metadata": {},
   "outputs": [],
   "source": [
    "# Design your own custom problem set via random simulation\n",
    "# Show that you can solve that problem set via ML and that the model\n",
    "# can learn some of the ground truths of the simulation"
   ]
  },
  {
   "cell_type": "code",
   "execution_count": 17,
   "metadata": {},
   "outputs": [],
   "source": [
    "import numpy as np\n",
    "import pandas as pd\n",
    "import matplotlib.pyplot as plt\n",
    "from sklearn.linear_model import Ridge\n",
    "n_data = 100\n",
    "n_features = 30\n",
    "x = np.random.rand(n_data, n_features)\n",
    "\n",
    "feature_impacts = np.zeros(n_features)\n",
    "feature_impacts[1] = 2\n",
    "feature_impacts[5] = 5\n",
    "feature_impacts[10] = -3\n",
    "y = x.dot(feature_impacts)"
   ]
  },
  {
   "cell_type": "code",
   "execution_count": 18,
   "metadata": {},
   "outputs": [],
   "source": [
    "# Check for the relationships we expect\n",
    "# change to if 1 to see the relationships\n",
    "if 0:\n",
    "    for i in range(len(feature_impacts)):\n",
    "        xi = x[:,i]\n",
    "        print(i, np.corrcoef(xi, y)[0,1].round(1))"
   ]
  },
  {
   "cell_type": "code",
   "execution_count": 24,
   "metadata": {},
   "outputs": [],
   "source": [
    "RegressionModel = Ridge().fit(x, y)\n",
    "\n",
    "#The coefficients are the ROI of each input feature on our output target\n",
    "coefs = RegressionModel.coef_.round(2)"
   ]
  },
  {
   "cell_type": "code",
   "execution_count": 25,
   "metadata": {},
   "outputs": [
    {
     "data": {
      "text/plain": [
       "array([ 1.86,  4.21, -2.65])"
      ]
     },
     "execution_count": 25,
     "metadata": {},
     "output_type": "execute_result"
    }
   ],
   "source": [
    "coefs[[1, 5, 10]]"
   ]
  },
  {
   "cell_type": "code",
   "execution_count": null,
   "metadata": {},
   "outputs": [],
   "source": [
    "# Show that if you reduced regularization, the model would learn the features more accurately"
   ]
  },
  {
   "cell_type": "code",
   "execution_count": 26,
   "metadata": {},
   "outputs": [],
   "source": [
    "RegressionModel = Ridge(1e-10).fit(x, y)\n",
    "\n",
    "#The coefficients are the ROI of each input feature on our output target\n",
    "coefs = RegressionModel.coef_.round(2)"
   ]
  },
  {
   "cell_type": "code",
   "execution_count": 28,
   "metadata": {},
   "outputs": [
    {
     "data": {
      "text/plain": [
       "array([ 2.,  5., -3.])"
      ]
     },
     "execution_count": 28,
     "metadata": {},
     "output_type": "execute_result"
    }
   ],
   "source": [
    "coefs[[1, 5, 10]]"
   ]
  },
  {
   "cell_type": "code",
   "execution_count": null,
   "metadata": {},
   "outputs": [],
   "source": [
    "# Images are complex objects with structure. Lets pretend we need to solve a problem with images.\n",
    "# We want to design a pickle detector, where a pickle is defined as any cell that is close to black\n",
    "# Above three cells which are <red, blue, green>. An image is either True or False based on if \n",
    "# they have a pickle or not.\n",
    "# Design a dataset to solve this problem, then train a model (using either numpy or tensorflow)\n",
    "# That solves it.\n",
    "# Over the following few weeks we will get tools that let us model structured problems\n",
    "# like these much more efficiently."
   ]
  },
  {
   "cell_type": "code",
   "execution_count": 42,
   "metadata": {},
   "outputs": [],
   "source": [
    "n_image = 100\n",
    "width = 10\n",
    "images = np.random.rand(n_image, width, width, 3) / 2 + .25\n",
    "y = np.random.randint(2, size = n_image)"
   ]
  },
  {
   "cell_type": "code",
   "execution_count": 43,
   "metadata": {},
   "outputs": [],
   "source": [
    "for i, yi in enumerate(y):\n",
    "    if yi:\n",
    "        loc_x = np.random.randint(width-1)\n",
    "        loc_y = np.random.randint(1, width-1)\n",
    "        images[i, loc_x, loc_y,:] = 0\n",
    "        images[i, loc_x+1, loc_y-1,:] = [1, 0, 0]\n",
    "        images[i, loc_x+1, loc_y,:] = [0, 1, 0]\n",
    "        images[i, loc_x+1, loc_y+1,:] = [0, 0, 1]"
   ]
  },
  {
   "cell_type": "code",
   "execution_count": 48,
   "metadata": {},
   "outputs": [
    {
     "data": {
      "text/plain": [
       "<matplotlib.image.AxesImage at 0x1aeb7d447c8>"
      ]
     },
     "execution_count": 48,
     "metadata": {},
     "output_type": "execute_result"
    },
    {
     "data": {
      "image/png": "[encoded data removed]",
      "text/plain": [
       "<Figure size 432x288 with 1 Axes>"
      ]
     },
     "metadata": {
      "needs_background": "light"
     },
     "output_type": "display_data"
    }
   ],
   "source": [
    "plt.imshow(images[y.argmax()])"
   ]
  },
  {
   "cell_type": "code",
   "execution_count": 50,
   "metadata": {},
   "outputs": [],
   "source": [
    "# we have the dataset and it's visualized. now lets feed it into linear regression. \n",
    "# Let's just order all the values in this image in a line\n",
    "images_line = images.reshape(images.shape[0], -1)"
   ]
  },
  {
   "cell_type": "code",
   "execution_count": 51,
   "metadata": {},
   "outputs": [
    {
     "data": {
      "text/plain": [
       "array([ 0.08,  0.04,  0.08, -0.19, -0.12, -0.03, -0.01,  0.  , -0.08,\n",
       "        0.06, -0.16, -0.11, -0.1 , -0.12,  0.01,  0.01,  0.01, -0.07,\n",
       "       -0.03, -0.04,  0.06, -0.24,  0.11,  0.02, -0.03, -0.02, -0.07,\n",
       "       -0.1 ,  0.02,  0.12, -0.09, -0.1 ,  0.02,  0.01, -0.08, -0.22,\n",
       "       -0.22, -0.04, -0.08, -0.07,  0.05,  0.25,  0.04, -0.02, -0.15,\n",
       "       -0.12,  0.05,  0.01, -0.07,  0.05, -0.09,  0.02, -0.18,  0.03,\n",
       "       -0.09, -0.03,  0.01,  0.06,  0.03,  0.06,  0.06, -0.01,  0.05,\n",
       "       -0.08, -0.17, -0.09,  0.06, -0.08, -0.02,  0.05, -0.03,  0.02,\n",
       "        0.13, -0.16,  0.04, -0.03, -0.11, -0.16, -0.06,  0.05, -0.18,\n",
       "       -0.11, -0.12, -0.14, -0.16,  0.02, -0.05,  0.05, -0.02, -0.03,\n",
       "        0.02, -0.16,  0.1 ,  0.08, -0.12,  0.02,  0.04,  0.09, -0.05,\n",
       "        0.05, -0.12, -0.09,  0.03, -0.25,  0.02, -0.04,  0.08, -0.09,\n",
       "       -0.15, -0.08, -0.  , -0.07, -0.13, -0.04, -0.13,  0.08, -0.16,\n",
       "        0.08, -0.03, -0.02,  0.12, -0.11, -0.08, -0.09,  0.01, -0.  ,\n",
       "       -0.04, -0.05, -0.07, -0.03, -0.03, -0.12, -0.08, -0.1 ,  0.09,\n",
       "       -0.04, -0.1 , -0.05, -0.08, -0.06, -0.23, -0.09, -0.01, -0.19,\n",
       "       -0.05, -0.02,  0.14, -0.01, -0.08,  0.03,  0.16, -0.09,  0.02,\n",
       "        0.15, -0.05, -0.02, -0.09,  0.09, -0.11, -0.22,  0.05, -0.13,\n",
       "        0.05, -0.1 , -0.04, -0.08, -0.07, -0.3 , -0.21,  0.01, -0.05,\n",
       "       -0.26,  0.19,  0.02,  0.  , -0.13, -0.08, -0.05, -0.01,  0.11,\n",
       "        0.13,  0.13,  0.06,  0.12,  0.07,  0.02,  0.06,  0.05, -0.02,\n",
       "       -0.1 , -0.08,  0.  ,  0.08, -0.04,  0.01, -0.02, -0.07,  0.14,\n",
       "        0.08, -0.16,  0.02,  0.12, -0.03,  0.04,  0.03, -0.1 , -0.04,\n",
       "       -0.04,  0.13,  0.17,  0.08,  0.05,  0.04, -0.16, -0.04, -0.1 ,\n",
       "        0.  ,  0.03,  0.03,  0.16,  0.09, -0.04, -0.12,  0.11,  0.03,\n",
       "        0.07,  0.09, -0.13,  0.02, -0.04, -0.02, -0.12, -0.04, -0.15,\n",
       "       -0.16, -0.05,  0.05, -0.02, -0.04,  0.15, -0.05,  0.11,  0.01,\n",
       "        0.02, -0.15, -0.07,  0.06,  0.09, -0.01, -0.11, -0.04, -0.14,\n",
       "        0.1 , -0.12, -0.04, -0.03,  0.02, -0.16, -0.07,  0.08, -0.14,\n",
       "       -0.04, -0.03, -0.05, -0.05,  0.15, -0.01, -0.1 ,  0.01,  0.08,\n",
       "        0.09, -0.03,  0.1 , -0.04,  0.02, -0.  , -0.12,  0.1 ,  0.  ,\n",
       "       -0.05, -0.01,  0.1 ,  0.06, -0.11, -0.09,  0.01, -0.04, -0.02,\n",
       "       -0.11,  0.02, -0.  ,  0.  ,  0.01, -0.01, -0.  ,  0.1 ,  0.01,\n",
       "       -0.04, -0.07,  0.04])"
      ]
     },
     "execution_count": 51,
     "metadata": {},
     "output_type": "execute_result"
    }
   ],
   "source": [
    "RegressionModel = Ridge().fit(images_line, y)\n",
    "\n",
    "#The coefficients are the ROI of each input feature on our output target\n",
    "coefs = RegressionModel.coef_.round(2)\n",
    "coefs"
   ]
  },
  {
   "cell_type": "code",
   "execution_count": null,
   "metadata": {},
   "outputs": [],
   "source": []
  }
 ],
 "metadata": {
  "kernelspec": {
   "display_name": "Python 3",
   "language": "python",
   "name": "python3"
  },
  "language_info": {
   "codemirror_mode": {
    "name": "ipython",
    "version": 3
   },
   "file_extension": ".py",
   "mimetype": "text/x-python",
   "name": "python",
   "nbconvert_exporter": "python",
   "pygments_lexer": "ipython3",
   "version": "3.7.6"
  }
 },
 "nbformat": 4,
 "nbformat_minor": 4
}
