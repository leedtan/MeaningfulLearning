{
 "cells": [
  {
   "cell_type": "code",
   "execution_count": 1,
   "metadata": {},
   "outputs": [],
   "source": [
    "# Start by wrapping up last week's homework. \n",
    "# Look through some of the codingbat problems you struggled with"
   ]
  },
  {
   "cell_type": "code",
   "execution_count": 2,
   "metadata": {},
   "outputs": [],
   "source": [
    "# some of these examples are loosely based on \n",
    "# https://medium.com/datadriveninvestor/machine-learning-preface-ba69bca4701d\n",
    "# https://medium.com/datadriveninvestor/machine-learning-python-programming-introduction-for-business-people-10588e13ce9d\n",
    "# You can reference them for more thorough analysis"
   ]
  },
  {
   "cell_type": "code",
   "execution_count": 3,
   "metadata": {},
   "outputs": [],
   "source": [
    "# Let's start with a simple linear regression problem\n",
    "import numpy as np\n",
    "import pandas as pd\n",
    "from sklearn.linear_model import Ridge\n",
    "import matplotlib.pyplot as plt\n",
    "\n",
    "x1 = np.random.rand(20)\n",
    "x2 = np.random.rand(20)\n",
    "y = x1/2 - x2 + np.random.rand(20) * .1"
   ]
  },
  {
   "cell_type": "code",
   "execution_count": 4,
   "metadata": {},
   "outputs": [
    {
     "data": {
      "text/plain": [
       "array([ 0.54, -1.  ])"
      ]
     },
     "execution_count": 4,
     "metadata": {},
     "output_type": "execute_result"
    }
   ],
   "source": [
    "# What do you think the coefients of the linear regression solution to this problem are?\n",
    "x = np.stack((x1, x2), 1)\n",
    "RegressionModel = Ridge(1e-10).fit(x, y)\n",
    "\n",
    "#The coefficients are the ROI of each input feature on our output target\n",
    "coefs = RegressionModel.coef_.round(2)\n",
    "coefs"
   ]
  },
  {
   "cell_type": "code",
   "execution_count": 5,
   "metadata": {},
   "outputs": [],
   "source": [
    "# Talk about the above results. make sure you understand them."
   ]
  },
  {
   "cell_type": "code",
   "execution_count": 6,
   "metadata": {},
   "outputs": [
    {
     "data": {
      "text/html": [
       "<div>\n",
       "<style scoped>\n",
       "    .dataframe tbody tr th:only-of-type {\n",
       "        vertical-align: middle;\n",
       "    }\n",
       "\n",
       "    .dataframe tbody tr th {\n",
       "        vertical-align: top;\n",
       "    }\n",
       "\n",
       "    .dataframe thead th {\n",
       "        text-align: right;\n",
       "    }\n",
       "</style>\n",
       "<table border=\"1\" class=\"dataframe\">\n",
       "  <thead>\n",
       "    <tr style=\"text-align: right;\">\n",
       "      <th></th>\n",
       "      <th>x1</th>\n",
       "      <th>x2</th>\n",
       "      <th>x3</th>\n",
       "      <th>x4</th>\n",
       "      <th>x5</th>\n",
       "      <th>y</th>\n",
       "    </tr>\n",
       "  </thead>\n",
       "  <tbody>\n",
       "    <tr>\n",
       "      <th>0</th>\n",
       "      <td>0.109176</td>\n",
       "      <td>0.110346</td>\n",
       "      <td>0.954794</td>\n",
       "      <td>0.299355</td>\n",
       "      <td>0.320779</td>\n",
       "      <td>0.118571</td>\n",
       "    </tr>\n",
       "    <tr>\n",
       "      <th>1</th>\n",
       "      <td>0.734157</td>\n",
       "      <td>0.772012</td>\n",
       "      <td>0.496412</td>\n",
       "      <td>0.174994</td>\n",
       "      <td>0.281592</td>\n",
       "      <td>0.439860</td>\n",
       "    </tr>\n",
       "    <tr>\n",
       "      <th>2</th>\n",
       "      <td>0.888093</td>\n",
       "      <td>0.962296</td>\n",
       "      <td>0.372971</td>\n",
       "      <td>0.460457</td>\n",
       "      <td>0.799633</td>\n",
       "      <td>0.425971</td>\n",
       "    </tr>\n",
       "    <tr>\n",
       "      <th>3</th>\n",
       "      <td>0.073423</td>\n",
       "      <td>0.170818</td>\n",
       "      <td>0.043870</td>\n",
       "      <td>0.196360</td>\n",
       "      <td>0.343643</td>\n",
       "      <td>0.062233</td>\n",
       "    </tr>\n",
       "    <tr>\n",
       "      <th>4</th>\n",
       "      <td>0.299930</td>\n",
       "      <td>0.308823</td>\n",
       "      <td>0.662688</td>\n",
       "      <td>0.572116</td>\n",
       "      <td>0.075681</td>\n",
       "      <td>0.150668</td>\n",
       "    </tr>\n",
       "  </tbody>\n",
       "</table>\n",
       "</div>"
      ],
      "text/plain": [
       "         x1        x2        x3        x4        x5         y\n",
       "0  0.109176  0.110346  0.954794  0.299355  0.320779  0.118571\n",
       "1  0.734157  0.772012  0.496412  0.174994  0.281592  0.439860\n",
       "2  0.888093  0.962296  0.372971  0.460457  0.799633  0.425971\n",
       "3  0.073423  0.170818  0.043870  0.196360  0.343643  0.062233\n",
       "4  0.299930  0.308823  0.662688  0.572116  0.075681  0.150668"
      ]
     },
     "execution_count": 6,
     "metadata": {},
     "output_type": "execute_result"
    }
   ],
   "source": [
    "# What a bout this scenario?\n",
    "NUM_SAMPLES = 200\n",
    "\n",
    "#Simulating data. x1 is random from 0 to 1\n",
    "x1 = np.random.rand(NUM_SAMPLES)\n",
    "#x2 is very correlated to x1, with small random fluctuations\n",
    "x2 = x1 + np.random.rand(NUM_SAMPLES)/10\n",
    "\n",
    "#x3-5 are random\n",
    "x3 = np.random.rand(NUM_SAMPLES)\n",
    "x4 = np.random.rand(NUM_SAMPLES)\n",
    "x5 = np.random.rand(NUM_SAMPLES)\n",
    "\n",
    "#y is generated by x1 - x2/2 + noise\n",
    "y = x1 - x2/2 + np.random.rand(NUM_SAMPLES)/10\n",
    "\n",
    "#Lets pack it all into a data frame. A data frame is similar to a SQL table, displayed below\n",
    "df = pd.DataFrame({'x1':x1, 'x2':x2,'x3':x3,'x4':x4,'x5':x5, 'y':y})\n",
    "\n",
    "df.head()"
   ]
  },
  {
   "cell_type": "code",
   "execution_count": 7,
   "metadata": {},
   "outputs": [],
   "source": [
    "# Looking at how y is calculated, do we think it will be positively or negatively correlated to x1 and x2?"
   ]
  },
  {
   "cell_type": "code",
   "execution_count": 8,
   "metadata": {},
   "outputs": [
    {
     "data": {
      "image/png": "[encoded data removed]",
      "text/plain": [
       "<Figure size 720x360 with 2 Axes>"
      ]
     },
     "metadata": {
      "needs_background": "light"
     },
     "output_type": "display_data"
    }
   ],
   "source": [
    "#Lets visualize the correlations between x1 vs Y and x2 vs Y\n",
    "plt.figure(figsize=(10,5))\n",
    "plt.subplot(1,2,1).scatter(x1,y)\n",
    "plt.title('x1 vs Y\\n correlation:' + str(np.corrcoef(x1, y)[0,1].round(4)))\n",
    "plt.subplot(1,2,2).scatter(x2,y)\n",
    "plt.title('x2 vs Y\\n correlation:' + str(np.corrcoef(x2, y)[0,1].round(4)))\n",
    "plt.show()"
   ]
  },
  {
   "cell_type": "code",
   "execution_count": 9,
   "metadata": {},
   "outputs": [],
   "source": [
    "# So do we think the regression coefficients will also both be positive?"
   ]
  },
  {
   "cell_type": "code",
   "execution_count": 10,
   "metadata": {},
   "outputs": [],
   "source": [
    "\n",
    "X = df[['x1', 'x2', 'x3', 'x4', 'x5']]\n",
    "Y = df['y']"
   ]
  },
  {
   "cell_type": "code",
   "execution_count": 11,
   "metadata": {},
   "outputs": [],
   "source": [
    "#Here we build a regression model using sklearn Ridge and fit it to our dataset\n",
    "RegressionModel = Ridge(1e-3).fit(X,Y)\n",
    "\n",
    "#The coefficients are the ROI of each input feature on our output target\n",
    "coefs = RegressionModel.coef_.round(2)\n"
   ]
  },
  {
   "cell_type": "code",
   "execution_count": 12,
   "metadata": {
    "scrolled": true
   },
   "outputs": [
    {
     "name": "stdout",
     "output_type": "stream",
     "text": [
      "Regression coefficients from Sklearn\n",
      "[('x1', 1.03), ('x2', -0.52), ('x3', 0.01), ('x4', 0.01), ('x5', 0.01)]\n"
     ]
    }
   ],
   "source": [
    "print('Regression coefficients from Sklearn')\n",
    "print(list(zip(['x1', 'x2', 'x3', 'x4', 'x5'], coefs)))"
   ]
  },
  {
   "cell_type": "code",
   "execution_count": 13,
   "metadata": {},
   "outputs": [],
   "source": [
    "# Discuss why this worked whereas correlation was misleading.\n",
    "# If we wanted the model to learn more precisely (x1: +1, x2: -.5), how could we change the dataset to help the model learn?"
   ]
  },
  {
   "cell_type": "code",
   "execution_count": 14,
   "metadata": {},
   "outputs": [],
   "source": [
    "# Design your own custom problem set via random simulation\n",
    "# Show that you can solve that problem set via ML and that the model\n",
    "# can learn some of the ground truths of the simulation"
   ]
  },
  {
   "cell_type": "code",
   "execution_count": 15,
   "metadata": {},
   "outputs": [],
   "source": [
    "n_data = 100\n",
    "n_features = 30\n",
    "x = np.random.rand(n_data, n_features)\n",
    "\n",
    "feature_impacts = np.zeros(n_features)\n",
    "feature_impacts[1] = 2\n",
    "feature_impacts[5] = 5\n",
    "feature_impacts[10] = -3\n",
    "y = x.dot(feature_impacts)"
   ]
  },
  {
   "cell_type": "code",
   "execution_count": 16,
   "metadata": {},
   "outputs": [],
   "source": [
    "# Check for the relationships we expect\n",
    "# change to if 1 to see the relationships\n",
    "if 0:\n",
    "    for i in range(len(feature_impacts)):\n",
    "        xi = x[:,i]\n",
    "        print(i, np.corrcoef(xi, y)[0,1].round(1))"
   ]
  },
  {
   "cell_type": "code",
   "execution_count": 17,
   "metadata": {},
   "outputs": [],
   "source": [
    "RegressionModel = Ridge().fit(x, y)\n",
    "\n",
    "#The coefficients are the ROI of each input feature on our output target\n",
    "coefs = RegressionModel.coef_.round(2)"
   ]
  },
  {
   "cell_type": "code",
   "execution_count": 18,
   "metadata": {},
   "outputs": [
    {
     "data": {
      "text/plain": [
       "array([ 1.83,  4.29, -2.48])"
      ]
     },
     "execution_count": 18,
     "metadata": {},
     "output_type": "execute_result"
    }
   ],
   "source": [
    "coefs[[1, 5, 10]]"
   ]
  },
  {
   "cell_type": "code",
   "execution_count": 19,
   "metadata": {},
   "outputs": [],
   "source": [
    "# Show that if you reduced regularization, the model would learn the features more accurately"
   ]
  },
  {
   "cell_type": "code",
   "execution_count": 20,
   "metadata": {},
   "outputs": [],
   "source": [
    "RegressionModel = Ridge(1e-10).fit(x, y)\n",
    "\n",
    "#The coefficients are the ROI of each input feature on our output target\n",
    "coefs = RegressionModel.coef_.round(2)"
   ]
  },
  {
   "cell_type": "code",
   "execution_count": 21,
   "metadata": {
    "scrolled": true
   },
   "outputs": [
    {
     "data": {
      "text/plain": [
       "array([ 2.,  5., -3.])"
      ]
     },
     "execution_count": 21,
     "metadata": {},
     "output_type": "execute_result"
    }
   ],
   "source": [
    "coefs[[1, 5, 10]]"
   ]
  },
  {
   "cell_type": "code",
   "execution_count": 22,
   "metadata": {},
   "outputs": [],
   "source": [
    "# Potentially break here. The following section may be either in class, homework, or a following session."
   ]
  },
  {
   "cell_type": "code",
   "execution_count": 23,
   "metadata": {},
   "outputs": [],
   "source": [
    "# Images are complex objects with structure. Lets pretend we need to solve a problem with images.\n",
    "# We want to design a pickle detector, where a pickle is defined as any cell that is close to black\n",
    "# Above three cells which are <red, blue, green>. An image is either True or False based on if \n",
    "# they have a pickle or not.\n",
    "# Design a dataset to solve this problem, then train a model using scikit-learn Ridge\n",
    "# That solves it.\n",
    "# Over the following few weeks we will get tools that let us model structured problems\n",
    "# like these much more efficiently."
   ]
  },
  {
   "cell_type": "code",
   "execution_count": 24,
   "metadata": {},
   "outputs": [],
   "source": [
    "n_image = 100\n",
    "width = 4\n",
    "images = np.random.rand(n_image, width, width, 3) / 2 + .25\n",
    "y = np.random.randint(2, size = n_image)"
   ]
  },
  {
   "cell_type": "code",
   "execution_count": 25,
   "metadata": {},
   "outputs": [],
   "source": [
    "for i, yi in enumerate(y):\n",
    "    if yi:\n",
    "        loc_x = np.random.randint(width-1)\n",
    "        loc_y = np.random.randint(1, width-1)\n",
    "        images[i, loc_x, loc_y,:] = 0\n",
    "        images[i, loc_x+1, loc_y-1,:] = [1, 0, 0]\n",
    "        images[i, loc_x+1, loc_y,:] = [0, 1, 0]\n",
    "        images[i, loc_x+1, loc_y+1,:] = [0, 0, 1]"
   ]
  },
  {
   "cell_type": "code",
   "execution_count": 26,
   "metadata": {},
   "outputs": [
    {
     "data": {
      "text/plain": [
       "array([0, 1, 1, 0, 0, 1, 1, 1, 1, 0, 1, 0, 1, 1, 1, 0, 1, 1, 0, 0, 0, 1,\n",
       "       0, 0, 0, 1, 1, 1, 1, 1, 0, 0, 0, 0, 1, 1, 1, 0, 0, 1, 1, 0, 0, 1,\n",
       "       0, 1, 0, 1, 1, 1, 1, 0, 1, 1, 1, 0, 0, 1, 1, 0, 0, 0, 0, 0, 1, 0,\n",
       "       0, 1, 0, 0, 1, 1, 0, 0, 1, 0, 0, 0, 1, 1, 1, 1, 1, 0, 0, 0, 1, 0,\n",
       "       0, 0, 0, 0, 0, 0, 0, 0, 0, 0, 0, 0])"
      ]
     },
     "execution_count": 26,
     "metadata": {},
     "output_type": "execute_result"
    }
   ],
   "source": [
    "y"
   ]
  },
  {
   "cell_type": "code",
   "execution_count": 27,
   "metadata": {
    "scrolled": true
   },
   "outputs": [
    {
     "data": {
      "text/plain": [
       "<matplotlib.image.AxesImage at 0x25a64565370>"
      ]
     },
     "execution_count": 27,
     "metadata": {},
     "output_type": "execute_result"
    },
    {
     "data": {
      "image/png": "[encoded data removed]",
      "text/plain": [
       "<Figure size 432x288 with 1 Axes>"
      ]
     },
     "metadata": {
      "needs_background": "light"
     },
     "output_type": "display_data"
    }
   ],
   "source": [
    "plt.imshow(images[y.argmax()])"
   ]
  },
  {
   "cell_type": "code",
   "execution_count": 28,
   "metadata": {},
   "outputs": [
    {
     "data": {
      "text/plain": [
       "<matplotlib.image.AxesImage at 0x25a645c8190>"
      ]
     },
     "execution_count": 28,
     "metadata": {},
     "output_type": "execute_result"
    },
    {
     "data": {
      "image/png": "[encoded data removed]",
      "text/plain": [
       "<Figure size 432x288 with 1 Axes>"
      ]
     },
     "metadata": {
      "needs_background": "light"
     },
     "output_type": "display_data"
    }
   ],
   "source": [
    "dbgimage = np.zeros((4, 4, 3))\n",
    "dbgimage[:,:,0] = 1\n",
    "dbgimage[:,:,2] = 1\n",
    "plt.imshow(dbgimage)"
   ]
  },
  {
   "cell_type": "code",
   "execution_count": 29,
   "metadata": {},
   "outputs": [
    {
     "data": {
      "text/plain": [
       "(100, 4, 4, 3)"
      ]
     },
     "execution_count": 29,
     "metadata": {},
     "output_type": "execute_result"
    }
   ],
   "source": [
    "images.shape"
   ]
  },
  {
   "cell_type": "code",
   "execution_count": 30,
   "metadata": {},
   "outputs": [
    {
     "data": {
      "text/plain": [
       "(4, 4, 3)"
      ]
     },
     "execution_count": 30,
     "metadata": {},
     "output_type": "execute_result"
    }
   ],
   "source": [
    "images[0].shape"
   ]
  },
  {
   "cell_type": "code",
   "execution_count": 31,
   "metadata": {},
   "outputs": [
    {
     "data": {
      "text/plain": [
       "(48,)"
      ]
     },
     "execution_count": 31,
     "metadata": {},
     "output_type": "execute_result"
    }
   ],
   "source": [
    "images[0].reshape(-1).shape"
   ]
  },
  {
   "cell_type": "code",
   "execution_count": 32,
   "metadata": {},
   "outputs": [
    {
     "data": {
      "text/plain": [
       "array([0, 1, 1, 0, 0, 1, 1, 1, 1, 0, 1, 0, 1, 1, 1, 0, 1, 1, 0, 0, 0, 1,\n",
       "       0, 0, 0, 1, 1, 1, 1, 1, 0, 0, 0, 0, 1, 1, 1, 0, 0, 1, 1, 0, 0, 1,\n",
       "       0, 1, 0, 1, 1, 1, 1, 0, 1, 1, 1, 0, 0, 1, 1, 0, 0, 0, 0, 0, 1, 0,\n",
       "       0, 1, 0, 0, 1, 1, 0, 0, 1, 0, 0, 0, 1, 1, 1, 1, 1, 0, 0, 0, 1, 0,\n",
       "       0, 0, 0, 0, 0, 0, 0, 0, 0, 0, 0, 0])"
      ]
     },
     "execution_count": 32,
     "metadata": {},
     "output_type": "execute_result"
    }
   ],
   "source": [
    "y"
   ]
  },
  {
   "cell_type": "code",
   "execution_count": 36,
   "metadata": {},
   "outputs": [
    {
     "data": {
      "text/plain": [
       "(100,)"
      ]
     },
     "execution_count": 36,
     "metadata": {},
     "output_type": "execute_result"
    }
   ],
   "source": [
    "y.shape"
   ]
  },
  {
   "cell_type": "code",
   "execution_count": 33,
   "metadata": {},
   "outputs": [],
   "source": [
    "# we have the dataset and it's visualized. now lets feed it into linear regression. \n",
    "# Let's just order all the values in this image in a line\n",
    "images_line = images.reshape(images.shape[0], -1)"
   ]
  },
  {
   "cell_type": "code",
   "execution_count": 34,
   "metadata": {},
   "outputs": [
    {
     "data": {
      "text/plain": [
       "(100, 48)"
      ]
     },
     "execution_count": 34,
     "metadata": {},
     "output_type": "execute_result"
    }
   ],
   "source": [
    "images_line.shape"
   ]
  },
  {
   "cell_type": "code",
   "execution_count": 38,
   "metadata": {},
   "outputs": [
    {
     "data": {
      "text/plain": [
       "array([-0.05, -0.01,  0.07, -0.23, -0.23, -0.11,  0.01, -0.2 , -0.18,\n",
       "       -0.11,  0.03, -0.  , -0.  , -0.15, -0.18, -0.09, -0.03, -0.45,\n",
       "       -0.42, -0.09, -0.12, -0.15, -0.16,  0.  ,  0.15, -0.07, -0.07,\n",
       "        0.03, -0.14, -0.44, -0.33, -0.21, -0.03,  0.02, -0.18,  0.12,\n",
       "        0.1 , -0.15, -0.09, -0.1 , -0.11, -0.35, -0.22, -0.04,  0.11,\n",
       "        0.09, -0.15,  0.18])"
      ]
     },
     "execution_count": 38,
     "metadata": {},
     "output_type": "execute_result"
    }
   ],
   "source": [
    "RegressionModel = Ridge().fit(images_line, y)\n",
    "\n",
    "#The coefficients are the ROI of each input feature on our output target\n",
    "coefs = RegressionModel.coef_.round(2)\n",
    "coefs"
   ]
  },
  {
   "cell_type": "code",
   "execution_count": null,
   "metadata": {},
   "outputs": [],
   "source": []
  }
 ],
 "metadata": {
  "kernelspec": {
   "display_name": "Python 3",
   "language": "python",
   "name": "python3"
  },
  "language_info": {
   "codemirror_mode": {
    "name": "ipython",
    "version": 3
   },
   "file_extension": ".py",
   "mimetype": "text/x-python",
   "name": "python",
   "nbconvert_exporter": "python",
   "pygments_lexer": "ipython3",
   "version": "3.8.5"
  }
 },
 "nbformat": 4,
 "nbformat_minor": 4
}
