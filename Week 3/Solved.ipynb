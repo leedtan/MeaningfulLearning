{
 "cells": [
  {
   "cell_type": "code",
   "execution_count": 1,
   "metadata": {},
   "outputs": [],
   "source": [
    "# Start by wrapping up last week's homework. \n",
    "# Look through some of the codingbat problems you struggled with"
   ]
  },
  {
   "cell_type": "code",
   "execution_count": 2,
   "metadata": {},
   "outputs": [],
   "source": [
    "# some of these examples are loosely based on \n",
    "# https://medium.com/datadriveninvestor/machine-learning-preface-ba69bca4701d\n",
    "# https://medium.com/datadriveninvestor/machine-learning-python-programming-introduction-for-business-people-10588e13ce9d\n",
    "# You can reference them for more thorough analysis"
   ]
  },
  {
   "cell_type": "code",
   "execution_count": 3,
   "metadata": {},
   "outputs": [],
   "source": [
    "# Let's start with a simple linear regression problem\n",
    "import numpy as np\n",
    "import pandas as pd\n",
    "from sklearn.linear_model import Ridge\n",
    "import matplotlib.pyplot as plt\n",
    "\n",
    "x1 = np.random.rand(20)\n",
    "x2 = np.random.rand(20)\n",
    "y = x1/2 - x2 + np.random.rand(20) * .1"
   ]
  },
  {
   "cell_type": "code",
   "execution_count": 4,
   "metadata": {},
   "outputs": [
    {
     "data": {
      "text/plain": [
       "array([ 0.51, -1.03])"
      ]
     },
     "execution_count": 4,
     "metadata": {},
     "output_type": "execute_result"
    }
   ],
   "source": [
    "# What do you think the coefients of the linear regression solution to this problem are?\n",
    "x = np.stack((x1, x2), 1)\n",
    "RegressionModel = Ridge(1e-10).fit(x, y)\n",
    "\n",
    "#The coefficients are the ROI of each input feature on our output target\n",
    "coefs = RegressionModel.coef_.round(2)\n",
    "coefs"
   ]
  },
  {
   "cell_type": "code",
   "execution_count": 5,
   "metadata": {},
   "outputs": [],
   "source": [
    "# Talk about the above results. make sure you understand them."
   ]
  },
  {
   "cell_type": "code",
   "execution_count": 6,
   "metadata": {},
   "outputs": [
    {
     "data": {
      "text/html": [
       "<div>\n",
       "<style scoped>\n",
       "    .dataframe tbody tr th:only-of-type {\n",
       "        vertical-align: middle;\n",
       "    }\n",
       "\n",
       "    .dataframe tbody tr th {\n",
       "        vertical-align: top;\n",
       "    }\n",
       "\n",
       "    .dataframe thead th {\n",
       "        text-align: right;\n",
       "    }\n",
       "</style>\n",
       "<table border=\"1\" class=\"dataframe\">\n",
       "  <thead>\n",
       "    <tr style=\"text-align: right;\">\n",
       "      <th></th>\n",
       "      <th>x1</th>\n",
       "      <th>x2</th>\n",
       "      <th>x3</th>\n",
       "      <th>x4</th>\n",
       "      <th>x5</th>\n",
       "      <th>y</th>\n",
       "    </tr>\n",
       "  </thead>\n",
       "  <tbody>\n",
       "    <tr>\n",
       "      <th>0</th>\n",
       "      <td>0.273665</td>\n",
       "      <td>0.366497</td>\n",
       "      <td>0.100372</td>\n",
       "      <td>0.523403</td>\n",
       "      <td>0.622377</td>\n",
       "      <td>0.187915</td>\n",
       "    </tr>\n",
       "    <tr>\n",
       "      <th>1</th>\n",
       "      <td>0.912437</td>\n",
       "      <td>0.964898</td>\n",
       "      <td>0.154650</td>\n",
       "      <td>0.873316</td>\n",
       "      <td>0.923485</td>\n",
       "      <td>0.519015</td>\n",
       "    </tr>\n",
       "    <tr>\n",
       "      <th>2</th>\n",
       "      <td>0.460151</td>\n",
       "      <td>0.526112</td>\n",
       "      <td>0.419617</td>\n",
       "      <td>0.757241</td>\n",
       "      <td>0.497726</td>\n",
       "      <td>0.268902</td>\n",
       "    </tr>\n",
       "    <tr>\n",
       "      <th>3</th>\n",
       "      <td>0.340940</td>\n",
       "      <td>0.438013</td>\n",
       "      <td>0.648998</td>\n",
       "      <td>0.714708</td>\n",
       "      <td>0.791473</td>\n",
       "      <td>0.214051</td>\n",
       "    </tr>\n",
       "    <tr>\n",
       "      <th>4</th>\n",
       "      <td>0.020920</td>\n",
       "      <td>0.117272</td>\n",
       "      <td>0.628738</td>\n",
       "      <td>0.670038</td>\n",
       "      <td>0.824977</td>\n",
       "      <td>0.056756</td>\n",
       "    </tr>\n",
       "  </tbody>\n",
       "</table>\n",
       "</div>"
      ],
      "text/plain": [
       "         x1        x2        x3        x4        x5         y\n",
       "0  0.273665  0.366497  0.100372  0.523403  0.622377  0.187915\n",
       "1  0.912437  0.964898  0.154650  0.873316  0.923485  0.519015\n",
       "2  0.460151  0.526112  0.419617  0.757241  0.497726  0.268902\n",
       "3  0.340940  0.438013  0.648998  0.714708  0.791473  0.214051\n",
       "4  0.020920  0.117272  0.628738  0.670038  0.824977  0.056756"
      ]
     },
     "execution_count": 6,
     "metadata": {},
     "output_type": "execute_result"
    }
   ],
   "source": [
    "# What a bout this scenario?\n",
    "NUM_SAMPLES = 200\n",
    "\n",
    "#Simulating data. x1 is random from 0 to 1\n",
    "x1 = np.random.rand(NUM_SAMPLES)\n",
    "#x2 is very correlated to x1, with small random fluctuations\n",
    "x2 = x1 + np.random.rand(NUM_SAMPLES)/10\n",
    "\n",
    "#x3-5 are random\n",
    "x3 = np.random.rand(NUM_SAMPLES)\n",
    "x4 = np.random.rand(NUM_SAMPLES)\n",
    "x5 = np.random.rand(NUM_SAMPLES)\n",
    "\n",
    "#y is generated by x1 - x2/2 + noise\n",
    "y = x1 - x2/2 + np.random.rand(NUM_SAMPLES)/10\n",
    "\n",
    "#Lets pack it all into a data frame. A data frame is similar to a SQL table, displayed below\n",
    "df = pd.DataFrame({'x1':x1, 'x2':x2,'x3':x3,'x4':x4,'x5':x5, 'y':y})\n",
    "\n",
    "df.head()"
   ]
  },
  {
   "cell_type": "code",
   "execution_count": 7,
   "metadata": {},
   "outputs": [],
   "source": [
    "# Looking at how y is calculated, do we think it will be positively or negatively correlated to x1 and x2?"
   ]
  },
  {
   "cell_type": "code",
   "execution_count": 8,
   "metadata": {},
   "outputs": [
    {
     "data": {
      "image/png": "[encoded data removed]",
      "text/plain": [
       "<Figure size 720x360 with 2 Axes>"
      ]
     },
     "metadata": {
      "needs_background": "light"
     },
     "output_type": "display_data"
    }
   ],
   "source": [
    "#Lets visualize the correlations between x1 vs Y and x2 vs Y\n",
    "plt.figure(figsize=(10,5))\n",
    "plt.subplot(1,2,1).scatter(x1,y)\n",
    "plt.title('x1 vs Y\\n correlation:' + str(np.corrcoef(x1, y)[0,1].round(4)))\n",
    "plt.subplot(1,2,2).scatter(x2,y)\n",
    "plt.title('x2 vs Y\\n correlation:' + str(np.corrcoef(x2, y)[0,1].round(4)))\n",
    "plt.show()"
   ]
  },
  {
   "cell_type": "code",
   "execution_count": 9,
   "metadata": {},
   "outputs": [],
   "source": [
    "# So do we think the regression coefficients will also both be positive?"
   ]
  },
  {
   "cell_type": "code",
   "execution_count": 10,
   "metadata": {},
   "outputs": [],
   "source": [
    "\n",
    "X = df[['x1', 'x2', 'x3', 'x4', 'x5']]\n",
    "Y = df['y']"
   ]
  },
  {
   "cell_type": "code",
   "execution_count": 11,
   "metadata": {},
   "outputs": [],
   "source": [
    "#Here we build a regression model using sklearn Ridge and fit it to our dataset\n",
    "RegressionModel = Ridge(1e-3).fit(X,Y)\n",
    "\n",
    "#The coefficients are the ROI of each input feature on our output target\n",
    "coefs = RegressionModel.coef_.round(2)\n"
   ]
  },
  {
   "cell_type": "code",
   "execution_count": 12,
   "metadata": {
    "scrolled": true
   },
   "outputs": [
    {
     "name": "stdout",
     "output_type": "stream",
     "text": [
      "Regression coefficients from Sklearn\n",
      "[('x1', 1.11), ('x2', -0.6), ('x3', 0.01), ('x4', 0.01), ('x5', 0.0)]\n"
     ]
    }
   ],
   "source": [
    "print('Regression coefficients from Sklearn')\n",
    "print(list(zip(['x1', 'x2', 'x3', 'x4', 'x5'], coefs)))"
   ]
  },
  {
   "cell_type": "code",
   "execution_count": 13,
   "metadata": {},
   "outputs": [],
   "source": [
    "# Discuss why this worked whereas correlation was misleading.\n",
    "# If we wanted the model to learn more precisely (x1: +1, x2: -.5), how could we change the dataset to help the model learn?"
   ]
  },
  {
   "cell_type": "code",
   "execution_count": 14,
   "metadata": {},
   "outputs": [],
   "source": [
    "# Design your own custom problem set via random simulation\n",
    "# Show that you can solve that problem set via ML and that the model\n",
    "# can learn some of the ground truths of the simulation"
   ]
  },
  {
   "cell_type": "code",
   "execution_count": 15,
   "metadata": {},
   "outputs": [],
   "source": [
    "n_data = 100\n",
    "n_features = 30\n",
    "x = np.random.rand(n_data, n_features)\n",
    "\n",
    "feature_impacts = np.zeros(n_features)\n",
    "feature_impacts[1] = 2\n",
    "feature_impacts[5] = 5\n",
    "feature_impacts[10] = -3\n",
    "y = x.dot(feature_impacts)"
   ]
  },
  {
   "cell_type": "code",
   "execution_count": 16,
   "metadata": {},
   "outputs": [],
   "source": [
    "# Check for the relationships we expect\n",
    "# change to if 1 to see the relationships\n",
    "if 0:\n",
    "    for i in range(len(feature_impacts)):\n",
    "        xi = x[:,i]\n",
    "        print(i, np.corrcoef(xi, y)[0,1].round(1))"
   ]
  },
  {
   "cell_type": "code",
   "execution_count": 17,
   "metadata": {},
   "outputs": [],
   "source": [
    "RegressionModel = Ridge().fit(x, y)\n",
    "\n",
    "#The coefficients are the ROI of each input feature on our output target\n",
    "coefs = RegressionModel.coef_.round(2)"
   ]
  },
  {
   "cell_type": "code",
   "execution_count": 18,
   "metadata": {},
   "outputs": [
    {
     "data": {
      "text/plain": [
       "array([ 1.76,  4.29, -2.66])"
      ]
     },
     "execution_count": 18,
     "metadata": {},
     "output_type": "execute_result"
    }
   ],
   "source": [
    "coefs[[1, 5, 10]]"
   ]
  },
  {
   "cell_type": "code",
   "execution_count": 19,
   "metadata": {},
   "outputs": [],
   "source": [
    "# Show that if you reduced regularization, the model would learn the features more accurately"
   ]
  },
  {
   "cell_type": "code",
   "execution_count": 20,
   "metadata": {},
   "outputs": [],
   "source": [
    "RegressionModel = Ridge(1e-10).fit(x, y)\n",
    "\n",
    "#The coefficients are the ROI of each input feature on our output target\n",
    "coefs = RegressionModel.coef_.round(2)"
   ]
  },
  {
   "cell_type": "code",
   "execution_count": 21,
   "metadata": {
    "scrolled": true
   },
   "outputs": [
    {
     "data": {
      "text/plain": [
       "array([ 2.,  5., -3.])"
      ]
     },
     "execution_count": 21,
     "metadata": {},
     "output_type": "execute_result"
    }
   ],
   "source": [
    "coefs[[1, 5, 10]]"
   ]
  },
  {
   "cell_type": "code",
   "execution_count": null,
   "metadata": {},
   "outputs": [],
   "source": [
    "# Potentially break here. The following section may be either in class, homework, or a following session."
   ]
  },
  {
   "cell_type": "code",
   "execution_count": 22,
   "metadata": {},
   "outputs": [],
   "source": [
    "# Images are complex objects with structure. Lets pretend we need to solve a problem with images.\n",
    "# We want to design a pickle detector, where a pickle is defined as any cell that is close to black\n",
    "# Above three cells which are <red, blue, green>. An image is either True or False based on if \n",
    "# they have a pickle or not.\n",
    "# Design a dataset to solve this problem, then train a model (using either numpy or tensorflow)\n",
    "# That solves it.\n",
    "# Over the following few weeks we will get tools that let us model structured problems\n",
    "# like these much more efficiently."
   ]
  },
  {
   "cell_type": "code",
   "execution_count": 23,
   "metadata": {},
   "outputs": [],
   "source": [
    "n_image = 100\n",
    "width = 10\n",
    "images = np.random.rand(n_image, width, width, 3) / 2 + .25\n",
    "y = np.random.randint(2, size = n_image)"
   ]
  },
  {
   "cell_type": "code",
   "execution_count": 24,
   "metadata": {},
   "outputs": [],
   "source": [
    "for i, yi in enumerate(y):\n",
    "    if yi:\n",
    "        loc_x = np.random.randint(width-1)\n",
    "        loc_y = np.random.randint(1, width-1)\n",
    "        images[i, loc_x, loc_y,:] = 0\n",
    "        images[i, loc_x+1, loc_y-1,:] = [1, 0, 0]\n",
    "        images[i, loc_x+1, loc_y,:] = [0, 1, 0]\n",
    "        images[i, loc_x+1, loc_y+1,:] = [0, 0, 1]"
   ]
  },
  {
   "cell_type": "code",
   "execution_count": 25,
   "metadata": {},
   "outputs": [
    {
     "data": {
      "text/plain": [
       "<matplotlib.image.AxesImage at 0x1774a856ac8>"
      ]
     },
     "execution_count": 25,
     "metadata": {},
     "output_type": "execute_result"
    },
    {
     "data": {
      "image/png": "[encoded data removed]",
      "text/plain": [
       "<Figure size 432x288 with 1 Axes>"
      ]
     },
     "metadata": {
      "needs_background": "light"
     },
     "output_type": "display_data"
    }
   ],
   "source": [
    "plt.imshow(images[y.argmax()])"
   ]
  },
  {
   "cell_type": "code",
   "execution_count": 26,
   "metadata": {},
   "outputs": [],
   "source": [
    "# we have the dataset and it's visualized. now lets feed it into linear regression. \n",
    "# Let's just order all the values in this image in a line\n",
    "images_line = images.reshape(images.shape[0], -1)"
   ]
  },
  {
   "cell_type": "code",
   "execution_count": 27,
   "metadata": {},
   "outputs": [
    {
     "data": {
      "text/plain": [
       "array([ 0.  , -0.03,  0.  ,  0.06, -0.03,  0.01, -0.13,  0.  ,  0.02,\n",
       "        0.14,  0.05, -0.02, -0.16, -0.  , -0.21, -0.03, -0.04, -0.13,\n",
       "        0.02,  0.04, -0.17, -0.19,  0.02,  0.1 ,  0.01,  0.08,  0.07,\n",
       "        0.02, -0.13, -0.02,  0.12, -0.05, -0.02, -0.1 ,  0.05,  0.08,\n",
       "       -0.15, -0.02, -0.2 , -0.04,  0.08, -0.15, -0.12, -0.04,  0.05,\n",
       "       -0.06,  0.04, -0.05, -0.21, -0.08,  0.18,  0.03, -0.16, -0.06,\n",
       "       -0.12, -0.08, -0.08,  0.09, -0.01,  0.04, -0.03,  0.07, -0.  ,\n",
       "       -0.13, -0.06, -0.06,  0.04,  0.01,  0.06, -0.17,  0.04, -0.2 ,\n",
       "       -0.2 ,  0.09, -0.05,  0.05,  0.04, -0.  , -0.09, -0.07, -0.11,\n",
       "       -0.06, -0.04, -0.14, -0.04, -0.03, -0.07,  0.12, -0.11,  0.02,\n",
       "        0.05, -0.01,  0.04, -0.09,  0.23, -0.09, -0.02, -0.  ,  0.02,\n",
       "       -0.16,  0.13, -0.19, -0.2 ,  0.03, -0.11, -0.02, -0.15, -0.05,\n",
       "       -0.09, -0.03, -0.08, -0.12,  0.02,  0.08,  0.02, -0.13,  0.01,\n",
       "       -0.09, -0.03,  0.06, -0.16,  0.15,  0.  , -0.09,  0.04,  0.04,\n",
       "       -0.1 , -0.08,  0.07, -0.09, -0.12, -0.04, -0.11, -0.07,  0.02,\n",
       "       -0.1 , -0.08, -0.01, -0.13, -0.15,  0.06, -0.11, -0.14,  0.01,\n",
       "        0.12, -0.11,  0.13,  0.2 ,  0.04,  0.1 ,  0.03,  0.03, -0.22,\n",
       "       -0.04,  0.01,  0.06,  0.03, -0.04,  0.06,  0.18, -0.19, -0.02,\n",
       "        0.01,  0.11, -0.09, -0.19, -0.02, -0.04, -0.22, -0.03, -0.16,\n",
       "        0.02, -0.03, -0.03,  0.  , -0.05, -0.03, -0.17,  0.09,  0.13,\n",
       "       -0.11,  0.07, -0.09,  0.01, -0.11, -0.12,  0.02, -0.01, -0.12,\n",
       "        0.05, -0.03, -0.08, -0.09,  0.04, -0.13,  0.1 , -0.2 , -0.01,\n",
       "        0.03, -0.06,  0.02, -0.1 , -0.  ,  0.06, -0.21, -0.1 ,  0.03,\n",
       "        0.06, -0.04,  0.06,  0.1 ,  0.15, -0.05, -0.1 , -0.04, -0.18,\n",
       "        0.04, -0.  , -0.06, -0.12, -0.29,  0.01, -0.1 ,  0.1 ,  0.  ,\n",
       "       -0.08,  0.06, -0.09, -0.06, -0.03,  0.03,  0.01, -0.03, -0.04,\n",
       "       -0.04,  0.06,  0.08, -0.07, -0.03,  0.05, -0.09, -0.14, -0.01,\n",
       "        0.04, -0.02,  0.01, -0.1 , -0.22, -0.11,  0.09, -0.07, -0.02,\n",
       "       -0.06, -0.03, -0.08,  0.04, -0.08,  0.02, -0.23, -0.03, -0.07,\n",
       "       -0.11, -0.07, -0.13, -0.01,  0.04,  0.03,  0.14, -0.06,  0.02,\n",
       "        0.08,  0.15, -0.14, -0.27, -0.03, -0.03,  0.01,  0.  , -0.12,\n",
       "       -0.04, -0.18, -0.08, -0.1 , -0.  , -0.11,  0.05, -0.07,  0.02,\n",
       "        0.06,  0.1 , -0.04, -0.02, -0.1 ,  0.09,  0.17,  0.1 ,  0.02,\n",
       "       -0.07,  0.01, -0.16])"
      ]
     },
     "execution_count": 27,
     "metadata": {},
     "output_type": "execute_result"
    }
   ],
   "source": [
    "RegressionModel = Ridge().fit(images_line, y)\n",
    "\n",
    "#The coefficients are the ROI of each input feature on our output target\n",
    "coefs = RegressionModel.coef_.round(2)\n",
    "coefs"
   ]
  },
  {
   "cell_type": "code",
   "execution_count": null,
   "metadata": {},
   "outputs": [],
   "source": []
  }
 ],
 "metadata": {
  "kernelspec": {
   "display_name": "Python 3",
   "language": "python",
   "name": "python3"
  },
  "language_info": {
   "codemirror_mode": {
    "name": "ipython",
    "version": 3
   },
   "file_extension": ".py",
   "mimetype": "text/x-python",
   "name": "python",
   "nbconvert_exporter": "python",
   "pygments_lexer": "ipython3",
   "version": "3.7.6"
  }
 },
 "nbformat": 4,
 "nbformat_minor": 4
}
