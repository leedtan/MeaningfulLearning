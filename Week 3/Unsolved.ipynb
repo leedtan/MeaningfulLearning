{
 "cells": [
  {
   "cell_type": "code",
   "execution_count": null,
   "metadata": {},
   "outputs": [],
   "source": [
    "# Start by wrapping up last week's homework. \n",
    "# Look through some of the codingbat problems you struggled with"
   ]
  },
  {
   "cell_type": "code",
   "execution_count": null,
   "metadata": {},
   "outputs": [],
   "source": [
    "# some of these examples are loosely based on \n",
    "# https://medium.com/datadriveninvestor/machine-learning-preface-ba69bca4701d\n",
    "# https://medium.com/datadriveninvestor/machine-learning-python-programming-introduction-for-business-people-10588e13ce9d\n",
    "# You can reference them for more thorough analysis"
   ]
  },
  {
   "cell_type": "code",
   "execution_count": 2,
   "metadata": {},
   "outputs": [],
   "source": [
    "# Let's start with a simple linear regression problem\n",
    "import numpy as np\n",
    "import pandas as pd\n",
    "from sklearn.linear_model import Ridge\n",
    "import matplotlib.pyplot as plt\n",
    "\n",
    "x1 = np.random.rand(20)\n",
    "x2 = np.random.rand(20)\n",
    "y = x1/2 - x2 + np.random.rand(20) * .1"
   ]
  },
  {
   "cell_type": "code",
   "execution_count": 2,
   "metadata": {},
   "outputs": [
    {
     "data": {
      "text/plain": [
       "array([ 0.51, -1.01])"
      ]
     },
     "execution_count": 2,
     "metadata": {},
     "output_type": "execute_result"
    }
   ],
   "source": [
    "# What do you think the coefients of the linear regression solution to this problem are?\n",
    "x = np.stack((x1, x2), 1)\n",
    "RegressionModel = Ridge(1e-10).fit(x, y)\n",
    "\n",
    "#The coefficients are the ROI of each input feature on our output target\n",
    "coefs = RegressionModel.coef_.round(2)\n",
    "coefs"
   ]
  },
  {
   "cell_type": "code",
   "execution_count": 3,
   "metadata": {},
   "outputs": [],
   "source": [
    "# Talk about the above results. make sure you understand them."
   ]
  },
  {
   "cell_type": "code",
   "execution_count": 4,
   "metadata": {},
   "outputs": [
    {
     "data": {
      "text/html": [
       "<div>\n",
       "<style scoped>\n",
       "    .dataframe tbody tr th:only-of-type {\n",
       "        vertical-align: middle;\n",
       "    }\n",
       "\n",
       "    .dataframe tbody tr th {\n",
       "        vertical-align: top;\n",
       "    }\n",
       "\n",
       "    .dataframe thead th {\n",
       "        text-align: right;\n",
       "    }\n",
       "</style>\n",
       "<table border=\"1\" class=\"dataframe\">\n",
       "  <thead>\n",
       "    <tr style=\"text-align: right;\">\n",
       "      <th></th>\n",
       "      <th>x1</th>\n",
       "      <th>x2</th>\n",
       "      <th>x3</th>\n",
       "      <th>x4</th>\n",
       "      <th>x5</th>\n",
       "      <th>y</th>\n",
       "    </tr>\n",
       "  </thead>\n",
       "  <tbody>\n",
       "    <tr>\n",
       "      <th>0</th>\n",
       "      <td>0.161551</td>\n",
       "      <td>0.204403</td>\n",
       "      <td>0.743003</td>\n",
       "      <td>0.603182</td>\n",
       "      <td>0.159283</td>\n",
       "      <td>0.112565</td>\n",
       "    </tr>\n",
       "    <tr>\n",
       "      <th>1</th>\n",
       "      <td>0.984799</td>\n",
       "      <td>1.034512</td>\n",
       "      <td>0.757378</td>\n",
       "      <td>0.556846</td>\n",
       "      <td>0.278350</td>\n",
       "      <td>0.500753</td>\n",
       "    </tr>\n",
       "    <tr>\n",
       "      <th>2</th>\n",
       "      <td>0.924725</td>\n",
       "      <td>0.953991</td>\n",
       "      <td>0.323287</td>\n",
       "      <td>0.790489</td>\n",
       "      <td>0.508103</td>\n",
       "      <td>0.498051</td>\n",
       "    </tr>\n",
       "    <tr>\n",
       "      <th>3</th>\n",
       "      <td>0.264779</td>\n",
       "      <td>0.267045</td>\n",
       "      <td>0.160907</td>\n",
       "      <td>0.491703</td>\n",
       "      <td>0.122899</td>\n",
       "      <td>0.213141</td>\n",
       "    </tr>\n",
       "    <tr>\n",
       "      <th>4</th>\n",
       "      <td>0.453573</td>\n",
       "      <td>0.512671</td>\n",
       "      <td>0.284348</td>\n",
       "      <td>0.434234</td>\n",
       "      <td>0.918229</td>\n",
       "      <td>0.210646</td>\n",
       "    </tr>\n",
       "  </tbody>\n",
       "</table>\n",
       "</div>"
      ],
      "text/plain": [
       "         x1        x2        x3        x4        x5         y\n",
       "0  0.161551  0.204403  0.743003  0.603182  0.159283  0.112565\n",
       "1  0.984799  1.034512  0.757378  0.556846  0.278350  0.500753\n",
       "2  0.924725  0.953991  0.323287  0.790489  0.508103  0.498051\n",
       "3  0.264779  0.267045  0.160907  0.491703  0.122899  0.213141\n",
       "4  0.453573  0.512671  0.284348  0.434234  0.918229  0.210646"
      ]
     },
     "execution_count": 4,
     "metadata": {},
     "output_type": "execute_result"
    }
   ],
   "source": [
    "# What a bout this scenario?\n",
    "NUM_SAMPLES = 200\n",
    "\n",
    "#Simulating data. x1 is random from 0 to 1\n",
    "x1 = np.random.rand(NUM_SAMPLES)\n",
    "#x2 is very correlated to x1, with small random fluctuations\n",
    "x2 = x1 + np.random.rand(NUM_SAMPLES)/10\n",
    "\n",
    "#x3-5 are random\n",
    "x3 = np.random.rand(NUM_SAMPLES)\n",
    "x4 = np.random.rand(NUM_SAMPLES)\n",
    "x5 = np.random.rand(NUM_SAMPLES)\n",
    "\n",
    "#y is generated by x1 - x2/2 + noise\n",
    "y = x1 - x2/2 + np.random.rand(NUM_SAMPLES)/10\n",
    "\n",
    "#Lets pack it all into a data frame. A data frame is similar to a SQL table, displayed below\n",
    "df = pd.DataFrame({'x1':x1, 'x2':x2,'x3':x3,'x4':x4,'x5':x5, 'y':y})\n",
    "\n",
    "df.head()"
   ]
  },
  {
   "cell_type": "code",
   "execution_count": 5,
   "metadata": {},
   "outputs": [],
   "source": [
    "# Looking at how y is calculated, do we think it will be positively or negatively correlated to x1 and x2?"
   ]
  },
  {
   "cell_type": "code",
   "execution_count": 6,
   "metadata": {},
   "outputs": [
    {
     "data": {
      "image/png": "[encoded data removed]",
      "text/plain": [
       "<Figure size 720x360 with 2 Axes>"
      ]
     },
     "metadata": {
      "needs_background": "light"
     },
     "output_type": "display_data"
    }
   ],
   "source": [
    "#Lets visualize the correlations between x1 vs Y and x2 vs Y\n",
    "plt.figure(figsize=(10,5))\n",
    "plt.subplot(1,2,1).scatter(x1,y)\n",
    "plt.title('x1 vs Y\\n correlation:' + str(np.corrcoef(x1, y)[0,1].round(4)))\n",
    "plt.subplot(1,2,2).scatter(x2,y)\n",
    "plt.title('x2 vs Y\\n correlation:' + str(np.corrcoef(x2, y)[0,1].round(4)))\n",
    "plt.show()"
   ]
  },
  {
   "cell_type": "code",
   "execution_count": 7,
   "metadata": {},
   "outputs": [],
   "source": [
    "# So do we think the regression coefficients will also both be positive?"
   ]
  },
  {
   "cell_type": "code",
   "execution_count": 8,
   "metadata": {},
   "outputs": [],
   "source": [
    "\n",
    "X = df[['x1', 'x2', 'x3', 'x4', 'x5']]\n",
    "Y = df['y']"
   ]
  },
  {
   "cell_type": "code",
   "execution_count": 40,
   "metadata": {},
   "outputs": [],
   "source": [
    "#Here we build a regression model using sklearn Ridge and fit it to our dataset\n",
    "RegressionModel = Ridge(1e-4).fit(X,Y)\n",
    "\n",
    "#The coefficients are the ROI of each input feature on our output target\n",
    "coefs = RegressionModel.coef_.round(2)\n"
   ]
  },
  {
   "cell_type": "code",
   "execution_count": 41,
   "metadata": {
    "scrolled": true
   },
   "outputs": [
    {
     "name": "stdout",
     "output_type": "stream",
     "text": [
      "Regression coefficients from Sklearn\n",
      "[('x1', 1.07), ('x2', -0.57), ('x3', 0.01), ('x4', -0.01), ('x5', -0.0)]\n"
     ]
    }
   ],
   "source": [
    "print('Regression coefficients from Sklearn')\n",
    "print(list(zip(['x1', 'x2', 'x3', 'x4', 'x5'], coefs)))"
   ]
  },
  {
   "cell_type": "code",
   "execution_count": 43,
   "metadata": {},
   "outputs": [],
   "source": [
    "n_data = 20\n",
    "n_features = 5\n",
    "x = np.random.rand(n_data, n_features)\n",
    "mults = np.random.rand(n_features)\n",
    "y = x.dot(mults)"
   ]
  },
  {
   "cell_type": "code",
   "execution_count": 44,
   "metadata": {},
   "outputs": [
    {
     "data": {
      "text/plain": [
       "array([0.52303878, 1.42311118, 0.64066065, 1.38650044, 1.48648585,\n",
       "       1.12523585, 1.1171503 , 1.02104956, 1.04557849, 0.99697493,\n",
       "       0.75558842, 1.13228964, 0.98148178, 1.43375204, 0.74568146,\n",
       "       1.49376215, 0.98480985, 1.07452662, 1.66936788, 0.8986495 ])"
      ]
     },
     "execution_count": 44,
     "metadata": {},
     "output_type": "execute_result"
    }
   ],
   "source": [
    "y"
   ]
  },
  {
   "cell_type": "code",
   "execution_count": 49,
   "metadata": {},
   "outputs": [
    {
     "data": {
      "text/plain": [
       "2.0018184379155306"
      ]
     },
     "execution_count": 49,
     "metadata": {},
     "output_type": "execute_result"
    }
   ],
   "source": [
    "RegressionModel = Ridge(1e-3).fit(X,Y)\n",
    "\n",
    "#The coefficients are the ROI of each input feature on our output target\n",
    "coefs = RegressionModel.coef_.round(2)\n",
    "np.abs(coefs - mults).sum()"
   ]
  },
  {
   "cell_type": "code",
   "execution_count": 46,
   "metadata": {},
   "outputs": [
    {
     "data": {
      "text/plain": [
       "2.0018184379155306"
      ]
     },
     "execution_count": 46,
     "metadata": {},
     "output_type": "execute_result"
    }
   ],
   "source": [
    "np.abs(coefs - mults).sum()"
   ]
  },
  {
   "cell_type": "raw",
   "metadata": {},
   "source": [
    "mults.round(2)"
   ]
  },
  {
   "cell_type": "code",
   "execution_count": 48,
   "metadata": {},
   "outputs": [
    {
     "data": {
      "text/plain": [
       "array([ 1.06, -0.56,  0.01, -0.01, -0.  ])"
      ]
     },
     "execution_count": 48,
     "metadata": {},
     "output_type": "execute_result"
    }
   ],
   "source": [
    "coefs"
   ]
  },
  {
   "cell_type": "code",
   "execution_count": 1,
   "metadata": {},
   "outputs": [],
   "source": [
    "# Discuss why this worked whereas correlation was misleading.\n",
    "# If we wanted the model to learn more precisely (x1: +1, x2: -.5), how could we change the dataset to help the model learn?"
   ]
  },
  {
   "cell_type": "code",
   "execution_count": null,
   "metadata": {},
   "outputs": [],
   "source": [
    "# Design your own custom problem set via random simulation\n",
    "# Show that you can solve that problem set via ML and that the model\n",
    "# can learn some of the ground truths of the simulation"
   ]
  },
  {
   "cell_type": "code",
   "execution_count": 114,
   "metadata": {},
   "outputs": [],
   "source": [
    "n_image = 1000\n",
    "width = 10\n",
    "images = np.random.rand(n_image, width, width, 3) /2  + .1\n",
    "y = np.random.randint(2, size = n_image)"
   ]
  },
  {
   "cell_type": "code",
   "execution_count": 115,
   "metadata": {},
   "outputs": [],
   "source": [
    "for i, yi in enumerate(y):\n",
    "    if yi:\n",
    "        loc_x = np.random.randint(width-1)\n",
    "        loc_y = np.random.randint(1, width-1)\n",
    "        images[i, loc_x, loc_y,:] = 0\n",
    "        images[i, loc_x+1, loc_y-1,:] = [1, 0, 0]\n",
    "        images[i, loc_x+1, loc_y,:] = [0, 1, 0]\n",
    "        images[i, loc_x+1, loc_y+1,:] = [0, 0, 1]"
   ]
  },
  {
   "cell_type": "code",
   "execution_count": 116,
   "metadata": {
    "scrolled": true
   },
   "outputs": [
    {
     "data": {
      "text/plain": [
       "<matplotlib.image.AxesImage at 0x26cef51cfa0>"
      ]
     },
     "execution_count": 116,
     "metadata": {},
     "output_type": "execute_result"
    },
    {
     "data": {
      "image/png": "[encoded data removed]",
      "text/plain": [
       "<Figure size 432x288 with 1 Axes>"
      ]
     },
     "metadata": {
      "needs_background": "light"
     },
     "output_type": "display_data"
    }
   ],
   "source": [
    "plt.imshow(images[y.argmax()])"
   ]
  },
  {
   "cell_type": "code",
   "execution_count": 117,
   "metadata": {},
   "outputs": [
    {
     "data": {
      "text/plain": [
       "(10, 10, 3)"
      ]
     },
     "execution_count": 117,
     "metadata": {},
     "output_type": "execute_result"
    }
   ],
   "source": [
    "images.shape\n",
    "images[0].shape"
   ]
  },
  {
   "cell_type": "code",
   "execution_count": 120,
   "metadata": {},
   "outputs": [],
   "source": [
    "images_line = images.reshape(images.shape[0], -1)"
   ]
  },
  {
   "cell_type": "code",
   "execution_count": 125,
   "metadata": {},
   "outputs": [
    {
     "data": {
      "text/plain": [
       "array([[0.347255  , 0.47136333, 0.31576076, ..., 0.1927163 , 0.41455907,\n",
       "        0.31152024],\n",
       "       [0.15079076, 0.20581968, 0.54105128, ..., 0.13619825, 0.35550065,\n",
       "        0.54586464],\n",
       "       [0.35175071, 0.15855023, 0.58330059, ..., 0.45639127, 0.17665476,\n",
       "        0.39374651],\n",
       "       ...,\n",
       "       [0.23619662, 0.23782202, 0.54703034, ..., 0.51534932, 0.2937425 ,\n",
       "        0.55953931],\n",
       "       [0.43759601, 0.32538815, 0.3291184 , ..., 0.52509644, 0.15068832,\n",
       "        0.46169692],\n",
       "       [0.53022864, 0.49740969, 0.36897427, ..., 0.33981142, 0.52817919,\n",
       "        0.41336382]])"
      ]
     },
     "execution_count": 125,
     "metadata": {},
     "output_type": "execute_result"
    }
   ],
   "source": [
    "images_line"
   ]
  },
  {
   "cell_type": "code",
   "execution_count": 121,
   "metadata": {},
   "outputs": [
    {
     "data": {
      "text/plain": [
       "array([ 0.07, -0.07,  0.14, -0.02, -0.11, -0.07, -0.21,  0.08, -0.  ,\n",
       "       -0.  , -0.02, -0.01, -0.1 , -0.13, -0.23, -0.1 ,  0.04, -0.12,\n",
       "       -0.1 , -0.2 , -0.15, -0.07, -0.11, -0.17, -0.05,  0.07, -0.04,\n",
       "       -0.05,  0.07, -0.  ,  0.08, -0.1 , -0.22, -0.09, -0.06, -0.12,\n",
       "        0.11,  0.05, -0.01,  0.  ,  0.1 , -0.19, -0.23, -0.21, -0.16,\n",
       "        0.16, -0.07,  0.01, -0.17, -0.08,  0.06, -0.06, -0.16,  0.02,\n",
       "       -0.16, -0.08, -0.17, -0.23, -0.12, -0.02,  0.19,  0.03, -0.23,\n",
       "        0.14, -0.03,  0.01, -0.1 , -0.02, -0.1 , -0.27, -0.05, -0.1 ,\n",
       "       -0.02, -0.03, -0.17,  0.02, -0.1 , -0.09,  0.16, -0.03,  0.08,\n",
       "       -0.25, -0.25, -0.11, -0.09, -0.05,  0.06,  0.01, -0.18,  0.17,\n",
       "        0.18,  0.07, -0.02,  0.11, -0.1 , -0.27,  0.12,  0.  ,  0.14,\n",
       "       -0.03, -0.  ,  0.07, -0.26,  0.06,  0.08, -0.06, -0.14,  0.  ,\n",
       "        0.06,  0.14,  0.04, -0.09,  0.  , -0.04,  0.06, -0.06,  0.07,\n",
       "       -0.15,  0.02,  0.19,  0.16, -0.14,  0.11, -0.05, -0.08, -0.26,\n",
       "       -0.2 , -0.14, -0.03, -0.1 , -0.08,  0.  ,  0.04, -0.14, -0.21,\n",
       "       -0.03,  0.  , -0.19, -0.09,  0.  ,  0.03,  0.03, -0.14, -0.06,\n",
       "       -0.3 , -0.21, -0.01, -0.05, -0.08,  0.23,  0.02,  0.11, -0.15,\n",
       "        0.05, -0.13, -0.04,  0.03, -0.25, -0.08,  0.02, -0.14,  0.08,\n",
       "        0.17, -0.26,  0.13, -0.09, -0.3 ,  0.04, -0.1 , -0.22,  0.02,\n",
       "       -0.11, -0.17, -0.14, -0.12, -0.03,  0.  ,  0.  ,  0.04,  0.14,\n",
       "       -0.01,  0.15, -0.18, -0.03,  0.07, -0.15, -0.03, -0.11, -0.09,\n",
       "       -0.03, -0.01, -0.12, -0.03, -0.27, -0.01, -0.03, -0.02, -0.17,\n",
       "        0.05, -0.19,  0.16, -0.17, -0.3 , -0.09, -0.16, -0.03, -0.05,\n",
       "       -0.15,  0.15,  0.04,  0.01,  0.03, -0.02,  0.12, -0.07, -0.23,\n",
       "       -0.09, -0.02, -0.03, -0.08,  0.03, -0.1 , -0.1 , -0.07, -0.03,\n",
       "       -0.04, -0.03,  0.01, -0.04,  0.04,  0.07, -0.14, -0.13,  0.09,\n",
       "       -0.32,  0.02,  0.07, -0.1 ,  0.07,  0.06, -0.1 , -0.08, -0.2 ,\n",
       "       -0.01,  0.07, -0.13, -0.31, -0.06, -0.1 ,  0.14, -0.22, -0.1 ,\n",
       "       -0.29, -0.14,  0.05, -0.05,  0.1 ,  0.03, -0.04, -0.12,  0.03,\n",
       "       -0.02, -0.06, -0.16, -0.32,  0.07, -0.01, -0.15,  0.01, -0.05,\n",
       "       -0.02, -0.15,  0.04, -0.07,  0.11, -0.04, -0.17,  0.13, -0.  ,\n",
       "        0.05,  0.04,  0.03,  0.08,  0.06,  0.19,  0.07, -0.1 , -0.09,\n",
       "       -0.14,  0.02,  0.07,  0.04,  0.1 , -0.06, -0.18, -0.1 ,  0.14,\n",
       "       -0.12, -0.13, -0.09])"
      ]
     },
     "execution_count": 121,
     "metadata": {},
     "output_type": "execute_result"
    }
   ],
   "source": [
    "Model = Ridge().fit(images_line, y)\n",
    "coefs = Model.coef_.round(2)\n",
    "coefs"
   ]
  },
  {
   "cell_type": "code",
   "execution_count": 122,
   "metadata": {},
   "outputs": [
    {
     "data": {
      "text/plain": [
       "0.798"
      ]
     },
     "execution_count": 122,
     "metadata": {},
     "output_type": "execute_result"
    }
   ],
   "source": [
    "((Model.predict(images_line).round(2)> .5)==y).mean()"
   ]
  },
  {
   "cell_type": "code",
   "execution_count": 123,
   "metadata": {},
   "outputs": [],
   "source": [
    "# Show that if you reduced regularization, the model would learn the features more accurately\n",
    "# What else could we change about the setup to help the model learn more accurately?"
   ]
  },
  {
   "cell_type": "code",
   "execution_count": null,
   "metadata": {},
   "outputs": [],
   "source": [
    "# Potentially break here. The following section may be either in class, homework, or a following session."
   ]
  },
  {
   "cell_type": "code",
   "execution_count": null,
   "metadata": {},
   "outputs": [],
   "source": [
    "# Images are complex objects with structure. Lets pretend we need to solve a problem with images.\n",
    "# We want to design a pickle detector, where a pickle is defined as any cell that is close to black\n",
    "# Above three cells which are <red, blue, green>. An image is either True or False based on if \n",
    "# they have a pickle or not.\n",
    "# Design a dataset to solve this problem.\n",
    "# Visualize some of the images to make sure they are formed correctly.\n",
    "# train a model using scikit-learn that solves it.\n",
    "# Over the following few weeks we will get tools that let us model structured problems\n",
    "# like these much more efficiently."
   ]
  },
  {
   "cell_type": "code",
   "execution_count": 124,
   "metadata": {},
   "outputs": [],
   "source": [
    "def make_data(n_image = 1000, width = 10):\n",
    "\n",
    "    images = np.random.rand(n_image, width, width, 3) /2  + .1\n",
    "    y = np.random.randint(2, size = n_image)\n",
    "\n",
    "    for i, yi in enumerate(y):\n",
    "        if yi:\n",
    "            loc_x = np.random.randint(width-1)\n",
    "            loc_y = np.random.randint(1, width-1)\n",
    "            images[i, loc_x, loc_y,:] = 0\n",
    "            images[i, loc_x+1, loc_y-1,:] = [1, 0, 0]\n",
    "            images[i, loc_x+1, loc_y,:] = [0, 1, 0]\n",
    "            images[i, loc_x+1, loc_y+1,:] = [0, 0, 1]\n",
    "                        \n",
    "    return images"
   ]
  },
  {
   "cell_type": "code",
   "execution_count": null,
   "metadata": {},
   "outputs": [],
   "source": [
    "        \n",
    "images_line = images.reshape(images.shape[0], -1)\n",
    "\n",
    "\n",
    "Model = Ridge().fit(images_line, y)\n",
    "\n",
    "\n",
    "((Model.predict(images_line).round(2)> .5)==y).mean()"
   ]
  }
 ],
 "metadata": {
  "kernelspec": {
   "display_name": "Python 3",
   "language": "python",
   "name": "python3"
  },
  "language_info": {
   "codemirror_mode": {
    "name": "ipython",
    "version": 3
   },
   "file_extension": ".py",
   "mimetype": "text/x-python",
   "name": "python",
   "nbconvert_exporter": "python",
   "pygments_lexer": "ipython3",
   "version": "3.8.5"
  }
 },
 "nbformat": 4,
 "nbformat_minor": 4
}
