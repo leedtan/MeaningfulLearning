{
 "cells": [
  {
   "cell_type": "code",
   "execution_count": 1,
   "metadata": {},
   "outputs": [],
   "source": [
    "# Start by wrapping up last week's homework. \n",
    "# Look through some of the codingbat problems you struggled with"
   ]
  },
  {
   "cell_type": "code",
   "execution_count": null,
   "metadata": {},
   "outputs": [],
   "source": [
    "# Fundamentals of Linear Regression:\n",
    "# https://medium.com/datadriveninvestor/machine-learning-preface-ba69bca4701d\n",
    "# When directed, go through \n",
    "# https://medium.com/datadriveninvestor/machine-learning-python-programming-introduction-for-business-people-10588e13ce9d"
   ]
  },
  {
   "cell_type": "code",
   "execution_count": 2,
   "metadata": {},
   "outputs": [],
   "source": [
    "# Design your own custom problem set via random simulation\n",
    "# Show that you can solve that problem set via ML and that the model\n",
    "# can learn some of the ground truths of the simulation"
   ]
  },
  {
   "cell_type": "code",
   "execution_count": null,
   "metadata": {},
   "outputs": [],
   "source": [
    "# Show that if you reduced regularization, the model would learn the features more accurately"
   ]
  },
  {
   "cell_type": "code",
   "execution_count": null,
   "metadata": {},
   "outputs": [],
   "source": [
    "# Images are complex objects with structure. Lets pretend we need to solve a problem with images.\n",
    "# We want to design a pickle detector, where a pickle is defined as any cell that is close to black\n",
    "# Above three cells which are <red, blue, green>. An image is either True or False based on if \n",
    "# they have a pickle or not.\n",
    "# Design a dataset to solve this problem.\n",
    "# Visualize some of the images to make sure they are formed correctly.\n",
    "# train a model (using either numpy, scikit-learn or tensorflow)\n",
    "# That solves it.\n",
    "# Over the following few weeks we will get tools that let us model structured problems\n",
    "# like these much more efficiently."
   ]
  },
  {
   "cell_type": "code",
   "execution_count": null,
   "metadata": {},
   "outputs": [],
   "source": []
  }
 ],
 "metadata": {
  "kernelspec": {
   "display_name": "Python 3",
   "language": "python",
   "name": "python3"
  },
  "language_info": {
   "codemirror_mode": {
    "name": "ipython",
    "version": 3
   },
   "file_extension": ".py",
   "mimetype": "text/x-python",
   "name": "python",
   "nbconvert_exporter": "python",
   "pygments_lexer": "ipython3",
   "version": "3.7.6"
  }
 },
 "nbformat": 4,
 "nbformat_minor": 4
}
